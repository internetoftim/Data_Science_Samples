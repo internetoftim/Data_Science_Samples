{
  "nbformat": 4,
  "nbformat_minor": 0,
  "metadata": {
    "colab": {
      "name": "Fantasy Points Prediction.ipynb",
      "provenance": [],
      "collapsed_sections": [],
      "toc_visible": true,
      "include_colab_link": true
    },
    "kernelspec": {
      "name": "python3",
      "display_name": "Python 3"
    }
  },
  "cells": [
    {
      "cell_type": "markdown",
      "metadata": {
        "id": "view-in-github",
        "colab_type": "text"
      },
      "source": [
        "<a href=\"https://colab.research.google.com/github/timotdsantos/Data_Science_Samples/blob/master/Fantasy_Points_Prediction.ipynb\" target=\"_parent\"><img src=\"https://colab.research.google.com/assets/colab-badge.svg\" alt=\"Open In Colab\"/></a>"
      ]
    },
    {
      "cell_type": "markdown",
      "metadata": {
        "id": "zwwEYJ3ctMNu"
      },
      "source": [
        "## Setup the Notebook"
      ]
    },
    {
      "cell_type": "code",
      "metadata": {
        "id": "i5Lf20mgtKsV"
      },
      "source": [
        "!pip install PyDrive\n",
        "!git clone https://github.com/timotdsantos/SportsPredict.git\n"
      ],
      "execution_count": null,
      "outputs": []
    },
    {
      "cell_type": "code",
      "metadata": {
        "id": "mSksBB3DhfsK"
      },
      "source": [
        "# Dependencies\n",
        "import numpy as np\n",
        "import pandas as pd\n",
        "import matplotlib.pyplot as plt\n",
        "import seaborn as sns\n",
        "import math\n",
        "import os\n",
        "%matplotlib inline\n",
        "import matplotlib.pyplot as plt\n",
        "\n",
        "from sklearn.model_selection import train_test_split\n",
        "from sklearn.preprocessing import LabelEncoder, StandardScaler\n",
        "from keras.utils import to_categorical\n",
        "\n",
        "from keras.models import Sequential\n",
        "from keras.layers import Dense\n",
        "from keras.wrappers.scikit_learn import KerasRegressor\n",
        "from sklearn.model_selection import cross_val_score\n",
        "from sklearn.model_selection import KFold\n",
        "from sklearn.preprocessing import StandardScaler\n",
        "from sklearn.pipeline import Pipeline\n",
        "from sklearn.model_selection import LeaveOneOut\n",
        "from sklearn.model_selection import cross_val_predict\n"
      ],
      "execution_count": null,
      "outputs": []
    },
    {
      "cell_type": "code",
      "metadata": {
        "id": "mM7jSrz7kW25"
      },
      "source": [
        "os.chdir('SportsPredict')\n"
      ],
      "execution_count": null,
      "outputs": []
    },
    {
      "cell_type": "code",
      "metadata": {
        "id": "ZMlpfp-ekzil",
        "colab": {
          "base_uri": "https://localhost:8080/",
          "height": 382
        },
        "outputId": "26c2f517-b01b-4e13-fff7-7e825c7bac39"
      },
      "source": [
        "rb = pd.read_csv('rb_gb_copy.csv', index_col=0)\n",
        "display(rb.head())\n",
        "display(rb.columns)"
      ],
      "execution_count": null,
      "outputs": [
        {
          "output_type": "display_data",
          "data": {
            "text/html": [
              "<div>\n",
              "<style scoped>\n",
              "    .dataframe tbody tr th:only-of-type {\n",
              "        vertical-align: middle;\n",
              "    }\n",
              "\n",
              "    .dataframe tbody tr th {\n",
              "        vertical-align: top;\n",
              "    }\n",
              "\n",
              "    .dataframe thead th {\n",
              "        text-align: right;\n",
              "    }\n",
              "</style>\n",
              "<table border=\"1\" class=\"dataframe\">\n",
              "  <thead>\n",
              "    <tr style=\"text-align: right;\">\n",
              "      <th></th>\n",
              "      <th>Vegas_Pts</th>\n",
              "      <th>Vegas_Spread</th>\n",
              "      <th>DEf_Pass</th>\n",
              "      <th>DEF_Rush</th>\n",
              "      <th>DEF_DvP</th>\n",
              "      <th>L3</th>\n",
              "      <th>S</th>\n",
              "      <th>P</th>\n",
              "      <th>RZ</th>\n",
              "      <th>YPA</th>\n",
              "      <th>...</th>\n",
              "      <th>Targets_S</th>\n",
              "      <th>Targets_P</th>\n",
              "      <th>Targets_RZ</th>\n",
              "      <th>Targets_YPT</th>\n",
              "      <th>FP_L3</th>\n",
              "      <th>FP_S</th>\n",
              "      <th>FP_F</th>\n",
              "      <th>FP_C</th>\n",
              "      <th>PTS</th>\n",
              "      <th>GAB</th>\n",
              "    </tr>\n",
              "    <tr>\n",
              "      <th>Player Name</th>\n",
              "      <th></th>\n",
              "      <th></th>\n",
              "      <th></th>\n",
              "      <th></th>\n",
              "      <th></th>\n",
              "      <th></th>\n",
              "      <th></th>\n",
              "      <th></th>\n",
              "      <th></th>\n",
              "      <th></th>\n",
              "      <th></th>\n",
              "      <th></th>\n",
              "      <th></th>\n",
              "      <th></th>\n",
              "      <th></th>\n",
              "      <th></th>\n",
              "      <th></th>\n",
              "      <th></th>\n",
              "      <th></th>\n",
              "      <th></th>\n",
              "      <th></th>\n",
              "    </tr>\n",
              "  </thead>\n",
              "  <tbody>\n",
              "    <tr>\n",
              "      <th>1</th>\n",
              "      <td>30.0</td>\n",
              "      <td>8.0</td>\n",
              "      <td>0.09</td>\n",
              "      <td>-0.10</td>\n",
              "      <td>0.14</td>\n",
              "      <td>22.3</td>\n",
              "      <td>21.5</td>\n",
              "      <td>21.0</td>\n",
              "      <td>6.2</td>\n",
              "      <td>4.8</td>\n",
              "      <td>...</td>\n",
              "      <td>5.0</td>\n",
              "      <td>5.4</td>\n",
              "      <td>1.8</td>\n",
              "      <td>8.2</td>\n",
              "      <td>32.8</td>\n",
              "      <td>31.0</td>\n",
              "      <td>25.8</td>\n",
              "      <td>36.2</td>\n",
              "      <td>30.6</td>\n",
              "      <td>G</td>\n",
              "    </tr>\n",
              "    <tr>\n",
              "      <th>2</th>\n",
              "      <td>21.0</td>\n",
              "      <td>1.0</td>\n",
              "      <td>-0.08</td>\n",
              "      <td>-0.17</td>\n",
              "      <td>-0.20</td>\n",
              "      <td>23.0</td>\n",
              "      <td>19.5</td>\n",
              "      <td>19.4</td>\n",
              "      <td>2.3</td>\n",
              "      <td>5.0</td>\n",
              "      <td>...</td>\n",
              "      <td>5.0</td>\n",
              "      <td>4.3</td>\n",
              "      <td>0.8</td>\n",
              "      <td>5.5</td>\n",
              "      <td>24.7</td>\n",
              "      <td>21.7</td>\n",
              "      <td>13.9</td>\n",
              "      <td>29.5</td>\n",
              "      <td>3.7</td>\n",
              "      <td>B</td>\n",
              "    </tr>\n",
              "    <tr>\n",
              "      <th>3</th>\n",
              "      <td>25.5</td>\n",
              "      <td>-6.0</td>\n",
              "      <td>0.33</td>\n",
              "      <td>0.17</td>\n",
              "      <td>0.48</td>\n",
              "      <td>18.0</td>\n",
              "      <td>17.8</td>\n",
              "      <td>16.9</td>\n",
              "      <td>3.0</td>\n",
              "      <td>4.7</td>\n",
              "      <td>...</td>\n",
              "      <td>4.8</td>\n",
              "      <td>5.1</td>\n",
              "      <td>0.5</td>\n",
              "      <td>5.2</td>\n",
              "      <td>16.2</td>\n",
              "      <td>18.6</td>\n",
              "      <td>11.9</td>\n",
              "      <td>25.4</td>\n",
              "      <td>8.1</td>\n",
              "      <td>B</td>\n",
              "    </tr>\n",
              "    <tr>\n",
              "      <th>4</th>\n",
              "      <td>20.0</td>\n",
              "      <td>-5.0</td>\n",
              "      <td>0.06</td>\n",
              "      <td>-0.27</td>\n",
              "      <td>-0.13</td>\n",
              "      <td>17.7</td>\n",
              "      <td>14.2</td>\n",
              "      <td>12.6</td>\n",
              "      <td>1.6</td>\n",
              "      <td>4.9</td>\n",
              "      <td>...</td>\n",
              "      <td>8.0</td>\n",
              "      <td>8.1</td>\n",
              "      <td>0.8</td>\n",
              "      <td>6.0</td>\n",
              "      <td>19.4</td>\n",
              "      <td>20.7</td>\n",
              "      <td>13.6</td>\n",
              "      <td>27.9</td>\n",
              "      <td>14.0</td>\n",
              "      <td>A</td>\n",
              "    </tr>\n",
              "    <tr>\n",
              "      <th>5</th>\n",
              "      <td>23.3</td>\n",
              "      <td>-2.5</td>\n",
              "      <td>-0.27</td>\n",
              "      <td>-0.24</td>\n",
              "      <td>-0.44</td>\n",
              "      <td>13.7</td>\n",
              "      <td>12.4</td>\n",
              "      <td>10.1</td>\n",
              "      <td>4.2</td>\n",
              "      <td>4.8</td>\n",
              "      <td>...</td>\n",
              "      <td>10.2</td>\n",
              "      <td>6.8</td>\n",
              "      <td>3.0</td>\n",
              "      <td>6.9</td>\n",
              "      <td>29.3</td>\n",
              "      <td>30.4</td>\n",
              "      <td>13.2</td>\n",
              "      <td>47.6</td>\n",
              "      <td>14.5</td>\n",
              "      <td>A</td>\n",
              "    </tr>\n",
              "  </tbody>\n",
              "</table>\n",
              "<p>5 rows × 21 columns</p>\n",
              "</div>"
            ],
            "text/plain": [
              "             Vegas_Pts  Vegas_Spread  DEf_Pass  DEF_Rush  DEF_DvP    L3     S  \\\n",
              "Player Name                                                                     \n",
              "1                 30.0           8.0      0.09     -0.10     0.14  22.3  21.5   \n",
              "2                 21.0           1.0     -0.08     -0.17    -0.20  23.0  19.5   \n",
              "3                 25.5          -6.0      0.33      0.17     0.48  18.0  17.8   \n",
              "4                 20.0          -5.0      0.06     -0.27    -0.13  17.7  14.2   \n",
              "5                 23.3          -2.5     -0.27     -0.24    -0.44  13.7  12.4   \n",
              "\n",
              "                P   RZ  YPA ...   Targets_S  Targets_P  Targets_RZ  \\\n",
              "Player Name                 ...                                      \n",
              "1            21.0  6.2  4.8 ...         5.0        5.4         1.8   \n",
              "2            19.4  2.3  5.0 ...         5.0        4.3         0.8   \n",
              "3            16.9  3.0  4.7 ...         4.8        5.1         0.5   \n",
              "4            12.6  1.6  4.9 ...         8.0        8.1         0.8   \n",
              "5            10.1  4.2  4.8 ...        10.2        6.8         3.0   \n",
              "\n",
              "             Targets_YPT  FP_L3  FP_S  FP_F  FP_C   PTS  GAB  \n",
              "Player Name                                                   \n",
              "1                    8.2   32.8  31.0  25.8  36.2  30.6    G  \n",
              "2                    5.5   24.7  21.7  13.9  29.5   3.7    B  \n",
              "3                    5.2   16.2  18.6  11.9  25.4   8.1    B  \n",
              "4                    6.0   19.4  20.7  13.6  27.9  14.0    A  \n",
              "5                    6.9   29.3  30.4  13.2  47.6  14.5    A  \n",
              "\n",
              "[5 rows x 21 columns]"
            ]
          },
          "metadata": {
            "tags": []
          }
        },
        {
          "output_type": "display_data",
          "data": {
            "text/plain": [
              "Index(['Vegas_Pts', 'Vegas_Spread', 'DEf_Pass', 'DEF_Rush', 'DEF_DvP', 'L3',\n",
              "       'S', 'P', 'RZ', 'YPA', 'Targets_L3', 'Targets_S', 'Targets_P',\n",
              "       'Targets_RZ', 'Targets_YPT', 'FP_L3', 'FP_S', 'FP_F', 'FP_C', 'PTS',\n",
              "       'GAB'],\n",
              "      dtype='object')"
            ]
          },
          "metadata": {
            "tags": []
          }
        }
      ]
    },
    {
      "cell_type": "code",
      "metadata": {
        "id": "PZZE4iQ3k5vu",
        "colab": {
          "base_uri": "https://localhost:8080/",
          "height": 34
        },
        "outputId": "b0f53d46-43d9-48fa-ab15-f47d4cbe7304"
      },
      "source": [
        "X = rb.drop([\"GAB\"], axis=1)\n",
        "y = rb[\"GAB\"]\n",
        "print(X.shape, y.shape)"
      ],
      "execution_count": null,
      "outputs": [
        {
          "output_type": "stream",
          "text": [
            "(24, 20) (24,)\n"
          ],
          "name": "stdout"
        }
      ]
    },
    {
      "cell_type": "code",
      "metadata": {
        "id": "4dEYdaypk8Zd",
        "colab": {
          "base_uri": "https://localhost:8080/",
          "height": 371
        },
        "outputId": "1c49bbb3-80a1-4f41-9123-d00cfca4bc81"
      },
      "source": [
        "X_pts = X.drop(\"PTS\",axis=1)\n",
        "Y_pts = X[\"PTS\"]\n",
        "\n",
        "display(X_pts.head())\n",
        "display(X_pts.shape)\n",
        "display(Y_pts.head())"
      ],
      "execution_count": null,
      "outputs": [
        {
          "output_type": "display_data",
          "data": {
            "text/html": [
              "<div>\n",
              "<style scoped>\n",
              "    .dataframe tbody tr th:only-of-type {\n",
              "        vertical-align: middle;\n",
              "    }\n",
              "\n",
              "    .dataframe tbody tr th {\n",
              "        vertical-align: top;\n",
              "    }\n",
              "\n",
              "    .dataframe thead th {\n",
              "        text-align: right;\n",
              "    }\n",
              "</style>\n",
              "<table border=\"1\" class=\"dataframe\">\n",
              "  <thead>\n",
              "    <tr style=\"text-align: right;\">\n",
              "      <th></th>\n",
              "      <th>Vegas_Pts</th>\n",
              "      <th>Vegas_Spread</th>\n",
              "      <th>DEf_Pass</th>\n",
              "      <th>DEF_Rush</th>\n",
              "      <th>DEF_DvP</th>\n",
              "      <th>L3</th>\n",
              "      <th>S</th>\n",
              "      <th>P</th>\n",
              "      <th>RZ</th>\n",
              "      <th>YPA</th>\n",
              "      <th>Targets_L3</th>\n",
              "      <th>Targets_S</th>\n",
              "      <th>Targets_P</th>\n",
              "      <th>Targets_RZ</th>\n",
              "      <th>Targets_YPT</th>\n",
              "      <th>FP_L3</th>\n",
              "      <th>FP_S</th>\n",
              "      <th>FP_F</th>\n",
              "      <th>FP_C</th>\n",
              "    </tr>\n",
              "    <tr>\n",
              "      <th>Player Name</th>\n",
              "      <th></th>\n",
              "      <th></th>\n",
              "      <th></th>\n",
              "      <th></th>\n",
              "      <th></th>\n",
              "      <th></th>\n",
              "      <th></th>\n",
              "      <th></th>\n",
              "      <th></th>\n",
              "      <th></th>\n",
              "      <th></th>\n",
              "      <th></th>\n",
              "      <th></th>\n",
              "      <th></th>\n",
              "      <th></th>\n",
              "      <th></th>\n",
              "      <th></th>\n",
              "      <th></th>\n",
              "      <th></th>\n",
              "    </tr>\n",
              "  </thead>\n",
              "  <tbody>\n",
              "    <tr>\n",
              "      <th>1</th>\n",
              "      <td>30.0</td>\n",
              "      <td>8.0</td>\n",
              "      <td>0.09</td>\n",
              "      <td>-0.10</td>\n",
              "      <td>0.14</td>\n",
              "      <td>22.3</td>\n",
              "      <td>21.5</td>\n",
              "      <td>21.0</td>\n",
              "      <td>6.2</td>\n",
              "      <td>4.8</td>\n",
              "      <td>5.3</td>\n",
              "      <td>5.0</td>\n",
              "      <td>5.4</td>\n",
              "      <td>1.8</td>\n",
              "      <td>8.2</td>\n",
              "      <td>32.8</td>\n",
              "      <td>31.0</td>\n",
              "      <td>25.8</td>\n",
              "      <td>36.2</td>\n",
              "    </tr>\n",
              "    <tr>\n",
              "      <th>2</th>\n",
              "      <td>21.0</td>\n",
              "      <td>1.0</td>\n",
              "      <td>-0.08</td>\n",
              "      <td>-0.17</td>\n",
              "      <td>-0.20</td>\n",
              "      <td>23.0</td>\n",
              "      <td>19.5</td>\n",
              "      <td>19.4</td>\n",
              "      <td>2.3</td>\n",
              "      <td>5.0</td>\n",
              "      <td>4.0</td>\n",
              "      <td>5.0</td>\n",
              "      <td>4.3</td>\n",
              "      <td>0.8</td>\n",
              "      <td>5.5</td>\n",
              "      <td>24.7</td>\n",
              "      <td>21.7</td>\n",
              "      <td>13.9</td>\n",
              "      <td>29.5</td>\n",
              "    </tr>\n",
              "    <tr>\n",
              "      <th>3</th>\n",
              "      <td>25.5</td>\n",
              "      <td>-6.0</td>\n",
              "      <td>0.33</td>\n",
              "      <td>0.17</td>\n",
              "      <td>0.48</td>\n",
              "      <td>18.0</td>\n",
              "      <td>17.8</td>\n",
              "      <td>16.9</td>\n",
              "      <td>3.0</td>\n",
              "      <td>4.7</td>\n",
              "      <td>4.0</td>\n",
              "      <td>4.8</td>\n",
              "      <td>5.1</td>\n",
              "      <td>0.5</td>\n",
              "      <td>5.2</td>\n",
              "      <td>16.2</td>\n",
              "      <td>18.6</td>\n",
              "      <td>11.9</td>\n",
              "      <td>25.4</td>\n",
              "    </tr>\n",
              "    <tr>\n",
              "      <th>4</th>\n",
              "      <td>20.0</td>\n",
              "      <td>-5.0</td>\n",
              "      <td>0.06</td>\n",
              "      <td>-0.27</td>\n",
              "      <td>-0.13</td>\n",
              "      <td>17.7</td>\n",
              "      <td>14.2</td>\n",
              "      <td>12.6</td>\n",
              "      <td>1.6</td>\n",
              "      <td>4.9</td>\n",
              "      <td>5.3</td>\n",
              "      <td>8.0</td>\n",
              "      <td>8.1</td>\n",
              "      <td>0.8</td>\n",
              "      <td>6.0</td>\n",
              "      <td>19.4</td>\n",
              "      <td>20.7</td>\n",
              "      <td>13.6</td>\n",
              "      <td>27.9</td>\n",
              "    </tr>\n",
              "    <tr>\n",
              "      <th>5</th>\n",
              "      <td>23.3</td>\n",
              "      <td>-2.5</td>\n",
              "      <td>-0.27</td>\n",
              "      <td>-0.24</td>\n",
              "      <td>-0.44</td>\n",
              "      <td>13.7</td>\n",
              "      <td>12.4</td>\n",
              "      <td>10.1</td>\n",
              "      <td>4.2</td>\n",
              "      <td>4.8</td>\n",
              "      <td>11.0</td>\n",
              "      <td>10.2</td>\n",
              "      <td>6.8</td>\n",
              "      <td>3.0</td>\n",
              "      <td>6.9</td>\n",
              "      <td>29.3</td>\n",
              "      <td>30.4</td>\n",
              "      <td>13.2</td>\n",
              "      <td>47.6</td>\n",
              "    </tr>\n",
              "  </tbody>\n",
              "</table>\n",
              "</div>"
            ],
            "text/plain": [
              "             Vegas_Pts  Vegas_Spread  DEf_Pass  DEF_Rush  DEF_DvP    L3     S  \\\n",
              "Player Name                                                                     \n",
              "1                 30.0           8.0      0.09     -0.10     0.14  22.3  21.5   \n",
              "2                 21.0           1.0     -0.08     -0.17    -0.20  23.0  19.5   \n",
              "3                 25.5          -6.0      0.33      0.17     0.48  18.0  17.8   \n",
              "4                 20.0          -5.0      0.06     -0.27    -0.13  17.7  14.2   \n",
              "5                 23.3          -2.5     -0.27     -0.24    -0.44  13.7  12.4   \n",
              "\n",
              "                P   RZ  YPA  Targets_L3  Targets_S  Targets_P  Targets_RZ  \\\n",
              "Player Name                                                                 \n",
              "1            21.0  6.2  4.8         5.3        5.0        5.4         1.8   \n",
              "2            19.4  2.3  5.0         4.0        5.0        4.3         0.8   \n",
              "3            16.9  3.0  4.7         4.0        4.8        5.1         0.5   \n",
              "4            12.6  1.6  4.9         5.3        8.0        8.1         0.8   \n",
              "5            10.1  4.2  4.8        11.0       10.2        6.8         3.0   \n",
              "\n",
              "             Targets_YPT  FP_L3  FP_S  FP_F  FP_C  \n",
              "Player Name                                        \n",
              "1                    8.2   32.8  31.0  25.8  36.2  \n",
              "2                    5.5   24.7  21.7  13.9  29.5  \n",
              "3                    5.2   16.2  18.6  11.9  25.4  \n",
              "4                    6.0   19.4  20.7  13.6  27.9  \n",
              "5                    6.9   29.3  30.4  13.2  47.6  "
            ]
          },
          "metadata": {
            "tags": []
          }
        },
        {
          "output_type": "display_data",
          "data": {
            "text/plain": [
              "(24, 19)"
            ]
          },
          "metadata": {
            "tags": []
          }
        },
        {
          "output_type": "display_data",
          "data": {
            "text/plain": [
              "Player Name\n",
              "1    30.6\n",
              "2     3.7\n",
              "3     8.1\n",
              "4    14.0\n",
              "5    14.5\n",
              "Name: PTS, dtype: float64"
            ]
          },
          "metadata": {
            "tags": []
          }
        }
      ]
    },
    {
      "cell_type": "code",
      "metadata": {
        "id": "EIyeC_MIlvOQ"
      },
      "source": [
        "# Convert dataframe to np array\n",
        "X = X_pts.iloc[:,0:19]   \n",
        "Y = Y_pts.iloc[:]\n"
      ],
      "execution_count": null,
      "outputs": []
    },
    {
      "cell_type": "markdown",
      "metadata": {
        "id": "wh7S4L6pgBV6"
      },
      "source": [
        "# Choose the Model that would best predict PTS \n",
        "With the current datapoints (24-which is a small number), let's perform KFold Cross validation (10-fold) to get the overall performance of the model on unseen data points.\n",
        "\n",
        "Mean Squared Error (MSE) measures the average of the squares of the errors or deviations. In other words, it quantifies the difference between the estimator and what is estimated. "
      ]
    },
    {
      "cell_type": "markdown",
      "metadata": {
        "id": "_5Ic0UQyMz6O"
      },
      "source": [
        "### Baseline Model"
      ]
    },
    {
      "cell_type": "code",
      "metadata": {
        "id": "iYG0kBOTmLcQ"
      },
      "source": [
        "# define base model\n",
        "def baseline_model():\n",
        "\t# create model\n",
        "\tmodel = Sequential()\n",
        "\tmodel.add(Dense(19, input_dim=19, kernel_initializer='normal', activation='relu'))\n",
        "\tmodel.add(Dense(1, kernel_initializer='normal'))\n",
        "\t# Compile model\n",
        "\tmodel.compile(loss='mean_squared_error', optimizer='adam')\n",
        "\treturn model"
      ],
      "execution_count": null,
      "outputs": []
    },
    {
      "cell_type": "code",
      "metadata": {
        "id": "sDqmdD2impJU"
      },
      "source": [
        "# fix random seed for reproducibility\n",
        "seed = 7\n",
        "np.random.seed(seed)\n",
        "# evaluate model with standardized dataset\n",
        "estimator = KerasRegressor(build_fn=baseline_model, nb_epoch=100, batch_size=5, verbose=0)"
      ],
      "execution_count": null,
      "outputs": []
    },
    {
      "cell_type": "code",
      "metadata": {
        "id": "VWJL_z3XngFm",
        "colab": {
          "base_uri": "https://localhost:8080/",
          "height": 34
        },
        "outputId": "0c65f3ed-0556-44ed-ded9-f0f81037c62e"
      },
      "source": [
        "kfold = KFold(n_splits=10, random_state=seed)\n",
        "results = cross_val_score(estimator, X.values, Y.values, cv=kfold, n_jobs=1)\n",
        "print(\"Results of KFold Cross validation for Baseline Model: %.2f (%.2f) MSE (%.2f) RMSE\"  % (results.mean(), results.std(), math.sqrt(results.std())))"
      ],
      "execution_count": null,
      "outputs": [
        {
          "output_type": "stream",
          "text": [
            "Results of KFold Cross validation for Baseline Model: -315.49 (199.00) MSE (14.11) RMSE\n"
          ],
          "name": "stdout"
        }
      ]
    },
    {
      "cell_type": "code",
      "metadata": {
        "id": "HAi-c9oaoUPN",
        "colab": {
          "base_uri": "https://localhost:8080/",
          "height": 34
        },
        "outputId": "4a86e532-c076-461e-cb9c-595a8011fe87"
      },
      "source": [
        "# evaluate model with standardized dataset\n",
        "np.random.seed(seed)\n",
        "estimators = []\n",
        "estimators.append(('standardize', StandardScaler()))\n",
        "estimators.append(('mlp', KerasRegressor(build_fn=baseline_model, epochs=50, batch_size=5, verbose=0)))\n",
        "pipeline = Pipeline(estimators)\n",
        "kfold = KFold(n_splits=10, random_state=seed)\n",
        "results = cross_val_score(pipeline, X, Y, cv=kfold, n_jobs=1)\n",
        "print(\"Standardized: %.2f (%.2f) MSE (%.2f) RMSE\" % (results.mean(), results.std(), math.sqrt(results.std())))"
      ],
      "execution_count": null,
      "outputs": [
        {
          "output_type": "stream",
          "text": [
            "Standardized: -235.16 (171.68) MSE (13.10) RMSE\n"
          ],
          "name": "stdout"
        }
      ]
    },
    {
      "cell_type": "code",
      "metadata": {
        "id": "XvzqsgxZSQ9g",
        "colab": {
          "base_uri": "https://localhost:8080/",
          "height": 68
        },
        "outputId": "4ef8ab7d-31ae-437b-df2e-288becb31969"
      },
      "source": [
        "results"
      ],
      "execution_count": null,
      "outputs": [
        {
          "output_type": "execute_result",
          "data": {
            "text/plain": [
              "array([-240.94659424, -400.33456421, -460.73562622, -149.98945618,\n",
              "         -2.01869249,  -68.46388245, -175.63848877, -146.41835022,\n",
              "       -562.93945312, -144.15945435])"
            ]
          },
          "metadata": {
            "tags": []
          },
          "execution_count": 12
        }
      ]
    },
    {
      "cell_type": "markdown",
      "metadata": {
        "id": "tX8aGqyrg-wm"
      },
      "source": [
        "### Try a Larger Model"
      ]
    },
    {
      "cell_type": "code",
      "metadata": {
        "id": "nY-O013BpxDI"
      },
      "source": [
        "# define the model\n",
        "def larger_model():\n",
        "\t# create model\n",
        "\tmodel = Sequential()\n",
        "\tmodel.add(Dense(19, input_dim=19, kernel_initializer='normal', activation='relu'))\n",
        "\tmodel.add(Dense(6, kernel_initializer='normal', activation='relu'))\n",
        "\tmodel.add(Dense(1, kernel_initializer='normal'))\n",
        "\t# Compile model\n",
        "\tmodel.compile(loss='mean_squared_logarithmic_error', optimizer='adam')\n",
        "\treturn model"
      ],
      "execution_count": null,
      "outputs": []
    },
    {
      "cell_type": "code",
      "metadata": {
        "id": "y87s3o0mp-mB",
        "colab": {
          "base_uri": "https://localhost:8080/",
          "height": 34
        },
        "outputId": "9f076919-4e0b-4bd7-a8fd-265bbcb1d0d1"
      },
      "source": [
        "np.random.seed(seed)\n",
        "estimators = []\n",
        "estimators.append(('standardize', StandardScaler()))\n",
        "estimators.append(('mlp', KerasRegressor(build_fn=larger_model, epochs=50, batch_size=5, verbose=0)))\n",
        "pipeline_3l = Pipeline(estimators)\n",
        "kfold = KFold(n_splits=10, random_state=seed)\n",
        "results_3l = cross_val_score(pipeline_3l, X, Y, cv=kfold, n_jobs=1)\n",
        "print(\"Larger: %.2f (%.2f) MSE (%.2f) RMSE\"  % (results_3l.mean(), results_3l.std(), math.sqrt(results_3l.std())))"
      ],
      "execution_count": null,
      "outputs": [
        {
          "output_type": "stream",
          "text": [
            "Larger: -3.19 (2.72) MSE (1.65) RMSE\n"
          ],
          "name": "stdout"
        }
      ]
    },
    {
      "cell_type": "code",
      "metadata": {
        "id": "FX0GRdQrqDA5",
        "colab": {
          "base_uri": "https://localhost:8080/",
          "height": 314
        },
        "outputId": "4ffb98e6-f74c-40fa-8d52-211cd18a146e"
      },
      "source": [
        "predicted_3l = cross_val_predict(pipeline_3l, X, Y, cv=kfold)\n",
        "y=Y\n",
        "predicted=predicted_3l\n",
        "fig, ax = plt.subplots()\n",
        "ax = sns.regplot(x=Y, y=predicted,fit_reg=False);\n",
        "sns.regplot(x=Y,y=Y, fit_reg=True, scatter=False, ax=ax);\n",
        "plt.figure()\n",
        "ax.set_xlabel('PTS Measured')\n",
        "ax.set_ylabel('PTS Predicted')"
      ],
      "execution_count": null,
      "outputs": [
        {
          "output_type": "execute_result",
          "data": {
            "text/plain": [
              "Text(0,0.5,'PTS Predicted')"
            ]
          },
          "metadata": {
            "tags": []
          },
          "execution_count": 15
        },
        {
          "output_type": "display_data",
          "data": {
            "image/png": "[encoded data removed]",
            "text/plain": [
              "<matplotlib.figure.Figure at 0x7fee96238550>"
            ]
          },
          "metadata": {
            "tags": []
          }
        },
        {
          "output_type": "display_data",
          "data": {
            "text/plain": [
              "<matplotlib.figure.Figure at 0x7fee962382e8>"
            ]
          },
          "metadata": {
            "tags": []
          }
        }
      ]
    },
    {
      "cell_type": "code",
      "metadata": {
        "id": "wKGlQ9KySqYb",
        "colab": {
          "base_uri": "https://localhost:8080/",
          "height": 68
        },
        "outputId": "f542da80-328e-4311-b2d9-b743eba1b578"
      },
      "source": [
        "results"
      ],
      "execution_count": null,
      "outputs": [
        {
          "output_type": "execute_result",
          "data": {
            "text/plain": [
              "array([-240.94659424, -400.33456421, -460.73562622, -149.98945618,\n",
              "         -2.01869249,  -68.46388245, -175.63848877, -146.41835022,\n",
              "       -562.93945312, -144.15945435])"
            ]
          },
          "metadata": {
            "tags": []
          },
          "execution_count": 16
        }
      ]
    },
    {
      "cell_type": "code",
      "metadata": {
        "id": "Lk73pHA0qC0U"
      },
      "source": [
        "# define wider model\n",
        "def wider_model():\n",
        "\t# create model\n",
        "\tmodel = Sequential()\n",
        "\tmodel.add(Dense(100, input_dim=19, kernel_initializer='normal', activation='relu'))\n",
        "\tmodel.add(Dense(1, kernel_initializer='normal'))\n",
        "\t# Compile model\n",
        "\tmodel.compile(loss='mean_squared_error', optimizer='adam')\n",
        "\treturn model"
      ],
      "execution_count": null,
      "outputs": []
    },
    {
      "cell_type": "code",
      "metadata": {
        "id": "Mjqp-8KdqcGw",
        "colab": {
          "base_uri": "https://localhost:8080/",
          "height": 34
        },
        "outputId": "e4550d5b-08d8-4d34-d1a2-552426d66e90"
      },
      "source": [
        "np.random.seed(seed)\n",
        "estimators = []\n",
        "estimators.append(('standardize', StandardScaler()))\n",
        "estimators.append(('mlp', KerasRegressor(build_fn=wider_model, epochs=50, batch_size=5, verbose=0)))\n",
        "pipeline_w = Pipeline(estimators)\n",
        "kfold = KFold(n_splits=10, random_state=seed)\n",
        "results_50w = cross_val_score(pipeline_w, X, Y, cv=kfold, n_jobs=1)\n",
        "print(\"Wider: %.2f (%.2f) MSE (%.2f) RMSE \"  % (results_50w.mean(), results_50w.std(), math.sqrt(results_50w.std())))"
      ],
      "execution_count": null,
      "outputs": [
        {
          "output_type": "stream",
          "text": [
            "Wider: -144.26 (119.56) MSE (10.93) RMSE \n"
          ],
          "name": "stdout"
        }
      ]
    },
    {
      "cell_type": "code",
      "metadata": {
        "id": "ZCcAFo4qS96Y",
        "colab": {
          "base_uri": "https://localhost:8080/",
          "height": 280
        },
        "outputId": "1f8f4ed3-28da-496a-e4e8-8a22899779b6"
      },
      "source": [
        "predicted_w = cross_val_predict(pipeline_w, X, Y, cv=kfold)\n",
        "y=Y\n",
        "predicted=predicted_w\n",
        "fig, ax = plt.subplots()\n",
        "ax = sns.regplot(x=Y, y=predicted,fit_reg=False);\n",
        "sns.regplot(x=Y,y=Y, fit_reg=True, scatter=False, ax=ax);\n"
      ],
      "execution_count": null,
      "outputs": [
        {
          "output_type": "display_data",
          "data": {
            "image/png": "[encoded data removed]",
            "text/plain": [
              "<matplotlib.figure.Figure at 0x7fee882aad30>"
            ]
          },
          "metadata": {
            "tags": []
          }
        }
      ]
    },
    {
      "cell_type": "code",
      "metadata": {
        "id": "ny1VBeV4ZbKO",
        "colab": {
          "base_uri": "https://localhost:8080/",
          "height": 296
        },
        "outputId": "7d4a44b8-66c7-4f10-97aa-a5e08aa25a0c"
      },
      "source": [
        "fig2 = plt.figure()\n",
        "bx = sns.regplot(Y,predicted-Y, fit_reg=False, scatter=True);\n",
        "bx.set_xlabel('PTS actual')\n",
        "bx.set_ylabel('PTS error')"
      ],
      "execution_count": null,
      "outputs": [
        {
          "output_type": "execute_result",
          "data": {
            "text/plain": [
              "Text(0,0.5,'PTS error')"
            ]
          },
          "metadata": {
            "tags": []
          },
          "execution_count": 43
        },
        {
          "output_type": "display_data",
          "data": {
            "image/png": "[encoded data removed]",
            "text/plain": [
              "<matplotlib.figure.Figure at 0x7fee882cca20>"
            ]
          },
          "metadata": {
            "tags": []
          }
        }
      ]
    },
    {
      "cell_type": "markdown",
      "metadata": {
        "id": "BrjP7hrjM9v6"
      },
      "source": [
        "### Wide Model"
      ]
    },
    {
      "cell_type": "code",
      "metadata": {
        "id": "_U90OCxcoZco",
        "colab": {
          "base_uri": "https://localhost:8080/",
          "height": 333
        },
        "outputId": "e0158c1d-5d71-4f14-f21a-5ca614b46923"
      },
      "source": [
        "# define wider model\n",
        "def wider_model():\n",
        "\t# create model\n",
        "\tmodel = Sequential()\n",
        "\tmodel.add(Dense(100, input_dim=19, kernel_initializer='normal', activation='relu'))\n",
        "\tmodel.add(Dense(1, kernel_initializer='normal'))\n",
        "\t# Compile model\n",
        "\tmodel.compile(loss='mean_squared_logarithmic_error', optimizer='adam')\n",
        "\treturn model\n",
        "np.random.seed(seed)\n",
        "estimators = []\n",
        "estimators.append(('standardize', StandardScaler()))\n",
        "estimators.append(('mlp', KerasRegressor(build_fn=wider_model, epochs=50, batch_size=5, verbose=0)))\n",
        "pipeline_w = Pipeline(estimators)\n",
        "kfold = KFold(n_splits=10, random_state=seed)\n",
        "results_50w = cross_val_score(pipeline_w, X, Y, cv=kfold, n_jobs=1)\n",
        "print(\"Wider: %.2f (%.2f) MSE (%.2f) RMSE \"  % (results_50w.mean(), results_50w.std(), math.sqrt(results_50w.std())))\n",
        "\n",
        "predicted_w = cross_val_predict(pipeline_w, X, Y, cv=kfold)\n",
        "y=Y\n",
        "predicted=predicted_w\n",
        "fig, ax = plt.subplots()\n",
        "ax = sns.regplot(x=Y, y=predicted,fit_reg=False);\n",
        "sns.regplot(x=Y,y=Y, fit_reg=True, scatter=False, ax=ax);\n",
        "plt.figure()\n",
        "# sns.pointplot(Y,predicted-Y)\n",
        "ax.set_xlabel('PTS Measured')\n",
        "ax.set_ylabel('PTS Predicted')"
      ],
      "execution_count": null,
      "outputs": [
        {
          "output_type": "stream",
          "text": [
            "Wider: -1.68 (1.91) MSE (1.38) RMSE \n"
          ],
          "name": "stdout"
        },
        {
          "output_type": "execute_result",
          "data": {
            "text/plain": [
              "Text(0,0.5,'PTS Predicted')"
            ]
          },
          "metadata": {
            "tags": []
          },
          "execution_count": 353
        },
        {
          "output_type": "display_data",
          "data": {
            "image/png": "[encoded data removed]",
            "text/plain": [
              "<matplotlib.figure.Figure at 0x7f26b51b9f98>"
            ]
          },
          "metadata": {
            "tags": []
          }
        },
        {
          "output_type": "display_data",
          "data": {
            "text/plain": [
              "<matplotlib.figure.Figure at 0x7f26b3427f60>"
            ]
          },
          "metadata": {
            "tags": []
          }
        }
      ]
    },
    {
      "cell_type": "code",
      "metadata": {
        "id": "IbN493mZT48_",
        "colab": {
          "base_uri": "https://localhost:8080/",
          "height": 34
        },
        "outputId": "31348ae4-1d2a-4cd9-8ad0-0cfcc66188f4"
      },
      "source": [
        "np.random.seed(seed)\n",
        "estimators = []\n",
        "estimators.append(('standardize', StandardScaler()))\n",
        "estimators.append(('mlp', KerasRegressor(build_fn=wider_model, epochs=100, batch_size=5, verbose=0)))\n",
        "pipeline_w100 = Pipeline(estimators)\n",
        "kfold = KFold(n_splits=10, random_state=seed)\n",
        "results_100w = cross_val_score(pipeline_w100, X, Y, cv=kfold, n_jobs=1)\n",
        "print(\"Wider @ 100 epochs: %.2f (%.2f) MSE (%.2f) RMSE \"  % (results_100w.mean(), results_100w.std(), math.sqrt(results_100w.std())))"
      ],
      "execution_count": null,
      "outputs": [
        {
          "output_type": "stream",
          "text": [
            "Wider @ 100 epochs: -184.96 (154.59) MSE (12.43) RMSE \n"
          ],
          "name": "stdout"
        }
      ]
    },
    {
      "cell_type": "markdown",
      "metadata": {
        "id": "t8MrGhmUh1Cm"
      },
      "source": [
        "### Use More layers and more nodes"
      ]
    },
    {
      "cell_type": "code",
      "metadata": {
        "id": "ufcCFdSlubo6"
      },
      "source": [
        "# define wider model\n",
        "def deeper_wider_model():\n",
        "\t# create model\n",
        "\tmodel = Sequential()\n",
        "\tmodel.add(Dense(100, input_dim=19, kernel_initializer='normal', activation='relu'))\n",
        "\tmodel.add(Dense(100, kernel_initializer='normal', activation='relu'))\n",
        "\tmodel.add(Dense(3, kernel_initializer='normal', activation='relu'))\n",
        "\tmodel.add(Dense(1, kernel_initializer='normal'))\n",
        "\t# Compile model\n",
        "\tmodel.compile(loss='mae', optimizer='adam')\n",
        "\treturn model"
      ],
      "execution_count": null,
      "outputs": []
    },
    {
      "cell_type": "code",
      "metadata": {
        "id": "DV9I8DkXtAw6",
        "colab": {
          "base_uri": "https://localhost:8080/",
          "height": 34
        },
        "outputId": "ce200f62-08cb-413c-cec2-decfe70227cc"
      },
      "source": [
        "np.random.seed(seed)\n",
        "estimators = []\n",
        "estimators.append(('standardize', StandardScaler()))\n",
        "estimators.append(('mlp', KerasRegressor(build_fn=deeper_wider_model, epochs=50, batch_size=5, verbose=0)))\n",
        "pipeline_dwr = Pipeline(estimators)\n",
        "kfold = KFold(n_splits=10, random_state=seed)\n",
        "loo = LeaveOneOut()\n",
        "# results_4l = cross_val_score(pipeline_dwr, X, Y, cv=kfold, n_jobs=1)\n",
        "print(\"Deep and Wide cv: %.2f (%.2f) MSE (%.2f) RMSE \"  % (results_4l.mean(), results_4l.std(), math.sqrt(results_4l.std())))"
      ],
      "execution_count": null,
      "outputs": [
        {
          "output_type": "stream",
          "text": [
            "Deep and Wide cv: -12.03 (5.10) MSE (2.26) RMSE \n"
          ],
          "name": "stdout"
        }
      ]
    },
    {
      "cell_type": "code",
      "metadata": {
        "id": "JkG4KaX9TdFC",
        "colab": {
          "base_uri": "https://localhost:8080/",
          "height": 314
        },
        "outputId": "b75d3b1a-23d7-4e1f-c81e-497f2b35d706"
      },
      "source": [
        "predicted_dwr = cross_val_predict(pipeline_dwr, X, Y, cv=kfold)\n",
        "y=Y\n",
        "predicted=predicted_dwr\n",
        "fig, ax = plt.subplots()\n",
        "ax = sns.regplot(x=Y, y=predicted,fit_reg=False);\n",
        "sns.regplot(x=Y,y=Y, fit_reg=True, scatter=False, ax=ax);\n",
        "plt.figure()\n",
        "# sns.pointplot(Y,predicted-Y)\n",
        "ax.set_xlabel('PTS Measured')\n",
        "ax.set_ylabel('PTS Predicted')"
      ],
      "execution_count": null,
      "outputs": [
        {
          "output_type": "execute_result",
          "data": {
            "text/plain": [
              "Text(0,0.5,'PTS Predicted')"
            ]
          },
          "metadata": {
            "tags": []
          },
          "execution_count": 350
        },
        {
          "output_type": "display_data",
          "data": {
            "image/png": "[encoded data removed]",
            "text/plain": [
              "<matplotlib.figure.Figure at 0x7f26b9f3e9b0>"
            ]
          },
          "metadata": {
            "tags": []
          }
        },
        {
          "output_type": "display_data",
          "data": {
            "text/plain": [
              "<matplotlib.figure.Figure at 0x7f26b9f3e6a0>"
            ]
          },
          "metadata": {
            "tags": []
          }
        }
      ]
    },
    {
      "cell_type": "code",
      "metadata": {
        "id": "r0rLUP8bB5xe"
      },
      "source": [
        "# define wider model\n",
        "def deep_wide_model():\n",
        "\t# create model\n",
        "\tmodel = Sequential()\n",
        "\tmodel.add(Dense(19, input_dim=19, kernel_initializer='normal', activation='relu'))\n",
        "\tmodel.add(Dense(19, kernel_initializer='normal', activation='relu'))\n",
        "\tmodel.add(Dense(1, kernel_initializer='normal'))\n",
        "\t# Compile model\n",
        "\tmodel.compile(loss='mae', optimizer='adam')\n",
        "\treturn model"
      ],
      "execution_count": null,
      "outputs": []
    },
    {
      "cell_type": "code",
      "metadata": {
        "id": "ysfBHok-KJU2",
        "colab": {
          "base_uri": "https://localhost:8080/",
          "height": 34
        },
        "outputId": "483553a6-3339-4bbc-ff3a-a3430c1d408f"
      },
      "source": [
        "np.random.seed(seed)\n",
        "estimators = []\n",
        "estimators.append(('standardize', StandardScaler()))\n",
        "estimators.append(('mlp', KerasRegressor(build_fn=deep_wide_model, epochs=50, batch_size=5, verbose=0)))\n",
        "pipeline_dw = Pipeline(estimators)\n",
        "kfold = KFold(n_splits=10, random_state=seed,shuffle=True)\n",
        "results_dw = cross_val_score(pipeline_dw, X, Y, cv=kfold, n_jobs=1)\n",
        "print(\"Deep - Wide cv: %.2f (%.2f)MAE (%.2f) RMSE \"  % (results_dw.mean(), results_dw.std(), math.sqrt(results_dw.std())))\n"
      ],
      "execution_count": null,
      "outputs": [
        {
          "output_type": "stream",
          "text": [
            "Deep - Wide cv: -11.76 (4.81) (2.19) RMSE \n"
          ],
          "name": "stdout"
        }
      ]
    },
    {
      "cell_type": "code",
      "metadata": {
        "id": "HuffliW8KOCL",
        "colab": {
          "base_uri": "https://localhost:8080/",
          "height": 315
        },
        "outputId": "7a7b52a3-c49d-4ab5-aa5e-bdde0b7660a6"
      },
      "source": [
        "# predicted_dw = cross_val_predict(pipeline_dw, X, Y, cv=kfold)\n",
        "y=Y\n",
        "predicted=predicted_dw\n",
        "fig, ax = plt.subplots()\n",
        "ax = sns.regplot(x=Y, y=predicted,fit_reg=False);\n",
        "sns.regplot(x=Y,y=Y, fit_reg=True, scatter=False, ax=ax);\n",
        "plt.figure()\n",
        "# sns.pointplot(Y,predicted-Y)\n",
        "ax.set_xlabel('PTS Measured')\n",
        "ax.set_ylabel('PTS Predicted')"
      ],
      "execution_count": null,
      "outputs": [
        {
          "output_type": "execute_result",
          "data": {
            "text/plain": [
              "Text(0,0.5,'PTS Predicted')"
            ]
          },
          "metadata": {
            "tags": []
          },
          "execution_count": 344
        },
        {
          "output_type": "display_data",
          "data": {
            "image/png": "[encoded data removed]",
            "text/plain": [
              "<matplotlib.figure.Figure at 0x7f26bfde5e48>"
            ]
          },
          "metadata": {
            "tags": []
          }
        },
        {
          "output_type": "display_data",
          "data": {
            "text/plain": [
              "<matplotlib.figure.Figure at 0x7f26bfdfc630>"
            ]
          },
          "metadata": {
            "tags": []
          }
        }
      ]
    },
    {
      "cell_type": "markdown",
      "metadata": {
        "id": "XsYMO14JSLl7"
      },
      "source": [
        "### Deep Model - Optimized using Mean Square Log error"
      ]
    },
    {
      "cell_type": "code",
      "metadata": {
        "id": "Q2CUeqmPqXjO",
        "colab": {
          "base_uri": "https://localhost:8080/",
          "height": 575
        },
        "outputId": "5be2064f-8cb9-425f-a545-f8f1e1b6b969"
      },
      "source": [
        "# define wider model\n",
        "def deep_model():\n",
        "\t# create model\n",
        "\tmodel = Sequential()\n",
        "\tmodel.add(Dense(19, input_dim=19, kernel_initializer='normal', activation='relu'))\n",
        "\tmodel.add(Dense(19, kernel_initializer='normal', activation='relu'))\n",
        "\tmodel.add(Dense(19, kernel_initializer='normal', activation='relu'))\n",
        "\tmodel.add(Dense(19, kernel_initializer='normal', activation='relu'))\n",
        "#   model=tf.estimator.DNNRegressor(hidden_units=[6,10,6],feature_columns=feat_cols)\n",
        "\n",
        "\tmodel.add(Dense(1, kernel_initializer='normal'))\n",
        "\t# Compile model\n",
        "\tmodel.compile(loss='mean_squared_logarithmic_error', optimizer='adam')\n",
        "\treturn model\n",
        "\n",
        "np.random.seed(seed)\n",
        "estimators = []\n",
        "estimators.append(('standardize', StandardScaler()))\n",
        "estimators.append(('mlp', KerasRegressor(build_fn=deep_model, epochs=200, batch_size=5, verbose=0)))\n",
        "pipeline_w = Pipeline(estimators)\n",
        "kfold = KFold(n_splits=10, random_state=seed)\n",
        "results_50w = cross_val_score(pipeline_w, X, Y, cv=kfold, n_jobs=1)\n",
        "print(\"Wider: %.2f (%.2f) Mean Squared Log Error \"  % (results_50w.mean(), results_50w.std()))\n",
        "\n",
        "predicted_w = cross_val_predict(pipeline_w, X, Y, cv=kfold)\n",
        "# y=Y\n",
        "# predicted=predicted_w\n",
        "# fig, ax = plt.subplots()\n",
        "# ax = sns.regplot(x=Y, y=predicted,fit_reg=False);\n",
        "# sns.regplot(x=Y,y=Y, fit_reg=True, scatter=False, ax=ax);\n",
        "# plt.figure()\n",
        "# # sns.pointplot(Y,predicted-Y)\n",
        "# ax.set_xlabel('PTS Measured')\n",
        "# ax.set_ylabel('PTS Predicted')\n",
        "y=Y\n",
        "predicted=predicted_w\n",
        "fig, ax = plt.subplots()\n",
        "ax = sns.regplot(x=Y, y=predicted,fit_reg=False);\n",
        "sns.regplot(x=Y,y=Y, fit_reg=True, scatter=False, ax=ax);\n",
        "ax.set_xlabel('PTS Measured')\n",
        "ax.set_ylabel('PTS Predicted')\n",
        "fig2 = plt.figure()\n",
        "bx = sns.regplot(Y,predicted-Y, fit_reg=False, scatter=True);\n",
        "bx.set_xlabel('PTS actual')\n",
        "bx.set_ylabel('PTS error')"
      ],
      "execution_count": null,
      "outputs": [
        {
          "output_type": "stream",
          "text": [
            "Wider: -0.86 (0.62) Mean Squared Log Error \n"
          ],
          "name": "stdout"
        },
        {
          "output_type": "execute_result",
          "data": {
            "text/plain": [
              "Text(0,0.5,'PTS error')"
            ]
          },
          "metadata": {
            "tags": []
          },
          "execution_count": 48
        },
        {
          "output_type": "display_data",
          "data": {
            "image/png": "[encoded data removed]",
            "text/plain": [
              "<matplotlib.figure.Figure at 0x7fee7ca40f28>"
            ]
          },
          "metadata": {
            "tags": []
          }
        },
        {
          "output_type": "display_data",
          "data": {
            "image/png": "[encoded data removed]",
            "text/plain": [
              "<matplotlib.figure.Figure at 0x7fee77cb55f8>"
            ]
          },
          "metadata": {
            "tags": []
          }
        }
      ]
    },
    {
      "cell_type": "markdown",
      "metadata": {
        "id": "Tm9mb5WvSlEz"
      },
      "source": [
        "### Deep Model - using Mean Absolute Error (MAE)"
      ]
    },
    {
      "cell_type": "code",
      "metadata": {
        "id": "IUOY1VNNNzyy",
        "colab": {
          "base_uri": "https://localhost:8080/",
          "height": 314
        },
        "outputId": "5e79ad3c-8805-4c1a-ee79-93f56cdd6713"
      },
      "source": [
        "# define wider model\n",
        "def deep_model():\n",
        "\t# create model\n",
        "\tmodel = Sequential()\n",
        "\tmodel.add(Dense(19, input_dim=19, kernel_initializer='normal', activation='relu'))\n",
        "\tmodel.add(Dense(19, kernel_initializer='normal', activation='relu'))\n",
        "\tmodel.add(Dense(19, kernel_initializer='normal', activation='relu'))\n",
        "\tmodel.add(Dense(19, kernel_initializer='normal', activation='relu'))\n",
        "#   model=tf.estimator.DNNRegressor(hidden_units=[6,10,6],feature_columns=feat_cols)\n",
        "\n",
        "\tmodel.add(Dense(1, kernel_initializer='normal'))\n",
        "\t# Compile model\n",
        "\tmodel.compile(loss='mae', optimizer='adam')\n",
        "\treturn model\n",
        "\n",
        "np.random.seed(seed)\n",
        "estimators = []\n",
        "estimators.append(('standardize', StandardScaler()))\n",
        "estimators.append(('mlp', KerasRegressor(build_fn=deep_model, epochs=50, batch_size=5, verbose=0)))\n",
        "pipeline_w = Pipeline(estimators)\n",
        "kfold = KFold(n_splits=10, random_state=seed)\n",
        "results_50w = cross_val_score(pipeline_w, X, Y, cv=kfold, n_jobs=1)\n",
        "print(\"Wider: %.2f (%.2f) MSE (%.2f) RMSE \"  % (results_50w.mean(), results_50w.std(), math.sqrt(results_50w.std())))\n",
        "\n",
        "predicted_w = cross_val_predict(pipeline_w, X, Y, cv=kfold)\n",
        "\n",
        "y=Y\n",
        "predicted=predicted_w\n",
        "fig, ax = plt.subplots()\n",
        "ax = sns.regplot(x=Y, y=predicted,fit_reg=False);\n",
        "sns.regplot(x=Y,y=Y, fit_reg=True, scatter=False, ax=ax);\n",
        "plt.figure()\n",
        "# sns.pointplot(Y,predicted-Y)\n",
        "ax.set_xlabel('PTS Measured')\n",
        "ax.set_ylabel('PTS Predicted')\n"
      ],
      "execution_count": null,
      "outputs": [
        {
          "output_type": "execute_result",
          "data": {
            "text/plain": [
              "Text(0,0.5,'PTS Predicted')"
            ]
          },
          "metadata": {
            "tags": []
          },
          "execution_count": 20
        },
        {
          "output_type": "display_data",
          "data": {
            "image/png": "[encoded data removed]",
            "text/plain": [
              "<matplotlib.figure.Figure at 0x7fd56b366128>"
            ]
          },
          "metadata": {
            "tags": []
          }
        },
        {
          "output_type": "display_data",
          "data": {
            "text/plain": [
              "<matplotlib.figure.Figure at 0x7fd56b366400>"
            ]
          },
          "metadata": {
            "tags": []
          }
        }
      ]
    },
    {
      "cell_type": "markdown",
      "metadata": {
        "id": "NmBK4R4-NgRJ"
      },
      "source": [
        "### Deep Model - MSE \\*currently best fit*"
      ]
    },
    {
      "cell_type": "code",
      "metadata": {
        "id": "ytwLkGXLk9tC"
      },
      "source": [
        "# define wider model\n",
        "def deep_model_mse():\n",
        "\t# create model\n",
        "\tmodel = Sequential()\n",
        "\tmodel.add(Dense(19, input_dim=19, kernel_initializer='normal', activation='relu'))\n",
        "\tmodel.add(Dense(19, kernel_initializer='normal', activation='relu'))\n",
        "\tmodel.add(Dense(19, kernel_initializer='normal', activation='relu'))\n",
        "\tmodel.add(Dense(19, kernel_initializer='normal', activation='relu'))\n",
        "\n",
        "\tmodel.add(Dense(1, kernel_initializer='normal'))\n",
        "\t# Compile model\n",
        "\tmodel.compile(loss='mean_squared_error', optimizer='rmsprop')\n",
        "\treturn model"
      ],
      "execution_count": null,
      "outputs": []
    },
    {
      "cell_type": "code",
      "metadata": {
        "id": "_SSPlB29k9tG",
        "colab": {
          "base_uri": "https://localhost:8080/",
          "height": 575
        },
        "outputId": "91f9a55a-94af-4018-e728-aaecfb53273e"
      },
      "source": [
        "np.random.seed(seed)\n",
        "estimators = []\n",
        "estimators.append(('standardize', StandardScaler()))\n",
        "estimators.append(('mlp', KerasRegressor(build_fn=deep_model_mse, epochs=50, batch_size=5, verbose=0)))\n",
        "pipeline_dmse = Pipeline(estimators)\n",
        "kfold = KFold(n_splits=10, random_state=seed)\n",
        "results_dmse = cross_val_score(pipeline_dmse, X, Y, cv=kfold, n_jobs=1)\n",
        "predicted_dmse = cross_val_predict(pipeline_dmse, X, Y, cv=kfold)\n",
        "print(\"Deep - Wide cv: %.2f (%.2f)MSE (%.2f) RMSE \"  % (results_dmse.mean(), results_dmse.std(), math.sqrt(results_dmse.std())))\n",
        "\n",
        "y=Y\n",
        "predicted=predicted_dmse\n",
        "fig, ax = plt.subplots()\n",
        "ax = sns.regplot(x=Y, y=predicted,fit_reg=False);\n",
        "sns.regplot(x=Y,y=Y, fit_reg=True, scatter=False, ax=ax);\n",
        "ax.set_xlabel('PTS Measured')\n",
        "ax.set_ylabel('PTS Predicted')\n",
        "fig2 = plt.figure()\n",
        "bx = sns.regplot(Y,predicted-Y, fit_reg=False, scatter=True);\n",
        "bx.set_xlabel('PTS actual')\n",
        "bx.set_ylabel('PTS error')"
      ],
      "execution_count": null,
      "outputs": [
        {
          "output_type": "stream",
          "text": [
            "Deep - Wide cv: -151.25 (109.49)MSE (10.46) RMSE \n"
          ],
          "name": "stdout"
        },
        {
          "output_type": "execute_result",
          "data": {
            "text/plain": [
              "Text(0,0.5,'PTS error')"
            ]
          },
          "metadata": {
            "tags": []
          },
          "execution_count": 50
        },
        {
          "output_type": "display_data",
          "data": {
            "image/png": "[encoded data removed]",
            "text/plain": [
              "<matplotlib.figure.Figure at 0x7fee7427cfd0>"
            ]
          },
          "metadata": {
            "tags": []
          }
        },
        {
          "output_type": "display_data",
          "data": {
            "image/png": "[encoded data removed]",
            "text/plain": [
              "<matplotlib.figure.Figure at 0x7fee73a20588>"
            ]
          },
          "metadata": {
            "tags": []
          }
        }
      ]
    },
    {
      "cell_type": "markdown",
      "metadata": {
        "id": "6XKnU_5Gnq6L"
      },
      "source": [
        "\n",
        "# Train Final Model using all data for prediction\n",
        "Now that we've validated the one that performs best in cross validation, which is the deep model 19-19-19-19-19"
      ]
    },
    {
      "cell_type": "code",
      "metadata": {
        "id": "f288EV3PtJMA",
        "colab": {
          "base_uri": "https://localhost:8080/",
          "height": 382
        },
        "outputId": "034e98a0-36a4-4506-c101-5f881461340a"
      },
      "source": [
        "# Go directly here to train model\n",
        "# os.chdir('SportsPredict') #if you aren't in the directory\n",
        "\n",
        "rb = pd.read_csv('rb_gb_copy.csv', index_col=0)\n",
        "display(rb.head())\n",
        "display(rb.columns)\n"
      ],
      "execution_count": null,
      "outputs": [
        {
          "output_type": "display_data",
          "data": {
            "text/html": [
              "<div>\n",
              "<style scoped>\n",
              "    .dataframe tbody tr th:only-of-type {\n",
              "        vertical-align: middle;\n",
              "    }\n",
              "\n",
              "    .dataframe tbody tr th {\n",
              "        vertical-align: top;\n",
              "    }\n",
              "\n",
              "    .dataframe thead th {\n",
              "        text-align: right;\n",
              "    }\n",
              "</style>\n",
              "<table border=\"1\" class=\"dataframe\">\n",
              "  <thead>\n",
              "    <tr style=\"text-align: right;\">\n",
              "      <th></th>\n",
              "      <th>Vegas_Pts</th>\n",
              "      <th>Vegas_Spread</th>\n",
              "      <th>DEf_Pass</th>\n",
              "      <th>DEF_Rush</th>\n",
              "      <th>DEF_DvP</th>\n",
              "      <th>L3</th>\n",
              "      <th>S</th>\n",
              "      <th>P</th>\n",
              "      <th>RZ</th>\n",
              "      <th>YPA</th>\n",
              "      <th>...</th>\n",
              "      <th>Targets_S</th>\n",
              "      <th>Targets_P</th>\n",
              "      <th>Targets_RZ</th>\n",
              "      <th>Targets_YPT</th>\n",
              "      <th>FP_L3</th>\n",
              "      <th>FP_S</th>\n",
              "      <th>FP_F</th>\n",
              "      <th>FP_C</th>\n",
              "      <th>PTS</th>\n",
              "      <th>GAB</th>\n",
              "    </tr>\n",
              "    <tr>\n",
              "      <th>Player Name</th>\n",
              "      <th></th>\n",
              "      <th></th>\n",
              "      <th></th>\n",
              "      <th></th>\n",
              "      <th></th>\n",
              "      <th></th>\n",
              "      <th></th>\n",
              "      <th></th>\n",
              "      <th></th>\n",
              "      <th></th>\n",
              "      <th></th>\n",
              "      <th></th>\n",
              "      <th></th>\n",
              "      <th></th>\n",
              "      <th></th>\n",
              "      <th></th>\n",
              "      <th></th>\n",
              "      <th></th>\n",
              "      <th></th>\n",
              "      <th></th>\n",
              "      <th></th>\n",
              "    </tr>\n",
              "  </thead>\n",
              "  <tbody>\n",
              "    <tr>\n",
              "      <th>1</th>\n",
              "      <td>30.0</td>\n",
              "      <td>8.0</td>\n",
              "      <td>0.09</td>\n",
              "      <td>-0.10</td>\n",
              "      <td>0.14</td>\n",
              "      <td>22.3</td>\n",
              "      <td>21.5</td>\n",
              "      <td>21.0</td>\n",
              "      <td>6.2</td>\n",
              "      <td>4.8</td>\n",
              "      <td>...</td>\n",
              "      <td>5.0</td>\n",
              "      <td>5.4</td>\n",
              "      <td>1.8</td>\n",
              "      <td>8.2</td>\n",
              "      <td>32.8</td>\n",
              "      <td>31.0</td>\n",
              "      <td>25.8</td>\n",
              "      <td>36.2</td>\n",
              "      <td>30.6</td>\n",
              "      <td>G</td>\n",
              "    </tr>\n",
              "    <tr>\n",
              "      <th>2</th>\n",
              "      <td>21.0</td>\n",
              "      <td>1.0</td>\n",
              "      <td>-0.08</td>\n",
              "      <td>-0.17</td>\n",
              "      <td>-0.20</td>\n",
              "      <td>23.0</td>\n",
              "      <td>19.5</td>\n",
              "      <td>19.4</td>\n",
              "      <td>2.3</td>\n",
              "      <td>5.0</td>\n",
              "      <td>...</td>\n",
              "      <td>5.0</td>\n",
              "      <td>4.3</td>\n",
              "      <td>0.8</td>\n",
              "      <td>5.5</td>\n",
              "      <td>24.7</td>\n",
              "      <td>21.7</td>\n",
              "      <td>13.9</td>\n",
              "      <td>29.5</td>\n",
              "      <td>3.7</td>\n",
              "      <td>B</td>\n",
              "    </tr>\n",
              "    <tr>\n",
              "      <th>3</th>\n",
              "      <td>25.5</td>\n",
              "      <td>-6.0</td>\n",
              "      <td>0.33</td>\n",
              "      <td>0.17</td>\n",
              "      <td>0.48</td>\n",
              "      <td>18.0</td>\n",
              "      <td>17.8</td>\n",
              "      <td>16.9</td>\n",
              "      <td>3.0</td>\n",
              "      <td>4.7</td>\n",
              "      <td>...</td>\n",
              "      <td>4.8</td>\n",
              "      <td>5.1</td>\n",
              "      <td>0.5</td>\n",
              "      <td>5.2</td>\n",
              "      <td>16.2</td>\n",
              "      <td>18.6</td>\n",
              "      <td>11.9</td>\n",
              "      <td>25.4</td>\n",
              "      <td>8.1</td>\n",
              "      <td>B</td>\n",
              "    </tr>\n",
              "    <tr>\n",
              "      <th>4</th>\n",
              "      <td>20.0</td>\n",
              "      <td>-5.0</td>\n",
              "      <td>0.06</td>\n",
              "      <td>-0.27</td>\n",
              "      <td>-0.13</td>\n",
              "      <td>17.7</td>\n",
              "      <td>14.2</td>\n",
              "      <td>12.6</td>\n",
              "      <td>1.6</td>\n",
              "      <td>4.9</td>\n",
              "      <td>...</td>\n",
              "      <td>8.0</td>\n",
              "      <td>8.1</td>\n",
              "      <td>0.8</td>\n",
              "      <td>6.0</td>\n",
              "      <td>19.4</td>\n",
              "      <td>20.7</td>\n",
              "      <td>13.6</td>\n",
              "      <td>27.9</td>\n",
              "      <td>14.0</td>\n",
              "      <td>A</td>\n",
              "    </tr>\n",
              "    <tr>\n",
              "      <th>5</th>\n",
              "      <td>23.3</td>\n",
              "      <td>-2.5</td>\n",
              "      <td>-0.27</td>\n",
              "      <td>-0.24</td>\n",
              "      <td>-0.44</td>\n",
              "      <td>13.7</td>\n",
              "      <td>12.4</td>\n",
              "      <td>10.1</td>\n",
              "      <td>4.2</td>\n",
              "      <td>4.8</td>\n",
              "      <td>...</td>\n",
              "      <td>10.2</td>\n",
              "      <td>6.8</td>\n",
              "      <td>3.0</td>\n",
              "      <td>6.9</td>\n",
              "      <td>29.3</td>\n",
              "      <td>30.4</td>\n",
              "      <td>13.2</td>\n",
              "      <td>47.6</td>\n",
              "      <td>14.5</td>\n",
              "      <td>A</td>\n",
              "    </tr>\n",
              "  </tbody>\n",
              "</table>\n",
              "<p>5 rows × 21 columns</p>\n",
              "</div>"
            ],
            "text/plain": [
              "             Vegas_Pts  Vegas_Spread  DEf_Pass  DEF_Rush  DEF_DvP    L3     S  \\\n",
              "Player Name                                                                     \n",
              "1                 30.0           8.0      0.09     -0.10     0.14  22.3  21.5   \n",
              "2                 21.0           1.0     -0.08     -0.17    -0.20  23.0  19.5   \n",
              "3                 25.5          -6.0      0.33      0.17     0.48  18.0  17.8   \n",
              "4                 20.0          -5.0      0.06     -0.27    -0.13  17.7  14.2   \n",
              "5                 23.3          -2.5     -0.27     -0.24    -0.44  13.7  12.4   \n",
              "\n",
              "                P   RZ  YPA ...   Targets_S  Targets_P  Targets_RZ  \\\n",
              "Player Name                 ...                                      \n",
              "1            21.0  6.2  4.8 ...         5.0        5.4         1.8   \n",
              "2            19.4  2.3  5.0 ...         5.0        4.3         0.8   \n",
              "3            16.9  3.0  4.7 ...         4.8        5.1         0.5   \n",
              "4            12.6  1.6  4.9 ...         8.0        8.1         0.8   \n",
              "5            10.1  4.2  4.8 ...        10.2        6.8         3.0   \n",
              "\n",
              "             Targets_YPT  FP_L3  FP_S  FP_F  FP_C   PTS  GAB  \n",
              "Player Name                                                   \n",
              "1                    8.2   32.8  31.0  25.8  36.2  30.6    G  \n",
              "2                    5.5   24.7  21.7  13.9  29.5   3.7    B  \n",
              "3                    5.2   16.2  18.6  11.9  25.4   8.1    B  \n",
              "4                    6.0   19.4  20.7  13.6  27.9  14.0    A  \n",
              "5                    6.9   29.3  30.4  13.2  47.6  14.5    A  \n",
              "\n",
              "[5 rows x 21 columns]"
            ]
          },
          "metadata": {
            "tags": []
          }
        },
        {
          "output_type": "display_data",
          "data": {
            "text/plain": [
              "Index(['Vegas_Pts', 'Vegas_Spread', 'DEf_Pass', 'DEF_Rush', 'DEF_DvP', 'L3',\n",
              "       'S', 'P', 'RZ', 'YPA', 'Targets_L3', 'Targets_S', 'Targets_P',\n",
              "       'Targets_RZ', 'Targets_YPT', 'FP_L3', 'FP_S', 'FP_F', 'FP_C', 'PTS',\n",
              "       'GAB'],\n",
              "      dtype='object')"
            ]
          },
          "metadata": {
            "tags": []
          }
        }
      ]
    },
    {
      "cell_type": "code",
      "metadata": {
        "id": "8Yp7nCpWtwA3",
        "colab": {
          "base_uri": "https://localhost:8080/",
          "height": 34
        },
        "outputId": "e2c51598-95d9-491f-eeab-c818bbb9c2b2"
      },
      "source": [
        "# Do this step if your data has GAB column, otherwise skip it\n",
        "X = rb.drop([\"GAB\"], axis=1)\n",
        "y = rb[\"GAB\"]\n",
        "print(X.shape, y.shape)\n"
      ],
      "execution_count": null,
      "outputs": [
        {
          "output_type": "stream",
          "text": [
            "(24, 20) (24,)\n"
          ],
          "name": "stdout"
        }
      ]
    },
    {
      "cell_type": "code",
      "metadata": {
        "id": "AS1CZwastyd3",
        "colab": {
          "base_uri": "https://localhost:8080/",
          "height": 406
        },
        "outputId": "e0e00af6-7169-48e9-d0b8-993ac0c1d307"
      },
      "source": [
        "X_pts = X.drop(\"PTS\",axis=1)\n",
        "Y_pts = X[\"PTS\"]\n",
        "\n",
        "display(X_pts.head())\n",
        "display(X_pts.shape)\n",
        "display(Y_pts.head())\n",
        "# Convert dataframe to np array\n",
        "X = X_pts.iloc[:,0:19]   \n",
        "Y = Y_pts.iloc[:]"
      ],
      "execution_count": null,
      "outputs": [
        {
          "output_type": "display_data",
          "data": {
            "text/html": [
              "<div>\n",
              "<style scoped>\n",
              "    .dataframe tbody tr th:only-of-type {\n",
              "        vertical-align: middle;\n",
              "    }\n",
              "\n",
              "    .dataframe tbody tr th {\n",
              "        vertical-align: top;\n",
              "    }\n",
              "\n",
              "    .dataframe thead th {\n",
              "        text-align: right;\n",
              "    }\n",
              "</style>\n",
              "<table border=\"1\" class=\"dataframe\">\n",
              "  <thead>\n",
              "    <tr style=\"text-align: right;\">\n",
              "      <th></th>\n",
              "      <th>Vegas_Pts</th>\n",
              "      <th>Vegas_Spread</th>\n",
              "      <th>DEf_Pass</th>\n",
              "      <th>DEF_Rush</th>\n",
              "      <th>DEF_DvP</th>\n",
              "      <th>L3</th>\n",
              "      <th>S</th>\n",
              "      <th>P</th>\n",
              "      <th>RZ</th>\n",
              "      <th>YPA</th>\n",
              "      <th>Targets_L3</th>\n",
              "      <th>Targets_S</th>\n",
              "      <th>Targets_P</th>\n",
              "      <th>Targets_RZ</th>\n",
              "      <th>Targets_YPT</th>\n",
              "      <th>FP_L3</th>\n",
              "      <th>FP_S</th>\n",
              "      <th>FP_F</th>\n",
              "      <th>FP_C</th>\n",
              "    </tr>\n",
              "    <tr>\n",
              "      <th>Player Name</th>\n",
              "      <th></th>\n",
              "      <th></th>\n",
              "      <th></th>\n",
              "      <th></th>\n",
              "      <th></th>\n",
              "      <th></th>\n",
              "      <th></th>\n",
              "      <th></th>\n",
              "      <th></th>\n",
              "      <th></th>\n",
              "      <th></th>\n",
              "      <th></th>\n",
              "      <th></th>\n",
              "      <th></th>\n",
              "      <th></th>\n",
              "      <th></th>\n",
              "      <th></th>\n",
              "      <th></th>\n",
              "      <th></th>\n",
              "    </tr>\n",
              "  </thead>\n",
              "  <tbody>\n",
              "    <tr>\n",
              "      <th>1</th>\n",
              "      <td>30.0</td>\n",
              "      <td>8.0</td>\n",
              "      <td>0.09</td>\n",
              "      <td>-0.10</td>\n",
              "      <td>0.14</td>\n",
              "      <td>22.3</td>\n",
              "      <td>21.5</td>\n",
              "      <td>21.0</td>\n",
              "      <td>6.2</td>\n",
              "      <td>4.8</td>\n",
              "      <td>5.3</td>\n",
              "      <td>5.0</td>\n",
              "      <td>5.4</td>\n",
              "      <td>1.8</td>\n",
              "      <td>8.2</td>\n",
              "      <td>32.8</td>\n",
              "      <td>31.0</td>\n",
              "      <td>25.8</td>\n",
              "      <td>36.2</td>\n",
              "    </tr>\n",
              "    <tr>\n",
              "      <th>2</th>\n",
              "      <td>21.0</td>\n",
              "      <td>1.0</td>\n",
              "      <td>-0.08</td>\n",
              "      <td>-0.17</td>\n",
              "      <td>-0.20</td>\n",
              "      <td>23.0</td>\n",
              "      <td>19.5</td>\n",
              "      <td>19.4</td>\n",
              "      <td>2.3</td>\n",
              "      <td>5.0</td>\n",
              "      <td>4.0</td>\n",
              "      <td>5.0</td>\n",
              "      <td>4.3</td>\n",
              "      <td>0.8</td>\n",
              "      <td>5.5</td>\n",
              "      <td>24.7</td>\n",
              "      <td>21.7</td>\n",
              "      <td>13.9</td>\n",
              "      <td>29.5</td>\n",
              "    </tr>\n",
              "    <tr>\n",
              "      <th>3</th>\n",
              "      <td>25.5</td>\n",
              "      <td>-6.0</td>\n",
              "      <td>0.33</td>\n",
              "      <td>0.17</td>\n",
              "      <td>0.48</td>\n",
              "      <td>18.0</td>\n",
              "      <td>17.8</td>\n",
              "      <td>16.9</td>\n",
              "      <td>3.0</td>\n",
              "      <td>4.7</td>\n",
              "      <td>4.0</td>\n",
              "      <td>4.8</td>\n",
              "      <td>5.1</td>\n",
              "      <td>0.5</td>\n",
              "      <td>5.2</td>\n",
              "      <td>16.2</td>\n",
              "      <td>18.6</td>\n",
              "      <td>11.9</td>\n",
              "      <td>25.4</td>\n",
              "    </tr>\n",
              "    <tr>\n",
              "      <th>4</th>\n",
              "      <td>20.0</td>\n",
              "      <td>-5.0</td>\n",
              "      <td>0.06</td>\n",
              "      <td>-0.27</td>\n",
              "      <td>-0.13</td>\n",
              "      <td>17.7</td>\n",
              "      <td>14.2</td>\n",
              "      <td>12.6</td>\n",
              "      <td>1.6</td>\n",
              "      <td>4.9</td>\n",
              "      <td>5.3</td>\n",
              "      <td>8.0</td>\n",
              "      <td>8.1</td>\n",
              "      <td>0.8</td>\n",
              "      <td>6.0</td>\n",
              "      <td>19.4</td>\n",
              "      <td>20.7</td>\n",
              "      <td>13.6</td>\n",
              "      <td>27.9</td>\n",
              "    </tr>\n",
              "    <tr>\n",
              "      <th>5</th>\n",
              "      <td>23.3</td>\n",
              "      <td>-2.5</td>\n",
              "      <td>-0.27</td>\n",
              "      <td>-0.24</td>\n",
              "      <td>-0.44</td>\n",
              "      <td>13.7</td>\n",
              "      <td>12.4</td>\n",
              "      <td>10.1</td>\n",
              "      <td>4.2</td>\n",
              "      <td>4.8</td>\n",
              "      <td>11.0</td>\n",
              "      <td>10.2</td>\n",
              "      <td>6.8</td>\n",
              "      <td>3.0</td>\n",
              "      <td>6.9</td>\n",
              "      <td>29.3</td>\n",
              "      <td>30.4</td>\n",
              "      <td>13.2</td>\n",
              "      <td>47.6</td>\n",
              "    </tr>\n",
              "  </tbody>\n",
              "</table>\n",
              "</div>"
            ],
            "text/plain": [
              "             Vegas_Pts  Vegas_Spread  DEf_Pass  DEF_Rush  DEF_DvP    L3     S  \\\n",
              "Player Name                                                                     \n",
              "1                 30.0           8.0      0.09     -0.10     0.14  22.3  21.5   \n",
              "2                 21.0           1.0     -0.08     -0.17    -0.20  23.0  19.5   \n",
              "3                 25.5          -6.0      0.33      0.17     0.48  18.0  17.8   \n",
              "4                 20.0          -5.0      0.06     -0.27    -0.13  17.7  14.2   \n",
              "5                 23.3          -2.5     -0.27     -0.24    -0.44  13.7  12.4   \n",
              "\n",
              "                P   RZ  YPA  Targets_L3  Targets_S  Targets_P  Targets_RZ  \\\n",
              "Player Name                                                                 \n",
              "1            21.0  6.2  4.8         5.3        5.0        5.4         1.8   \n",
              "2            19.4  2.3  5.0         4.0        5.0        4.3         0.8   \n",
              "3            16.9  3.0  4.7         4.0        4.8        5.1         0.5   \n",
              "4            12.6  1.6  4.9         5.3        8.0        8.1         0.8   \n",
              "5            10.1  4.2  4.8        11.0       10.2        6.8         3.0   \n",
              "\n",
              "             Targets_YPT  FP_L3  FP_S  FP_F  FP_C  \n",
              "Player Name                                        \n",
              "1                    8.2   32.8  31.0  25.8  36.2  \n",
              "2                    5.5   24.7  21.7  13.9  29.5  \n",
              "3                    5.2   16.2  18.6  11.9  25.4  \n",
              "4                    6.0   19.4  20.7  13.6  27.9  \n",
              "5                    6.9   29.3  30.4  13.2  47.6  "
            ]
          },
          "metadata": {
            "tags": []
          }
        },
        {
          "output_type": "display_data",
          "data": {
            "text/plain": [
              "(24, 19)"
            ]
          },
          "metadata": {
            "tags": []
          }
        },
        {
          "output_type": "display_data",
          "data": {
            "text/plain": [
              "Player Name\n",
              "1    30.6\n",
              "2     3.7\n",
              "3     8.1\n",
              "4    14.0\n",
              "5    14.5\n",
              "Name: PTS, dtype: float64"
            ]
          },
          "metadata": {
            "tags": []
          }
        }
      ]
    },
    {
      "cell_type": "code",
      "metadata": {
        "id": "aeCrTs5Ynrbs"
      },
      "source": [
        "# define wider model, use other models if you want\n",
        "def deep_model_mse():\n",
        "\t# create model\n",
        "\tmodel = Sequential()\n",
        "\tmodel.add(Dense(19, input_dim=19, kernel_initializer='normal', activation='relu'))\n",
        "\tmodel.add(Dense(19, kernel_initializer='normal', activation='relu'))\n",
        "\tmodel.add(Dense(19, kernel_initializer='normal', activation='relu'))\n",
        "\tmodel.add(Dense(19, kernel_initializer='normal', activation='relu'))\n",
        "\n",
        "\tmodel.add(Dense(1, kernel_initializer='normal'))\n",
        "\t# Compile model\n",
        "\tmodel.compile(loss='mean_squared_error', optimizer='rmsprop')\n",
        "\treturn model\n",
        "\n",
        "# define final model\n",
        "def final_model():\n",
        "  model = deep_model_mse()\n",
        "  return model\n",
        "estimators = []\n",
        "estimators.append(('standardize', StandardScaler()))\n",
        "estimators.append(('mlp', KerasRegressor(build_fn=final_model, epochs=50, batch_size=5, verbose=0)))\n",
        "pipeline_f = Pipeline(estimators)"
      ],
      "execution_count": null,
      "outputs": []
    },
    {
      "cell_type": "code",
      "metadata": {
        "id": "YMgWzzju0D_l"
      },
      "source": [
        "pipeline_f = pipeline_f.fit(X,Y)\n"
      ],
      "execution_count": null,
      "outputs": []
    },
    {
      "cell_type": "code",
      "metadata": {
        "id": "tThe9sLM_735",
        "colab": {
          "base_uri": "https://localhost:8080/",
          "height": 562
        },
        "outputId": "81b750a0-8fba-4684-f58e-aad58b7704ec"
      },
      "source": [
        "y_fit = pipeline_f.predict(X)\n",
        "predicted=y_fit\n",
        "fig, ax = plt.subplots()\n",
        "ax = sns.regplot(x=Y, y=predicted,fit_reg=False);\n",
        "sns.regplot(x=Y,y=Y, fit_reg=True, scatter=False, ax=ax);\n",
        "ax.set_xlabel('PTS Actual')\n",
        "ax.set_ylabel('PTS Predicted')\n",
        "fig2 = plt.figure()\n",
        "bx = sns.regplot(Y,predicted-Y, fit_reg=False, scatter=True);\n",
        "bx.set_xlabel('PTS actual')\n",
        "bx.set_ylabel('PTS error')"
      ],
      "execution_count": null,
      "outputs": [
        {
          "output_type": "execute_result",
          "data": {
            "text/plain": [
              "Text(0,0.5,'PTS error')"
            ]
          },
          "metadata": {
            "tags": []
          },
          "execution_count": 30
        },
        {
          "output_type": "display_data",
          "data": {
            "image/png": "[encoded data removed]",
            "text/plain": [
              "<matplotlib.figure.Figure at 0x7fc43c2c7ba8>"
            ]
          },
          "metadata": {
            "tags": []
          }
        },
        {
          "output_type": "display_data",
          "data": {
            "image/png": "[encoded data removed]",
            "text/plain": [
              "<matplotlib.figure.Figure at 0x7fc438ef6cf8>"
            ]
          },
          "metadata": {
            "tags": []
          }
        }
      ]
    },
    {
      "cell_type": "markdown",
      "metadata": {
        "id": "Iit03x59u2N6"
      },
      "source": [
        "# Predict Fresh Data"
      ]
    },
    {
      "cell_type": "code",
      "metadata": {
        "id": "5ygUZQMyu8Mb",
        "colab": {
          "base_uri": "https://localhost:8080/",
          "height": 335
        },
        "outputId": "3c33e1f8-9d37-42f1-adc7-772de3e77482"
      },
      "source": [
        "# os.chdir('SportsPredict') #if you aren't in the directory\n",
        "new_file = 'sample_fresh_data.csv'\n",
        "\n",
        "fresh_Data = pd.read_csv(new_file, index_col=0)\n",
        "display(fresh_Data.head())\n",
        "display(fresh_Data.columns)\n"
      ],
      "execution_count": null,
      "outputs": [
        {
          "output_type": "display_data",
          "data": {
            "text/html": [
              "<div>\n",
              "<style scoped>\n",
              "    .dataframe tbody tr th:only-of-type {\n",
              "        vertical-align: middle;\n",
              "    }\n",
              "\n",
              "    .dataframe tbody tr th {\n",
              "        vertical-align: top;\n",
              "    }\n",
              "\n",
              "    .dataframe thead th {\n",
              "        text-align: right;\n",
              "    }\n",
              "</style>\n",
              "<table border=\"1\" class=\"dataframe\">\n",
              "  <thead>\n",
              "    <tr style=\"text-align: right;\">\n",
              "      <th></th>\n",
              "      <th>Vegas_Pts</th>\n",
              "      <th>Vegas_Spread</th>\n",
              "      <th>DEf_Pass</th>\n",
              "      <th>DEF_Rush</th>\n",
              "      <th>DEF_DvP</th>\n",
              "      <th>L3</th>\n",
              "      <th>S</th>\n",
              "      <th>P</th>\n",
              "      <th>RZ</th>\n",
              "      <th>YPA</th>\n",
              "      <th>Targets_L3</th>\n",
              "      <th>Targets_S</th>\n",
              "      <th>Targets_P</th>\n",
              "      <th>Targets_RZ</th>\n",
              "      <th>Targets_YPT</th>\n",
              "      <th>FP_L3</th>\n",
              "      <th>FP_S</th>\n",
              "      <th>FP_F</th>\n",
              "      <th>FP_C</th>\n",
              "    </tr>\n",
              "    <tr>\n",
              "      <th>Player Name</th>\n",
              "      <th></th>\n",
              "      <th></th>\n",
              "      <th></th>\n",
              "      <th></th>\n",
              "      <th></th>\n",
              "      <th></th>\n",
              "      <th></th>\n",
              "      <th></th>\n",
              "      <th></th>\n",
              "      <th></th>\n",
              "      <th></th>\n",
              "      <th></th>\n",
              "      <th></th>\n",
              "      <th></th>\n",
              "      <th></th>\n",
              "      <th></th>\n",
              "      <th></th>\n",
              "      <th></th>\n",
              "      <th></th>\n",
              "    </tr>\n",
              "  </thead>\n",
              "  <tbody>\n",
              "    <tr>\n",
              "      <th>1</th>\n",
              "      <td>30.0</td>\n",
              "      <td>8.0</td>\n",
              "      <td>0.09</td>\n",
              "      <td>-0.10</td>\n",
              "      <td>0.14</td>\n",
              "      <td>22.3</td>\n",
              "      <td>21.5</td>\n",
              "      <td>21.0</td>\n",
              "      <td>6.2</td>\n",
              "      <td>4.8</td>\n",
              "      <td>5.3</td>\n",
              "      <td>5.0</td>\n",
              "      <td>5.4</td>\n",
              "      <td>1.8</td>\n",
              "      <td>8.2</td>\n",
              "      <td>32.8</td>\n",
              "      <td>31.0</td>\n",
              "      <td>25.8</td>\n",
              "      <td>36.2</td>\n",
              "    </tr>\n",
              "    <tr>\n",
              "      <th>2</th>\n",
              "      <td>21.0</td>\n",
              "      <td>1.0</td>\n",
              "      <td>-0.08</td>\n",
              "      <td>-0.17</td>\n",
              "      <td>-0.20</td>\n",
              "      <td>23.0</td>\n",
              "      <td>19.5</td>\n",
              "      <td>19.4</td>\n",
              "      <td>2.3</td>\n",
              "      <td>5.0</td>\n",
              "      <td>4.0</td>\n",
              "      <td>5.0</td>\n",
              "      <td>4.3</td>\n",
              "      <td>0.8</td>\n",
              "      <td>5.5</td>\n",
              "      <td>24.7</td>\n",
              "      <td>21.7</td>\n",
              "      <td>13.9</td>\n",
              "      <td>29.5</td>\n",
              "    </tr>\n",
              "    <tr>\n",
              "      <th>3</th>\n",
              "      <td>25.5</td>\n",
              "      <td>-6.0</td>\n",
              "      <td>0.33</td>\n",
              "      <td>0.17</td>\n",
              "      <td>0.48</td>\n",
              "      <td>18.0</td>\n",
              "      <td>17.8</td>\n",
              "      <td>16.9</td>\n",
              "      <td>3.0</td>\n",
              "      <td>4.7</td>\n",
              "      <td>4.0</td>\n",
              "      <td>4.8</td>\n",
              "      <td>5.1</td>\n",
              "      <td>0.5</td>\n",
              "      <td>5.2</td>\n",
              "      <td>16.2</td>\n",
              "      <td>18.6</td>\n",
              "      <td>11.9</td>\n",
              "      <td>25.4</td>\n",
              "    </tr>\n",
              "    <tr>\n",
              "      <th>4</th>\n",
              "      <td>20.0</td>\n",
              "      <td>-5.0</td>\n",
              "      <td>0.06</td>\n",
              "      <td>-0.27</td>\n",
              "      <td>-0.13</td>\n",
              "      <td>17.7</td>\n",
              "      <td>14.2</td>\n",
              "      <td>12.6</td>\n",
              "      <td>1.6</td>\n",
              "      <td>4.9</td>\n",
              "      <td>5.3</td>\n",
              "      <td>8.0</td>\n",
              "      <td>8.1</td>\n",
              "      <td>0.8</td>\n",
              "      <td>6.0</td>\n",
              "      <td>19.4</td>\n",
              "      <td>20.7</td>\n",
              "      <td>13.6</td>\n",
              "      <td>27.9</td>\n",
              "    </tr>\n",
              "    <tr>\n",
              "      <th>5</th>\n",
              "      <td>23.3</td>\n",
              "      <td>-2.5</td>\n",
              "      <td>-0.27</td>\n",
              "      <td>-0.24</td>\n",
              "      <td>-0.44</td>\n",
              "      <td>13.7</td>\n",
              "      <td>12.4</td>\n",
              "      <td>10.1</td>\n",
              "      <td>4.2</td>\n",
              "      <td>4.8</td>\n",
              "      <td>11.0</td>\n",
              "      <td>10.2</td>\n",
              "      <td>6.8</td>\n",
              "      <td>3.0</td>\n",
              "      <td>6.9</td>\n",
              "      <td>29.3</td>\n",
              "      <td>30.4</td>\n",
              "      <td>13.2</td>\n",
              "      <td>47.6</td>\n",
              "    </tr>\n",
              "  </tbody>\n",
              "</table>\n",
              "</div>"
            ],
            "text/plain": [
              "             Vegas_Pts  Vegas_Spread  DEf_Pass  DEF_Rush  DEF_DvP    L3     S  \\\n",
              "Player Name                                                                     \n",
              "1                 30.0           8.0      0.09     -0.10     0.14  22.3  21.5   \n",
              "2                 21.0           1.0     -0.08     -0.17    -0.20  23.0  19.5   \n",
              "3                 25.5          -6.0      0.33      0.17     0.48  18.0  17.8   \n",
              "4                 20.0          -5.0      0.06     -0.27    -0.13  17.7  14.2   \n",
              "5                 23.3          -2.5     -0.27     -0.24    -0.44  13.7  12.4   \n",
              "\n",
              "                P   RZ  YPA  Targets_L3  Targets_S  Targets_P  Targets_RZ  \\\n",
              "Player Name                                                                 \n",
              "1            21.0  6.2  4.8         5.3        5.0        5.4         1.8   \n",
              "2            19.4  2.3  5.0         4.0        5.0        4.3         0.8   \n",
              "3            16.9  3.0  4.7         4.0        4.8        5.1         0.5   \n",
              "4            12.6  1.6  4.9         5.3        8.0        8.1         0.8   \n",
              "5            10.1  4.2  4.8        11.0       10.2        6.8         3.0   \n",
              "\n",
              "             Targets_YPT  FP_L3  FP_S  FP_F  FP_C  \n",
              "Player Name                                        \n",
              "1                    8.2   32.8  31.0  25.8  36.2  \n",
              "2                    5.5   24.7  21.7  13.9  29.5  \n",
              "3                    5.2   16.2  18.6  11.9  25.4  \n",
              "4                    6.0   19.4  20.7  13.6  27.9  \n",
              "5                    6.9   29.3  30.4  13.2  47.6  "
            ]
          },
          "metadata": {
            "tags": []
          }
        },
        {
          "output_type": "display_data",
          "data": {
            "text/plain": [
              "Index(['Vegas_Pts', 'Vegas_Spread', 'DEf_Pass', 'DEF_Rush', 'DEF_DvP', 'L3',\n",
              "       'S', 'P', 'RZ', 'YPA', 'Targets_L3', 'Targets_S', 'Targets_P',\n",
              "       'Targets_RZ', 'Targets_YPT', 'FP_L3', 'FP_S', 'FP_F', 'FP_C'],\n",
              "      dtype='object')"
            ]
          },
          "metadata": {
            "tags": []
          }
        }
      ]
    },
    {
      "cell_type": "code",
      "metadata": {
        "id": "ilzzW0AqvjjG",
        "colab": {
          "base_uri": "https://localhost:8080/",
          "height": 70
        },
        "outputId": "862fef7f-d0c3-4796-94b4-b74590817f1f"
      },
      "source": [
        "X_new = fresh_Data.iloc[:,0:19]   \n",
        "display(X_new.index)"
      ],
      "execution_count": null,
      "outputs": [
        {
          "output_type": "display_data",
          "data": {
            "text/plain": [
              "Int64Index([ 1,  2,  3,  4,  5,  6,  7,  8,  9, 10, 11, 12, 13, 14, 15, 16, 17,\n",
              "            18, 19, 20, 21, 22, 23, 24],\n",
              "           dtype='int64', name='Player Name')"
            ]
          },
          "metadata": {
            "tags": []
          }
        }
      ]
    },
    {
      "cell_type": "code",
      "metadata": {
        "id": "IXTsxWWxvv9T",
        "colab": {
          "base_uri": "https://localhost:8080/",
          "height": 941
        },
        "outputId": "52822bdc-62b4-4010-d83b-4f81d82c8ef2"
      },
      "source": [
        "predicted_new = pipeline_f.predict(X_new)\n",
        "predicted=y_fit\n",
        "predicted=pd.DataFrame(predicted,columns=['PTS_predicted'],index=X_new.index)\n",
        "X_new['PTS_predicted'] = predicted['PTS_predicted']\n",
        "X_new"
      ],
      "execution_count": null,
      "outputs": [
        {
          "output_type": "stream",
          "text": [
            "/usr/local/lib/python3.6/dist-packages/ipykernel_launcher.py:4: SettingWithCopyWarning: \n",
            "A value is trying to be set on a copy of a slice from a DataFrame.\n",
            "Try using .loc[row_indexer,col_indexer] = value instead\n",
            "\n",
            "See the caveats in the documentation: http://pandas.pydata.org/pandas-docs/stable/indexing.html#indexing-view-versus-copy\n",
            "  after removing the cwd from sys.path.\n"
          ],
          "name": "stderr"
        },
        {
          "output_type": "execute_result",
          "data": {
            "text/html": [
              "<div>\n",
              "<style scoped>\n",
              "    .dataframe tbody tr th:only-of-type {\n",
              "        vertical-align: middle;\n",
              "    }\n",
              "\n",
              "    .dataframe tbody tr th {\n",
              "        vertical-align: top;\n",
              "    }\n",
              "\n",
              "    .dataframe thead th {\n",
              "        text-align: right;\n",
              "    }\n",
              "</style>\n",
              "<table border=\"1\" class=\"dataframe\">\n",
              "  <thead>\n",
              "    <tr style=\"text-align: right;\">\n",
              "      <th></th>\n",
              "      <th>Vegas_Pts</th>\n",
              "      <th>Vegas_Spread</th>\n",
              "      <th>DEf_Pass</th>\n",
              "      <th>DEF_Rush</th>\n",
              "      <th>DEF_DvP</th>\n",
              "      <th>L3</th>\n",
              "      <th>S</th>\n",
              "      <th>P</th>\n",
              "      <th>RZ</th>\n",
              "      <th>YPA</th>\n",
              "      <th>Targets_L3</th>\n",
              "      <th>Targets_S</th>\n",
              "      <th>Targets_P</th>\n",
              "      <th>Targets_RZ</th>\n",
              "      <th>Targets_YPT</th>\n",
              "      <th>FP_L3</th>\n",
              "      <th>FP_S</th>\n",
              "      <th>FP_F</th>\n",
              "      <th>FP_C</th>\n",
              "      <th>PTS_predicted</th>\n",
              "    </tr>\n",
              "    <tr>\n",
              "      <th>Player Name</th>\n",
              "      <th></th>\n",
              "      <th></th>\n",
              "      <th></th>\n",
              "      <th></th>\n",
              "      <th></th>\n",
              "      <th></th>\n",
              "      <th></th>\n",
              "      <th></th>\n",
              "      <th></th>\n",
              "      <th></th>\n",
              "      <th></th>\n",
              "      <th></th>\n",
              "      <th></th>\n",
              "      <th></th>\n",
              "      <th></th>\n",
              "      <th></th>\n",
              "      <th></th>\n",
              "      <th></th>\n",
              "      <th></th>\n",
              "      <th></th>\n",
              "    </tr>\n",
              "  </thead>\n",
              "  <tbody>\n",
              "    <tr>\n",
              "      <th>1</th>\n",
              "      <td>30.0</td>\n",
              "      <td>8.0</td>\n",
              "      <td>0.09</td>\n",
              "      <td>-0.10</td>\n",
              "      <td>0.14</td>\n",
              "      <td>22.3</td>\n",
              "      <td>21.5</td>\n",
              "      <td>21.0</td>\n",
              "      <td>6.2</td>\n",
              "      <td>4.8</td>\n",
              "      <td>5.3</td>\n",
              "      <td>5.0</td>\n",
              "      <td>5.4</td>\n",
              "      <td>1.8</td>\n",
              "      <td>8.2</td>\n",
              "      <td>32.8</td>\n",
              "      <td>31.0</td>\n",
              "      <td>25.8</td>\n",
              "      <td>36.2</td>\n",
              "      <td>32.126564</td>\n",
              "    </tr>\n",
              "    <tr>\n",
              "      <th>2</th>\n",
              "      <td>21.0</td>\n",
              "      <td>1.0</td>\n",
              "      <td>-0.08</td>\n",
              "      <td>-0.17</td>\n",
              "      <td>-0.20</td>\n",
              "      <td>23.0</td>\n",
              "      <td>19.5</td>\n",
              "      <td>19.4</td>\n",
              "      <td>2.3</td>\n",
              "      <td>5.0</td>\n",
              "      <td>4.0</td>\n",
              "      <td>5.0</td>\n",
              "      <td>4.3</td>\n",
              "      <td>0.8</td>\n",
              "      <td>5.5</td>\n",
              "      <td>24.7</td>\n",
              "      <td>21.7</td>\n",
              "      <td>13.9</td>\n",
              "      <td>29.5</td>\n",
              "      <td>9.216549</td>\n",
              "    </tr>\n",
              "    <tr>\n",
              "      <th>3</th>\n",
              "      <td>25.5</td>\n",
              "      <td>-6.0</td>\n",
              "      <td>0.33</td>\n",
              "      <td>0.17</td>\n",
              "      <td>0.48</td>\n",
              "      <td>18.0</td>\n",
              "      <td>17.8</td>\n",
              "      <td>16.9</td>\n",
              "      <td>3.0</td>\n",
              "      <td>4.7</td>\n",
              "      <td>4.0</td>\n",
              "      <td>4.8</td>\n",
              "      <td>5.1</td>\n",
              "      <td>0.5</td>\n",
              "      <td>5.2</td>\n",
              "      <td>16.2</td>\n",
              "      <td>18.6</td>\n",
              "      <td>11.9</td>\n",
              "      <td>25.4</td>\n",
              "      <td>11.758295</td>\n",
              "    </tr>\n",
              "    <tr>\n",
              "      <th>4</th>\n",
              "      <td>20.0</td>\n",
              "      <td>-5.0</td>\n",
              "      <td>0.06</td>\n",
              "      <td>-0.27</td>\n",
              "      <td>-0.13</td>\n",
              "      <td>17.7</td>\n",
              "      <td>14.2</td>\n",
              "      <td>12.6</td>\n",
              "      <td>1.6</td>\n",
              "      <td>4.9</td>\n",
              "      <td>5.3</td>\n",
              "      <td>8.0</td>\n",
              "      <td>8.1</td>\n",
              "      <td>0.8</td>\n",
              "      <td>6.0</td>\n",
              "      <td>19.4</td>\n",
              "      <td>20.7</td>\n",
              "      <td>13.6</td>\n",
              "      <td>27.9</td>\n",
              "      <td>11.210446</td>\n",
              "    </tr>\n",
              "    <tr>\n",
              "      <th>5</th>\n",
              "      <td>23.3</td>\n",
              "      <td>-2.5</td>\n",
              "      <td>-0.27</td>\n",
              "      <td>-0.24</td>\n",
              "      <td>-0.44</td>\n",
              "      <td>13.7</td>\n",
              "      <td>12.4</td>\n",
              "      <td>10.1</td>\n",
              "      <td>4.2</td>\n",
              "      <td>4.8</td>\n",
              "      <td>11.0</td>\n",
              "      <td>10.2</td>\n",
              "      <td>6.8</td>\n",
              "      <td>3.0</td>\n",
              "      <td>6.9</td>\n",
              "      <td>29.3</td>\n",
              "      <td>30.4</td>\n",
              "      <td>13.2</td>\n",
              "      <td>47.6</td>\n",
              "      <td>25.568073</td>\n",
              "    </tr>\n",
              "    <tr>\n",
              "      <th>6</th>\n",
              "      <td>31.5</td>\n",
              "      <td>6.0</td>\n",
              "      <td>0.14</td>\n",
              "      <td>0.07</td>\n",
              "      <td>0.21</td>\n",
              "      <td>17.0</td>\n",
              "      <td>17.2</td>\n",
              "      <td>17.0</td>\n",
              "      <td>2.5</td>\n",
              "      <td>4.4</td>\n",
              "      <td>4.0</td>\n",
              "      <td>2.5</td>\n",
              "      <td>3.7</td>\n",
              "      <td>0.5</td>\n",
              "      <td>11.4</td>\n",
              "      <td>26.1</td>\n",
              "      <td>19.1</td>\n",
              "      <td>8.9</td>\n",
              "      <td>29.3</td>\n",
              "      <td>24.907475</td>\n",
              "    </tr>\n",
              "    <tr>\n",
              "      <th>7</th>\n",
              "      <td>23.0</td>\n",
              "      <td>3.5</td>\n",
              "      <td>-0.04</td>\n",
              "      <td>-0.12</td>\n",
              "      <td>-0.07</td>\n",
              "      <td>12.0</td>\n",
              "      <td>11.2</td>\n",
              "      <td>13.4</td>\n",
              "      <td>1.7</td>\n",
              "      <td>4.5</td>\n",
              "      <td>6.0</td>\n",
              "      <td>6.2</td>\n",
              "      <td>5.8</td>\n",
              "      <td>1.0</td>\n",
              "      <td>6.0</td>\n",
              "      <td>20.1</td>\n",
              "      <td>16.7</td>\n",
              "      <td>9.6</td>\n",
              "      <td>23.8</td>\n",
              "      <td>12.948681</td>\n",
              "    </tr>\n",
              "    <tr>\n",
              "      <th>8</th>\n",
              "      <td>24.8</td>\n",
              "      <td>1.0</td>\n",
              "      <td>0.01</td>\n",
              "      <td>-0.24</td>\n",
              "      <td>-0.49</td>\n",
              "      <td>5.3</td>\n",
              "      <td>4.8</td>\n",
              "      <td>5.0</td>\n",
              "      <td>1.0</td>\n",
              "      <td>5.1</td>\n",
              "      <td>10.3</td>\n",
              "      <td>8.5</td>\n",
              "      <td>7.4</td>\n",
              "      <td>1.5</td>\n",
              "      <td>6.3</td>\n",
              "      <td>23.0</td>\n",
              "      <td>19.0</td>\n",
              "      <td>12.1</td>\n",
              "      <td>26.0</td>\n",
              "      <td>22.819334</td>\n",
              "    </tr>\n",
              "    <tr>\n",
              "      <th>9</th>\n",
              "      <td>25.0</td>\n",
              "      <td>3.0</td>\n",
              "      <td>0.08</td>\n",
              "      <td>0.08</td>\n",
              "      <td>0.35</td>\n",
              "      <td>12.3</td>\n",
              "      <td>10.0</td>\n",
              "      <td>12.1</td>\n",
              "      <td>0.6</td>\n",
              "      <td>5.7</td>\n",
              "      <td>2.0</td>\n",
              "      <td>3.0</td>\n",
              "      <td>4.3</td>\n",
              "      <td>0.4</td>\n",
              "      <td>4.5</td>\n",
              "      <td>13.0</td>\n",
              "      <td>11.5</td>\n",
              "      <td>8.1</td>\n",
              "      <td>14.9</td>\n",
              "      <td>14.807181</td>\n",
              "    </tr>\n",
              "    <tr>\n",
              "      <th>10</th>\n",
              "      <td>23.3</td>\n",
              "      <td>-2.5</td>\n",
              "      <td>-0.27</td>\n",
              "      <td>-0.24</td>\n",
              "      <td>-0.44</td>\n",
              "      <td>16.0</td>\n",
              "      <td>16.0</td>\n",
              "      <td>12.3</td>\n",
              "      <td>3.0</td>\n",
              "      <td>3.3</td>\n",
              "      <td>3.0</td>\n",
              "      <td>3.0</td>\n",
              "      <td>3.4</td>\n",
              "      <td>0.0</td>\n",
              "      <td>6.7</td>\n",
              "      <td>21.3</td>\n",
              "      <td>21.3</td>\n",
              "      <td>21.3</td>\n",
              "      <td>21.3</td>\n",
              "      <td>6.170845</td>\n",
              "    </tr>\n",
              "    <tr>\n",
              "      <th>11</th>\n",
              "      <td>23.8</td>\n",
              "      <td>-1.0</td>\n",
              "      <td>0.05</td>\n",
              "      <td>0.01</td>\n",
              "      <td>0.07</td>\n",
              "      <td>7.7</td>\n",
              "      <td>6.4</td>\n",
              "      <td>6.5</td>\n",
              "      <td>0.8</td>\n",
              "      <td>5.3</td>\n",
              "      <td>6.7</td>\n",
              "      <td>5.0</td>\n",
              "      <td>5.6</td>\n",
              "      <td>1.0</td>\n",
              "      <td>10.4</td>\n",
              "      <td>22.4</td>\n",
              "      <td>15.6</td>\n",
              "      <td>2.9</td>\n",
              "      <td>28.2</td>\n",
              "      <td>18.009554</td>\n",
              "    </tr>\n",
              "    <tr>\n",
              "      <th>12</th>\n",
              "      <td>24.5</td>\n",
              "      <td>-3.5</td>\n",
              "      <td>0.38</td>\n",
              "      <td>-0.23</td>\n",
              "      <td>0.07</td>\n",
              "      <td>3.0</td>\n",
              "      <td>2.7</td>\n",
              "      <td>14.7</td>\n",
              "      <td>0.2</td>\n",
              "      <td>10.8</td>\n",
              "      <td>0.3</td>\n",
              "      <td>0.2</td>\n",
              "      <td>2.2</td>\n",
              "      <td>0.0</td>\n",
              "      <td>0.0</td>\n",
              "      <td>9.4</td>\n",
              "      <td>5.4</td>\n",
              "      <td>-4.5</td>\n",
              "      <td>15.3</td>\n",
              "      <td>18.938709</td>\n",
              "    </tr>\n",
              "    <tr>\n",
              "      <th>13</th>\n",
              "      <td>24.5</td>\n",
              "      <td>-3.5</td>\n",
              "      <td>0.38</td>\n",
              "      <td>-0.23</td>\n",
              "      <td>0.07</td>\n",
              "      <td>3.0</td>\n",
              "      <td>3.2</td>\n",
              "      <td>6.4</td>\n",
              "      <td>0.2</td>\n",
              "      <td>5.8</td>\n",
              "      <td>4.0</td>\n",
              "      <td>3.7</td>\n",
              "      <td>5.3</td>\n",
              "      <td>0.3</td>\n",
              "      <td>7.5</td>\n",
              "      <td>11.2</td>\n",
              "      <td>7.6</td>\n",
              "      <td>2.3</td>\n",
              "      <td>12.8</td>\n",
              "      <td>11.183182</td>\n",
              "    </tr>\n",
              "    <tr>\n",
              "      <th>14</th>\n",
              "      <td>25.0</td>\n",
              "      <td>5.0</td>\n",
              "      <td>0.00</td>\n",
              "      <td>-0.06</td>\n",
              "      <td>-0.25</td>\n",
              "      <td>11.0</td>\n",
              "      <td>9.5</td>\n",
              "      <td>11.0</td>\n",
              "      <td>2.8</td>\n",
              "      <td>4.1</td>\n",
              "      <td>4.3</td>\n",
              "      <td>3.3</td>\n",
              "      <td>3.4</td>\n",
              "      <td>0.3</td>\n",
              "      <td>7.7</td>\n",
              "      <td>15.3</td>\n",
              "      <td>12.1</td>\n",
              "      <td>4.8</td>\n",
              "      <td>19.5</td>\n",
              "      <td>10.235665</td>\n",
              "    </tr>\n",
              "    <tr>\n",
              "      <th>15</th>\n",
              "      <td>25.8</td>\n",
              "      <td>2.5</td>\n",
              "      <td>0.16</td>\n",
              "      <td>-0.35</td>\n",
              "      <td>-0.32</td>\n",
              "      <td>14.0</td>\n",
              "      <td>12.7</td>\n",
              "      <td>13.4</td>\n",
              "      <td>1.8</td>\n",
              "      <td>3.6</td>\n",
              "      <td>1.7</td>\n",
              "      <td>2.3</td>\n",
              "      <td>2.6</td>\n",
              "      <td>0.7</td>\n",
              "      <td>5.5</td>\n",
              "      <td>11.8</td>\n",
              "      <td>12.0</td>\n",
              "      <td>7.8</td>\n",
              "      <td>16.1</td>\n",
              "      <td>8.338141</td>\n",
              "    </tr>\n",
              "    <tr>\n",
              "      <th>16</th>\n",
              "      <td>20.0</td>\n",
              "      <td>-1.0</td>\n",
              "      <td>-0.13</td>\n",
              "      <td>-0.17</td>\n",
              "      <td>-0.09</td>\n",
              "      <td>13.3</td>\n",
              "      <td>15.4</td>\n",
              "      <td>15.2</td>\n",
              "      <td>3.4</td>\n",
              "      <td>4.4</td>\n",
              "      <td>1.3</td>\n",
              "      <td>2.0</td>\n",
              "      <td>2.1</td>\n",
              "      <td>0.0</td>\n",
              "      <td>13.6</td>\n",
              "      <td>14.3</td>\n",
              "      <td>14.9</td>\n",
              "      <td>5.3</td>\n",
              "      <td>24.5</td>\n",
              "      <td>10.696992</td>\n",
              "    </tr>\n",
              "    <tr>\n",
              "      <th>17</th>\n",
              "      <td>24.3</td>\n",
              "      <td>3.5</td>\n",
              "      <td>0.06</td>\n",
              "      <td>-0.01</td>\n",
              "      <td>0.03</td>\n",
              "      <td>12.3</td>\n",
              "      <td>9.0</td>\n",
              "      <td>14.8</td>\n",
              "      <td>0.7</td>\n",
              "      <td>4.8</td>\n",
              "      <td>2.0</td>\n",
              "      <td>2.2</td>\n",
              "      <td>2.5</td>\n",
              "      <td>0.0</td>\n",
              "      <td>4.8</td>\n",
              "      <td>13.1</td>\n",
              "      <td>8.9</td>\n",
              "      <td>0.3</td>\n",
              "      <td>17.5</td>\n",
              "      <td>16.055101</td>\n",
              "    </tr>\n",
              "    <tr>\n",
              "      <th>18</th>\n",
              "      <td>25.0</td>\n",
              "      <td>5.0</td>\n",
              "      <td>0.00</td>\n",
              "      <td>-0.06</td>\n",
              "      <td>-0.25</td>\n",
              "      <td>8.7</td>\n",
              "      <td>7.2</td>\n",
              "      <td>10.2</td>\n",
              "      <td>1.5</td>\n",
              "      <td>4.7</td>\n",
              "      <td>3.7</td>\n",
              "      <td>2.8</td>\n",
              "      <td>3.6</td>\n",
              "      <td>0.8</td>\n",
              "      <td>5.6</td>\n",
              "      <td>10.9</td>\n",
              "      <td>9.0</td>\n",
              "      <td>1.3</td>\n",
              "      <td>16.6</td>\n",
              "      <td>12.137405</td>\n",
              "    </tr>\n",
              "    <tr>\n",
              "      <th>19</th>\n",
              "      <td>22.0</td>\n",
              "      <td>-3.0</td>\n",
              "      <td>-0.14</td>\n",
              "      <td>0.33</td>\n",
              "      <td>0.13</td>\n",
              "      <td>7.3</td>\n",
              "      <td>8.7</td>\n",
              "      <td>8.9</td>\n",
              "      <td>1.0</td>\n",
              "      <td>4.0</td>\n",
              "      <td>6.3</td>\n",
              "      <td>5.2</td>\n",
              "      <td>4.4</td>\n",
              "      <td>0.3</td>\n",
              "      <td>4.7</td>\n",
              "      <td>12.6</td>\n",
              "      <td>11.3</td>\n",
              "      <td>2.8</td>\n",
              "      <td>19.7</td>\n",
              "      <td>16.855679</td>\n",
              "    </tr>\n",
              "    <tr>\n",
              "      <th>20</th>\n",
              "      <td>23.8</td>\n",
              "      <td>-1.0</td>\n",
              "      <td>0.05</td>\n",
              "      <td>0.01</td>\n",
              "      <td>0.07</td>\n",
              "      <td>16.3</td>\n",
              "      <td>15.6</td>\n",
              "      <td>14.0</td>\n",
              "      <td>2.0</td>\n",
              "      <td>3.5</td>\n",
              "      <td>1.3</td>\n",
              "      <td>2.6</td>\n",
              "      <td>2.2</td>\n",
              "      <td>0.6</td>\n",
              "      <td>6.0</td>\n",
              "      <td>8.2</td>\n",
              "      <td>10.0</td>\n",
              "      <td>4.0</td>\n",
              "      <td>16.0</td>\n",
              "      <td>12.630054</td>\n",
              "    </tr>\n",
              "    <tr>\n",
              "      <th>21</th>\n",
              "      <td>25.0</td>\n",
              "      <td>7.0</td>\n",
              "      <td>-0.15</td>\n",
              "      <td>-0.15</td>\n",
              "      <td>0.06</td>\n",
              "      <td>11.0</td>\n",
              "      <td>11.0</td>\n",
              "      <td>11.4</td>\n",
              "      <td>3.0</td>\n",
              "      <td>5.6</td>\n",
              "      <td>2.0</td>\n",
              "      <td>2.0</td>\n",
              "      <td>3.2</td>\n",
              "      <td>0.5</td>\n",
              "      <td>1.5</td>\n",
              "      <td>7.5</td>\n",
              "      <td>7.5</td>\n",
              "      <td>3.4</td>\n",
              "      <td>11.5</td>\n",
              "      <td>21.615284</td>\n",
              "    </tr>\n",
              "    <tr>\n",
              "      <th>22</th>\n",
              "      <td>20.8</td>\n",
              "      <td>-3.5</td>\n",
              "      <td>0.04</td>\n",
              "      <td>-0.15</td>\n",
              "      <td>-0.26</td>\n",
              "      <td>14.7</td>\n",
              "      <td>12.5</td>\n",
              "      <td>12.0</td>\n",
              "      <td>1.7</td>\n",
              "      <td>4.3</td>\n",
              "      <td>2.7</td>\n",
              "      <td>2.8</td>\n",
              "      <td>3.3</td>\n",
              "      <td>0.2</td>\n",
              "      <td>6.2</td>\n",
              "      <td>8.0</td>\n",
              "      <td>9.6</td>\n",
              "      <td>4.9</td>\n",
              "      <td>14.4</td>\n",
              "      <td>11.209327</td>\n",
              "    </tr>\n",
              "    <tr>\n",
              "      <th>23</th>\n",
              "      <td>19.5</td>\n",
              "      <td>-3.5</td>\n",
              "      <td>-0.27</td>\n",
              "      <td>0.09</td>\n",
              "      <td>-0.20</td>\n",
              "      <td>13.0</td>\n",
              "      <td>14.6</td>\n",
              "      <td>14.3</td>\n",
              "      <td>2.6</td>\n",
              "      <td>3.7</td>\n",
              "      <td>3.0</td>\n",
              "      <td>2.6</td>\n",
              "      <td>3.0</td>\n",
              "      <td>0.2</td>\n",
              "      <td>6.1</td>\n",
              "      <td>9.7</td>\n",
              "      <td>10.0</td>\n",
              "      <td>6.2</td>\n",
              "      <td>13.8</td>\n",
              "      <td>15.607928</td>\n",
              "    </tr>\n",
              "    <tr>\n",
              "      <th>24</th>\n",
              "      <td>28.0</td>\n",
              "      <td>3.5</td>\n",
              "      <td>0.05</td>\n",
              "      <td>0.26</td>\n",
              "      <td>0.28</td>\n",
              "      <td>9.3</td>\n",
              "      <td>12.6</td>\n",
              "      <td>13.0</td>\n",
              "      <td>2.0</td>\n",
              "      <td>3.7</td>\n",
              "      <td>2.7</td>\n",
              "      <td>2.0</td>\n",
              "      <td>2.2</td>\n",
              "      <td>0.6</td>\n",
              "      <td>3.7</td>\n",
              "      <td>9.3</td>\n",
              "      <td>7.7</td>\n",
              "      <td>0.4</td>\n",
              "      <td>15.1</td>\n",
              "      <td>17.008394</td>\n",
              "    </tr>\n",
              "  </tbody>\n",
              "</table>\n",
              "</div>"
            ],
            "text/plain": [
              "             Vegas_Pts  Vegas_Spread  DEf_Pass  DEF_Rush  DEF_DvP    L3     S  \\\n",
              "Player Name                                                                     \n",
              "1                 30.0           8.0      0.09     -0.10     0.14  22.3  21.5   \n",
              "2                 21.0           1.0     -0.08     -0.17    -0.20  23.0  19.5   \n",
              "3                 25.5          -6.0      0.33      0.17     0.48  18.0  17.8   \n",
              "4                 20.0          -5.0      0.06     -0.27    -0.13  17.7  14.2   \n",
              "5                 23.3          -2.5     -0.27     -0.24    -0.44  13.7  12.4   \n",
              "6                 31.5           6.0      0.14      0.07     0.21  17.0  17.2   \n",
              "7                 23.0           3.5     -0.04     -0.12    -0.07  12.0  11.2   \n",
              "8                 24.8           1.0      0.01     -0.24    -0.49   5.3   4.8   \n",
              "9                 25.0           3.0      0.08      0.08     0.35  12.3  10.0   \n",
              "10                23.3          -2.5     -0.27     -0.24    -0.44  16.0  16.0   \n",
              "11                23.8          -1.0      0.05      0.01     0.07   7.7   6.4   \n",
              "12                24.5          -3.5      0.38     -0.23     0.07   3.0   2.7   \n",
              "13                24.5          -3.5      0.38     -0.23     0.07   3.0   3.2   \n",
              "14                25.0           5.0      0.00     -0.06    -0.25  11.0   9.5   \n",
              "15                25.8           2.5      0.16     -0.35    -0.32  14.0  12.7   \n",
              "16                20.0          -1.0     -0.13     -0.17    -0.09  13.3  15.4   \n",
              "17                24.3           3.5      0.06     -0.01     0.03  12.3   9.0   \n",
              "18                25.0           5.0      0.00     -0.06    -0.25   8.7   7.2   \n",
              "19                22.0          -3.0     -0.14      0.33     0.13   7.3   8.7   \n",
              "20                23.8          -1.0      0.05      0.01     0.07  16.3  15.6   \n",
              "21                25.0           7.0     -0.15     -0.15     0.06  11.0  11.0   \n",
              "22                20.8          -3.5      0.04     -0.15    -0.26  14.7  12.5   \n",
              "23                19.5          -3.5     -0.27      0.09    -0.20  13.0  14.6   \n",
              "24                28.0           3.5      0.05      0.26     0.28   9.3  12.6   \n",
              "\n",
              "                P   RZ   YPA  Targets_L3  Targets_S  Targets_P  Targets_RZ  \\\n",
              "Player Name                                                                  \n",
              "1            21.0  6.2   4.8         5.3        5.0        5.4         1.8   \n",
              "2            19.4  2.3   5.0         4.0        5.0        4.3         0.8   \n",
              "3            16.9  3.0   4.7         4.0        4.8        5.1         0.5   \n",
              "4            12.6  1.6   4.9         5.3        8.0        8.1         0.8   \n",
              "5            10.1  4.2   4.8        11.0       10.2        6.8         3.0   \n",
              "6            17.0  2.5   4.4         4.0        2.5        3.7         0.5   \n",
              "7            13.4  1.7   4.5         6.0        6.2        5.8         1.0   \n",
              "8             5.0  1.0   5.1        10.3        8.5        7.4         1.5   \n",
              "9            12.1  0.6   5.7         2.0        3.0        4.3         0.4   \n",
              "10           12.3  3.0   3.3         3.0        3.0        3.4         0.0   \n",
              "11            6.5  0.8   5.3         6.7        5.0        5.6         1.0   \n",
              "12           14.7  0.2  10.8         0.3        0.2        2.2         0.0   \n",
              "13            6.4  0.2   5.8         4.0        3.7        5.3         0.3   \n",
              "14           11.0  2.8   4.1         4.3        3.3        3.4         0.3   \n",
              "15           13.4  1.8   3.6         1.7        2.3        2.6         0.7   \n",
              "16           15.2  3.4   4.4         1.3        2.0        2.1         0.0   \n",
              "17           14.8  0.7   4.8         2.0        2.2        2.5         0.0   \n",
              "18           10.2  1.5   4.7         3.7        2.8        3.6         0.8   \n",
              "19            8.9  1.0   4.0         6.3        5.2        4.4         0.3   \n",
              "20           14.0  2.0   3.5         1.3        2.6        2.2         0.6   \n",
              "21           11.4  3.0   5.6         2.0        2.0        3.2         0.5   \n",
              "22           12.0  1.7   4.3         2.7        2.8        3.3         0.2   \n",
              "23           14.3  2.6   3.7         3.0        2.6        3.0         0.2   \n",
              "24           13.0  2.0   3.7         2.7        2.0        2.2         0.6   \n",
              "\n",
              "             Targets_YPT  FP_L3  FP_S  FP_F  FP_C  PTS_predicted  \n",
              "Player Name                                                       \n",
              "1                    8.2   32.8  31.0  25.8  36.2      32.126564  \n",
              "2                    5.5   24.7  21.7  13.9  29.5       9.216549  \n",
              "3                    5.2   16.2  18.6  11.9  25.4      11.758295  \n",
              "4                    6.0   19.4  20.7  13.6  27.9      11.210446  \n",
              "5                    6.9   29.3  30.4  13.2  47.6      25.568073  \n",
              "6                   11.4   26.1  19.1   8.9  29.3      24.907475  \n",
              "7                    6.0   20.1  16.7   9.6  23.8      12.948681  \n",
              "8                    6.3   23.0  19.0  12.1  26.0      22.819334  \n",
              "9                    4.5   13.0  11.5   8.1  14.9      14.807181  \n",
              "10                   6.7   21.3  21.3  21.3  21.3       6.170845  \n",
              "11                  10.4   22.4  15.6   2.9  28.2      18.009554  \n",
              "12                   0.0    9.4   5.4  -4.5  15.3      18.938709  \n",
              "13                   7.5   11.2   7.6   2.3  12.8      11.183182  \n",
              "14                   7.7   15.3  12.1   4.8  19.5      10.235665  \n",
              "15                   5.5   11.8  12.0   7.8  16.1       8.338141  \n",
              "16                  13.6   14.3  14.9   5.3  24.5      10.696992  \n",
              "17                   4.8   13.1   8.9   0.3  17.5      16.055101  \n",
              "18                   5.6   10.9   9.0   1.3  16.6      12.137405  \n",
              "19                   4.7   12.6  11.3   2.8  19.7      16.855679  \n",
              "20                   6.0    8.2  10.0   4.0  16.0      12.630054  \n",
              "21                   1.5    7.5   7.5   3.4  11.5      21.615284  \n",
              "22                   6.2    8.0   9.6   4.9  14.4      11.209327  \n",
              "23                   6.1    9.7  10.0   6.2  13.8      15.607928  \n",
              "24                   3.7    9.3   7.7   0.4  15.1      17.008394  "
            ]
          },
          "metadata": {
            "tags": []
          },
          "execution_count": 62
        }
      ]
    },
    {
      "cell_type": "code",
      "metadata": {
        "id": "wF5E3QRJyyIr"
      },
      "source": [
        ""
      ],
      "execution_count": null,
      "outputs": []
    }
  ]
}