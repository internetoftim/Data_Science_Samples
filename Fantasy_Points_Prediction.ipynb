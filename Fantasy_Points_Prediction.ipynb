{
  "nbformat": 4,
  "nbformat_minor": 0,
  "metadata": {
    "colab": {
      "name": "Fantasy Points Prediction.ipynb",
      "version": "0.3.2",
      "provenance": [],
      "collapsed_sections": [],
      "toc_visible": true,
      "include_colab_link": true
    },
    "kernelspec": {
      "name": "python3",
      "display_name": "Python 3"
    }
  },
  "cells": [
    {
      "cell_type": "markdown",
      "metadata": {
        "id": "view-in-github",
        "colab_type": "text"
      },
      "source": [
        "<a href=\"https://colab.research.google.com/github/timotdsantos/Auto_Data_Science_Challenge/blob/master/Fantasy_Points_Prediction.ipynb\" target=\"_parent\"><img src=\"https://colab.research.google.com/assets/colab-badge.svg\" alt=\"Open In Colab\"/></a>"
      ]
    },
    {
      "metadata": {
        "id": "Ef_5fN91hZlO",
        "colab_type": "code",
        "colab": {
          "base_uri": "https://localhost:8080/",
          "height": 463
        },
        "outputId": "adafecf7-7530-47bd-f5e5-529a4d577d14"
      },
      "cell_type": "code",
      "source": [
        "!pip install PyDrive\n",
        "!git clone https://github.com/timotdsantos/SportsPredict.git"
      ],
      "execution_count": 5,
      "outputs": [
        {
          "output_type": "stream",
          "text": [
            "Collecting PyDrive\n",
            "\u001b[?25l  Downloading https://files.pythonhosted.org/packages/52/e0/0e64788e5dd58ce2d6934549676243dc69d982f198524be9b99e9c2a4fd5/PyDrive-1.3.1.tar.gz (987kB)\n",
            "\u001b[K    100% |████████████████████████████████| 993kB 7.3MB/s \n",
            "\u001b[?25hRequirement already satisfied: google-api-python-client>=1.2 in /usr/local/lib/python3.6/dist-packages (from PyDrive) (1.6.7)\n",
            "Requirement already satisfied: oauth2client>=4.0.0 in /usr/local/lib/python3.6/dist-packages (from PyDrive) (4.1.3)\n",
            "Requirement already satisfied: PyYAML>=3.0 in /usr/local/lib/python3.6/dist-packages (from PyDrive) (3.13)\n",
            "Requirement already satisfied: httplib2<1dev,>=0.9.2 in /usr/local/lib/python3.6/dist-packages (from google-api-python-client>=1.2->PyDrive) (0.11.3)\n",
            "Requirement already satisfied: six<2dev,>=1.6.1 in /usr/local/lib/python3.6/dist-packages (from google-api-python-client>=1.2->PyDrive) (1.11.0)\n",
            "Requirement already satisfied: uritemplate<4dev,>=3.0.0 in /usr/local/lib/python3.6/dist-packages (from google-api-python-client>=1.2->PyDrive) (3.0.0)\n",
            "Requirement already satisfied: rsa>=3.1.4 in /usr/local/lib/python3.6/dist-packages (from oauth2client>=4.0.0->PyDrive) (4.0)\n",
            "Requirement already satisfied: pyasn1-modules>=0.0.5 in /usr/local/lib/python3.6/dist-packages (from oauth2client>=4.0.0->PyDrive) (0.2.2)\n",
            "Requirement already satisfied: pyasn1>=0.1.7 in /usr/local/lib/python3.6/dist-packages (from oauth2client>=4.0.0->PyDrive) (0.4.4)\n",
            "Building wheels for collected packages: PyDrive\n",
            "  Running setup.py bdist_wheel for PyDrive ... \u001b[?25l-\b \b\\\b \bdone\n",
            "\u001b[?25h  Stored in directory: /root/.cache/pip/wheels/fa/d2/9a/d3b6b506c2da98289e5d417215ce34b696db856643bad779f4\n",
            "Successfully built PyDrive\n",
            "Installing collected packages: PyDrive\n",
            "Successfully installed PyDrive-1.3.1\n",
            "Cloning into 'SportsPredict'...\n",
            "remote: Enumerating objects: 9, done.\u001b[K\n",
            "remote: Counting objects: 100% (9/9), done.\u001b[K\n",
            "remote: Compressing objects: 100% (7/7), done.\u001b[K\n",
            "remote: Total 9 (delta 0), reused 6 (delta 0), pack-reused 0\u001b[K\n",
            "Unpacking objects: 100% (9/9), done.\n"
          ],
          "name": "stdout"
        }
      ]
    },
    {
      "metadata": {
        "id": "mSksBB3DhfsK",
        "colab_type": "code",
        "colab": {}
      },
      "cell_type": "code",
      "source": [
        "# Dependencies\n",
        "import numpy as np\n",
        "import pandas as pd\n",
        "import matplotlib.pyplot as plt\n",
        "import seaborn as sns\n",
        "import math\n",
        "%matplotlib inline\n",
        "import matplotlib.pyplot as plt\n",
        "\n",
        "from sklearn.model_selection import train_test_split\n",
        "from sklearn.preprocessing import LabelEncoder, StandardScaler\n",
        "from keras.utils import to_categorical\n",
        "\n",
        "from keras.models import Sequential\n",
        "from keras.layers import Dense\n",
        "from keras.wrappers.scikit_learn import KerasRegressor\n",
        "from sklearn.model_selection import cross_val_score\n",
        "from sklearn.model_selection import KFold\n",
        "from sklearn.preprocessing import StandardScaler\n",
        "from sklearn.pipeline import Pipeline\n",
        "from sklearn.model_selection import LeaveOneOut\n",
        "from sklearn.model_selection import cross_val_predict\n"
      ],
      "execution_count": 0,
      "outputs": []
    },
    {
      "metadata": {
        "id": "mM7jSrz7kW25",
        "colab_type": "code",
        "colab": {
          "base_uri": "https://localhost:8080/",
          "height": 34
        },
        "outputId": "ae5dd363-adbf-4482-ee95-cca177913b72"
      },
      "cell_type": "code",
      "source": [
        "cd SportsPredict/\n"
      ],
      "execution_count": 7,
      "outputs": [
        {
          "output_type": "stream",
          "text": [
            "/content/SportsPredict\n"
          ],
          "name": "stdout"
        }
      ]
    },
    {
      "metadata": {
        "id": "ZMlpfp-ekzil",
        "colab_type": "code",
        "colab": {
          "base_uri": "https://localhost:8080/",
          "height": 382
        },
        "outputId": "10072f98-d5ec-421f-a1b3-e6f7ded7e19f"
      },
      "cell_type": "code",
      "source": [
        "rb = pd.read_csv('rb_gb_copy.csv', index_col=0)\n",
        "display(rb.head())\n",
        "display(rb.columns)"
      ],
      "execution_count": 8,
      "outputs": [
        {
          "output_type": "display_data",
          "data": {
            "text/html": [
              "<div>\n",
              "<style scoped>\n",
              "    .dataframe tbody tr th:only-of-type {\n",
              "        vertical-align: middle;\n",
              "    }\n",
              "\n",
              "    .dataframe tbody tr th {\n",
              "        vertical-align: top;\n",
              "    }\n",
              "\n",
              "    .dataframe thead th {\n",
              "        text-align: right;\n",
              "    }\n",
              "</style>\n",
              "<table border=\"1\" class=\"dataframe\">\n",
              "  <thead>\n",
              "    <tr style=\"text-align: right;\">\n",
              "      <th></th>\n",
              "      <th>Vegas_Pts</th>\n",
              "      <th>Vegas_Spread</th>\n",
              "      <th>DEf_Pass</th>\n",
              "      <th>DEF_Rush</th>\n",
              "      <th>DEF_DvP</th>\n",
              "      <th>L3</th>\n",
              "      <th>S</th>\n",
              "      <th>P</th>\n",
              "      <th>RZ</th>\n",
              "      <th>YPA</th>\n",
              "      <th>...</th>\n",
              "      <th>Targets_S</th>\n",
              "      <th>Targets_P</th>\n",
              "      <th>Targets_RZ</th>\n",
              "      <th>Targets_YPT</th>\n",
              "      <th>FP_L3</th>\n",
              "      <th>FP_S</th>\n",
              "      <th>FP_F</th>\n",
              "      <th>FP_C</th>\n",
              "      <th>PTS</th>\n",
              "      <th>GAB</th>\n",
              "    </tr>\n",
              "    <tr>\n",
              "      <th>Player Name</th>\n",
              "      <th></th>\n",
              "      <th></th>\n",
              "      <th></th>\n",
              "      <th></th>\n",
              "      <th></th>\n",
              "      <th></th>\n",
              "      <th></th>\n",
              "      <th></th>\n",
              "      <th></th>\n",
              "      <th></th>\n",
              "      <th></th>\n",
              "      <th></th>\n",
              "      <th></th>\n",
              "      <th></th>\n",
              "      <th></th>\n",
              "      <th></th>\n",
              "      <th></th>\n",
              "      <th></th>\n",
              "      <th></th>\n",
              "      <th></th>\n",
              "      <th></th>\n",
              "    </tr>\n",
              "  </thead>\n",
              "  <tbody>\n",
              "    <tr>\n",
              "      <th>1</th>\n",
              "      <td>30.0</td>\n",
              "      <td>8.0</td>\n",
              "      <td>0.09</td>\n",
              "      <td>-0.10</td>\n",
              "      <td>0.14</td>\n",
              "      <td>22.3</td>\n",
              "      <td>21.5</td>\n",
              "      <td>21.0</td>\n",
              "      <td>6.2</td>\n",
              "      <td>4.8</td>\n",
              "      <td>...</td>\n",
              "      <td>5.0</td>\n",
              "      <td>5.4</td>\n",
              "      <td>1.8</td>\n",
              "      <td>8.2</td>\n",
              "      <td>32.8</td>\n",
              "      <td>31.0</td>\n",
              "      <td>25.8</td>\n",
              "      <td>36.2</td>\n",
              "      <td>30.6</td>\n",
              "      <td>G</td>\n",
              "    </tr>\n",
              "    <tr>\n",
              "      <th>2</th>\n",
              "      <td>21.0</td>\n",
              "      <td>1.0</td>\n",
              "      <td>-0.08</td>\n",
              "      <td>-0.17</td>\n",
              "      <td>-0.20</td>\n",
              "      <td>23.0</td>\n",
              "      <td>19.5</td>\n",
              "      <td>19.4</td>\n",
              "      <td>2.3</td>\n",
              "      <td>5.0</td>\n",
              "      <td>...</td>\n",
              "      <td>5.0</td>\n",
              "      <td>4.3</td>\n",
              "      <td>0.8</td>\n",
              "      <td>5.5</td>\n",
              "      <td>24.7</td>\n",
              "      <td>21.7</td>\n",
              "      <td>13.9</td>\n",
              "      <td>29.5</td>\n",
              "      <td>3.7</td>\n",
              "      <td>B</td>\n",
              "    </tr>\n",
              "    <tr>\n",
              "      <th>3</th>\n",
              "      <td>25.5</td>\n",
              "      <td>-6.0</td>\n",
              "      <td>0.33</td>\n",
              "      <td>0.17</td>\n",
              "      <td>0.48</td>\n",
              "      <td>18.0</td>\n",
              "      <td>17.8</td>\n",
              "      <td>16.9</td>\n",
              "      <td>3.0</td>\n",
              "      <td>4.7</td>\n",
              "      <td>...</td>\n",
              "      <td>4.8</td>\n",
              "      <td>5.1</td>\n",
              "      <td>0.5</td>\n",
              "      <td>5.2</td>\n",
              "      <td>16.2</td>\n",
              "      <td>18.6</td>\n",
              "      <td>11.9</td>\n",
              "      <td>25.4</td>\n",
              "      <td>8.1</td>\n",
              "      <td>B</td>\n",
              "    </tr>\n",
              "    <tr>\n",
              "      <th>4</th>\n",
              "      <td>20.0</td>\n",
              "      <td>-5.0</td>\n",
              "      <td>0.06</td>\n",
              "      <td>-0.27</td>\n",
              "      <td>-0.13</td>\n",
              "      <td>17.7</td>\n",
              "      <td>14.2</td>\n",
              "      <td>12.6</td>\n",
              "      <td>1.6</td>\n",
              "      <td>4.9</td>\n",
              "      <td>...</td>\n",
              "      <td>8.0</td>\n",
              "      <td>8.1</td>\n",
              "      <td>0.8</td>\n",
              "      <td>6.0</td>\n",
              "      <td>19.4</td>\n",
              "      <td>20.7</td>\n",
              "      <td>13.6</td>\n",
              "      <td>27.9</td>\n",
              "      <td>14.0</td>\n",
              "      <td>A</td>\n",
              "    </tr>\n",
              "    <tr>\n",
              "      <th>5</th>\n",
              "      <td>23.3</td>\n",
              "      <td>-2.5</td>\n",
              "      <td>-0.27</td>\n",
              "      <td>-0.24</td>\n",
              "      <td>-0.44</td>\n",
              "      <td>13.7</td>\n",
              "      <td>12.4</td>\n",
              "      <td>10.1</td>\n",
              "      <td>4.2</td>\n",
              "      <td>4.8</td>\n",
              "      <td>...</td>\n",
              "      <td>10.2</td>\n",
              "      <td>6.8</td>\n",
              "      <td>3.0</td>\n",
              "      <td>6.9</td>\n",
              "      <td>29.3</td>\n",
              "      <td>30.4</td>\n",
              "      <td>13.2</td>\n",
              "      <td>47.6</td>\n",
              "      <td>14.5</td>\n",
              "      <td>A</td>\n",
              "    </tr>\n",
              "  </tbody>\n",
              "</table>\n",
              "<p>5 rows × 21 columns</p>\n",
              "</div>"
            ],
            "text/plain": [
              "             Vegas_Pts  Vegas_Spread  DEf_Pass  DEF_Rush  DEF_DvP    L3     S  \\\n",
              "Player Name                                                                     \n",
              "1                 30.0           8.0      0.09     -0.10     0.14  22.3  21.5   \n",
              "2                 21.0           1.0     -0.08     -0.17    -0.20  23.0  19.5   \n",
              "3                 25.5          -6.0      0.33      0.17     0.48  18.0  17.8   \n",
              "4                 20.0          -5.0      0.06     -0.27    -0.13  17.7  14.2   \n",
              "5                 23.3          -2.5     -0.27     -0.24    -0.44  13.7  12.4   \n",
              "\n",
              "                P   RZ  YPA ...   Targets_S  Targets_P  Targets_RZ  \\\n",
              "Player Name                 ...                                      \n",
              "1            21.0  6.2  4.8 ...         5.0        5.4         1.8   \n",
              "2            19.4  2.3  5.0 ...         5.0        4.3         0.8   \n",
              "3            16.9  3.0  4.7 ...         4.8        5.1         0.5   \n",
              "4            12.6  1.6  4.9 ...         8.0        8.1         0.8   \n",
              "5            10.1  4.2  4.8 ...        10.2        6.8         3.0   \n",
              "\n",
              "             Targets_YPT  FP_L3  FP_S  FP_F  FP_C   PTS  GAB  \n",
              "Player Name                                                   \n",
              "1                    8.2   32.8  31.0  25.8  36.2  30.6    G  \n",
              "2                    5.5   24.7  21.7  13.9  29.5   3.7    B  \n",
              "3                    5.2   16.2  18.6  11.9  25.4   8.1    B  \n",
              "4                    6.0   19.4  20.7  13.6  27.9  14.0    A  \n",
              "5                    6.9   29.3  30.4  13.2  47.6  14.5    A  \n",
              "\n",
              "[5 rows x 21 columns]"
            ]
          },
          "metadata": {
            "tags": []
          }
        },
        {
          "output_type": "display_data",
          "data": {
            "text/plain": [
              "Index(['Vegas_Pts', 'Vegas_Spread', 'DEf_Pass', 'DEF_Rush', 'DEF_DvP', 'L3',\n",
              "       'S', 'P', 'RZ', 'YPA', 'Targets_L3', 'Targets_S', 'Targets_P',\n",
              "       'Targets_RZ', 'Targets_YPT', 'FP_L3', 'FP_S', 'FP_F', 'FP_C', 'PTS',\n",
              "       'GAB'],\n",
              "      dtype='object')"
            ]
          },
          "metadata": {
            "tags": []
          }
        }
      ]
    },
    {
      "metadata": {
        "id": "PZZE4iQ3k5vu",
        "colab_type": "code",
        "colab": {
          "base_uri": "https://localhost:8080/",
          "height": 34
        },
        "outputId": "9d8798ea-7734-4eae-8059-28965955da97"
      },
      "cell_type": "code",
      "source": [
        "X = rb.drop([\"GAB\"], axis=1)\n",
        "y = rb[\"GAB\"]\n",
        "print(X.shape, y.shape)"
      ],
      "execution_count": 9,
      "outputs": [
        {
          "output_type": "stream",
          "text": [
            "(24, 20) (24,)\n"
          ],
          "name": "stdout"
        }
      ]
    },
    {
      "metadata": {
        "id": "4dEYdaypk8Zd",
        "colab_type": "code",
        "colab": {
          "base_uri": "https://localhost:8080/",
          "height": 406
        },
        "outputId": "1fef1445-38a0-404f-d09a-0c0201d3ef8e"
      },
      "cell_type": "code",
      "source": [
        "X_pts = X.drop(\"PTS\",axis=1)\n",
        "Y_pts = X[\"PTS\"]\n",
        "\n",
        "display(X_pts.head())\n",
        "display(X_pts.shape)\n",
        "display(Y_pts.head())"
      ],
      "execution_count": 10,
      "outputs": [
        {
          "output_type": "display_data",
          "data": {
            "text/html": [
              "<div>\n",
              "<style scoped>\n",
              "    .dataframe tbody tr th:only-of-type {\n",
              "        vertical-align: middle;\n",
              "    }\n",
              "\n",
              "    .dataframe tbody tr th {\n",
              "        vertical-align: top;\n",
              "    }\n",
              "\n",
              "    .dataframe thead th {\n",
              "        text-align: right;\n",
              "    }\n",
              "</style>\n",
              "<table border=\"1\" class=\"dataframe\">\n",
              "  <thead>\n",
              "    <tr style=\"text-align: right;\">\n",
              "      <th></th>\n",
              "      <th>Vegas_Pts</th>\n",
              "      <th>Vegas_Spread</th>\n",
              "      <th>DEf_Pass</th>\n",
              "      <th>DEF_Rush</th>\n",
              "      <th>DEF_DvP</th>\n",
              "      <th>L3</th>\n",
              "      <th>S</th>\n",
              "      <th>P</th>\n",
              "      <th>RZ</th>\n",
              "      <th>YPA</th>\n",
              "      <th>Targets_L3</th>\n",
              "      <th>Targets_S</th>\n",
              "      <th>Targets_P</th>\n",
              "      <th>Targets_RZ</th>\n",
              "      <th>Targets_YPT</th>\n",
              "      <th>FP_L3</th>\n",
              "      <th>FP_S</th>\n",
              "      <th>FP_F</th>\n",
              "      <th>FP_C</th>\n",
              "    </tr>\n",
              "    <tr>\n",
              "      <th>Player Name</th>\n",
              "      <th></th>\n",
              "      <th></th>\n",
              "      <th></th>\n",
              "      <th></th>\n",
              "      <th></th>\n",
              "      <th></th>\n",
              "      <th></th>\n",
              "      <th></th>\n",
              "      <th></th>\n",
              "      <th></th>\n",
              "      <th></th>\n",
              "      <th></th>\n",
              "      <th></th>\n",
              "      <th></th>\n",
              "      <th></th>\n",
              "      <th></th>\n",
              "      <th></th>\n",
              "      <th></th>\n",
              "      <th></th>\n",
              "    </tr>\n",
              "  </thead>\n",
              "  <tbody>\n",
              "    <tr>\n",
              "      <th>1</th>\n",
              "      <td>30.0</td>\n",
              "      <td>8.0</td>\n",
              "      <td>0.09</td>\n",
              "      <td>-0.10</td>\n",
              "      <td>0.14</td>\n",
              "      <td>22.3</td>\n",
              "      <td>21.5</td>\n",
              "      <td>21.0</td>\n",
              "      <td>6.2</td>\n",
              "      <td>4.8</td>\n",
              "      <td>5.3</td>\n",
              "      <td>5.0</td>\n",
              "      <td>5.4</td>\n",
              "      <td>1.8</td>\n",
              "      <td>8.2</td>\n",
              "      <td>32.8</td>\n",
              "      <td>31.0</td>\n",
              "      <td>25.8</td>\n",
              "      <td>36.2</td>\n",
              "    </tr>\n",
              "    <tr>\n",
              "      <th>2</th>\n",
              "      <td>21.0</td>\n",
              "      <td>1.0</td>\n",
              "      <td>-0.08</td>\n",
              "      <td>-0.17</td>\n",
              "      <td>-0.20</td>\n",
              "      <td>23.0</td>\n",
              "      <td>19.5</td>\n",
              "      <td>19.4</td>\n",
              "      <td>2.3</td>\n",
              "      <td>5.0</td>\n",
              "      <td>4.0</td>\n",
              "      <td>5.0</td>\n",
              "      <td>4.3</td>\n",
              "      <td>0.8</td>\n",
              "      <td>5.5</td>\n",
              "      <td>24.7</td>\n",
              "      <td>21.7</td>\n",
              "      <td>13.9</td>\n",
              "      <td>29.5</td>\n",
              "    </tr>\n",
              "    <tr>\n",
              "      <th>3</th>\n",
              "      <td>25.5</td>\n",
              "      <td>-6.0</td>\n",
              "      <td>0.33</td>\n",
              "      <td>0.17</td>\n",
              "      <td>0.48</td>\n",
              "      <td>18.0</td>\n",
              "      <td>17.8</td>\n",
              "      <td>16.9</td>\n",
              "      <td>3.0</td>\n",
              "      <td>4.7</td>\n",
              "      <td>4.0</td>\n",
              "      <td>4.8</td>\n",
              "      <td>5.1</td>\n",
              "      <td>0.5</td>\n",
              "      <td>5.2</td>\n",
              "      <td>16.2</td>\n",
              "      <td>18.6</td>\n",
              "      <td>11.9</td>\n",
              "      <td>25.4</td>\n",
              "    </tr>\n",
              "    <tr>\n",
              "      <th>4</th>\n",
              "      <td>20.0</td>\n",
              "      <td>-5.0</td>\n",
              "      <td>0.06</td>\n",
              "      <td>-0.27</td>\n",
              "      <td>-0.13</td>\n",
              "      <td>17.7</td>\n",
              "      <td>14.2</td>\n",
              "      <td>12.6</td>\n",
              "      <td>1.6</td>\n",
              "      <td>4.9</td>\n",
              "      <td>5.3</td>\n",
              "      <td>8.0</td>\n",
              "      <td>8.1</td>\n",
              "      <td>0.8</td>\n",
              "      <td>6.0</td>\n",
              "      <td>19.4</td>\n",
              "      <td>20.7</td>\n",
              "      <td>13.6</td>\n",
              "      <td>27.9</td>\n",
              "    </tr>\n",
              "    <tr>\n",
              "      <th>5</th>\n",
              "      <td>23.3</td>\n",
              "      <td>-2.5</td>\n",
              "      <td>-0.27</td>\n",
              "      <td>-0.24</td>\n",
              "      <td>-0.44</td>\n",
              "      <td>13.7</td>\n",
              "      <td>12.4</td>\n",
              "      <td>10.1</td>\n",
              "      <td>4.2</td>\n",
              "      <td>4.8</td>\n",
              "      <td>11.0</td>\n",
              "      <td>10.2</td>\n",
              "      <td>6.8</td>\n",
              "      <td>3.0</td>\n",
              "      <td>6.9</td>\n",
              "      <td>29.3</td>\n",
              "      <td>30.4</td>\n",
              "      <td>13.2</td>\n",
              "      <td>47.6</td>\n",
              "    </tr>\n",
              "  </tbody>\n",
              "</table>\n",
              "</div>"
            ],
            "text/plain": [
              "             Vegas_Pts  Vegas_Spread  DEf_Pass  DEF_Rush  DEF_DvP    L3     S  \\\n",
              "Player Name                                                                     \n",
              "1                 30.0           8.0      0.09     -0.10     0.14  22.3  21.5   \n",
              "2                 21.0           1.0     -0.08     -0.17    -0.20  23.0  19.5   \n",
              "3                 25.5          -6.0      0.33      0.17     0.48  18.0  17.8   \n",
              "4                 20.0          -5.0      0.06     -0.27    -0.13  17.7  14.2   \n",
              "5                 23.3          -2.5     -0.27     -0.24    -0.44  13.7  12.4   \n",
              "\n",
              "                P   RZ  YPA  Targets_L3  Targets_S  Targets_P  Targets_RZ  \\\n",
              "Player Name                                                                 \n",
              "1            21.0  6.2  4.8         5.3        5.0        5.4         1.8   \n",
              "2            19.4  2.3  5.0         4.0        5.0        4.3         0.8   \n",
              "3            16.9  3.0  4.7         4.0        4.8        5.1         0.5   \n",
              "4            12.6  1.6  4.9         5.3        8.0        8.1         0.8   \n",
              "5            10.1  4.2  4.8        11.0       10.2        6.8         3.0   \n",
              "\n",
              "             Targets_YPT  FP_L3  FP_S  FP_F  FP_C  \n",
              "Player Name                                        \n",
              "1                    8.2   32.8  31.0  25.8  36.2  \n",
              "2                    5.5   24.7  21.7  13.9  29.5  \n",
              "3                    5.2   16.2  18.6  11.9  25.4  \n",
              "4                    6.0   19.4  20.7  13.6  27.9  \n",
              "5                    6.9   29.3  30.4  13.2  47.6  "
            ]
          },
          "metadata": {
            "tags": []
          }
        },
        {
          "output_type": "display_data",
          "data": {
            "text/plain": [
              "(24, 19)"
            ]
          },
          "metadata": {
            "tags": []
          }
        },
        {
          "output_type": "display_data",
          "data": {
            "text/plain": [
              "Player Name\n",
              "1    30.6\n",
              "2     3.7\n",
              "3     8.1\n",
              "4    14.0\n",
              "5    14.5\n",
              "Name: PTS, dtype: float64"
            ]
          },
          "metadata": {
            "tags": []
          }
        }
      ]
    },
    {
      "metadata": {
        "id": "EIyeC_MIlvOQ",
        "colab_type": "code",
        "colab": {
          "base_uri": "https://localhost:8080/",
          "height": 34
        },
        "outputId": "5c599ab9-66de-404c-87e1-c1143e118371"
      },
      "cell_type": "code",
      "source": [
        "# Convert dataframe to np array\n",
        "X = X_pts.iloc[:,0:19]   \n",
        "Y = Y_pts.iloc[:]\n"
      ],
      "execution_count": 11,
      "outputs": [
        {
          "output_type": "stream",
          "text": [
            "Using TensorFlow backend.\n"
          ],
          "name": "stderr"
        }
      ]
    },
    {
      "metadata": {
        "id": "ttfj0swkmCRH",
        "colab_type": "code",
        "colab": {}
      },
      "cell_type": "code",
      "source": [
        ""
      ],
      "execution_count": 0,
      "outputs": []
    },
    {
      "metadata": {
        "id": "wh7S4L6pgBV6",
        "colab_type": "text"
      },
      "cell_type": "markdown",
      "source": [
        "# Choose the Model that would best predict PTS \n",
        "With the current datapoints (24-which is a small number), let's perform KFold Cross validation (10-fold) to get the overall performance of the model on unseen data points.\n",
        "\n",
        "Mean Squared Error (MSE) measures the average of the squares of the errors or deviations. In other words, it quantifies the difference between the estimator and what is estimated. "
      ]
    },
    {
      "metadata": {
        "id": "_5Ic0UQyMz6O",
        "colab_type": "text"
      },
      "cell_type": "markdown",
      "source": [
        "### Baseline Model"
      ]
    },
    {
      "metadata": {
        "id": "iYG0kBOTmLcQ",
        "colab_type": "code",
        "colab": {}
      },
      "cell_type": "code",
      "source": [
        "# define base model\n",
        "def baseline_model():\n",
        "\t# create model\n",
        "\tmodel = Sequential()\n",
        "\tmodel.add(Dense(19, input_dim=19, kernel_initializer='normal', activation='relu'))\n",
        "\tmodel.add(Dense(1, kernel_initializer='normal'))\n",
        "\t# Compile model\n",
        "\tmodel.compile(loss='mean_squared_error', optimizer='adam')\n",
        "\treturn model"
      ],
      "execution_count": 0,
      "outputs": []
    },
    {
      "metadata": {
        "id": "sDqmdD2impJU",
        "colab_type": "code",
        "colab": {}
      },
      "cell_type": "code",
      "source": [
        "# fix random seed for reproducibility\n",
        "seed = 7\n",
        "np.random.seed(seed)\n",
        "# evaluate model with standardized dataset\n",
        "estimator = KerasRegressor(build_fn=baseline_model, nb_epoch=100, batch_size=5, verbose=0)"
      ],
      "execution_count": 0,
      "outputs": []
    },
    {
      "metadata": {
        "id": "VWJL_z3XngFm",
        "colab_type": "code",
        "colab": {
          "base_uri": "https://localhost:8080/",
          "height": 34
        },
        "outputId": "06a5998d-caf2-46e6-dbbe-8fb8c5ebd1ef"
      },
      "cell_type": "code",
      "source": [
        "kfold = KFold(n_splits=10, random_state=seed)\n",
        "results = cross_val_score(estimator, X.values, Y.values, cv=kfold, n_jobs=1)\n",
        "print(\"Results of KFold Cross validation for Baseline Model: %.2f (%.2f) MSE (%.2f) RMSE\"  % (results.mean(), results.std(), math.sqrt(results.std())))"
      ],
      "execution_count": 17,
      "outputs": [
        {
          "output_type": "stream",
          "text": [
            "Results of KFold Cross validation for Baseline Model: -309.33 (196.40) MSE (14.01) RMSE\n"
          ],
          "name": "stdout"
        }
      ]
    },
    {
      "metadata": {
        "id": "HAi-c9oaoUPN",
        "colab_type": "code",
        "colab": {
          "base_uri": "https://localhost:8080/",
          "height": 34
        },
        "outputId": "f3a58a3a-968b-44f9-a012-2ff64ab83618"
      },
      "cell_type": "code",
      "source": [
        "# evaluate model with standardized dataset\n",
        "np.random.seed(seed)\n",
        "estimators = []\n",
        "estimators.append(('standardize', StandardScaler()))\n",
        "estimators.append(('mlp', KerasRegressor(build_fn=baseline_model, epochs=50, batch_size=5, verbose=0)))\n",
        "pipeline = Pipeline(estimators)\n",
        "kfold = KFold(n_splits=10, random_state=seed)\n",
        "results = cross_val_score(pipeline, X, Y, cv=kfold, n_jobs=1)\n",
        "print(\"Standardized: %.2f (%.2f) MSE (%.2f) RMSE\" % (results.mean(), results.std(), math.sqrt(results.std())))"
      ],
      "execution_count": 19,
      "outputs": [
        {
          "output_type": "stream",
          "text": [
            "Standardized: -235.16 (171.68) MSE (13.10) RMSE\n"
          ],
          "name": "stdout"
        }
      ]
    },
    {
      "metadata": {
        "id": "XvzqsgxZSQ9g",
        "colab_type": "code",
        "colab": {
          "base_uri": "https://localhost:8080/",
          "height": 70
        },
        "outputId": "bbf484af-f4ac-4f50-d5e8-b450b313def5"
      },
      "cell_type": "code",
      "source": [
        "results"
      ],
      "execution_count": 19,
      "outputs": [
        {
          "output_type": "execute_result",
          "data": {
            "text/plain": [
              "array([-342.51794434, -554.20965576, -588.84802246, -222.56098938,\n",
              "        -25.70702934,  -95.84645081, -258.04220581, -214.3731842 ,\n",
              "       -603.527771  , -187.65228271])"
            ]
          },
          "metadata": {
            "tags": []
          },
          "execution_count": 19
        }
      ]
    },
    {
      "metadata": {
        "id": "tX8aGqyrg-wm",
        "colab_type": "text"
      },
      "cell_type": "markdown",
      "source": [
        "### Try a Larger Model"
      ]
    },
    {
      "metadata": {
        "id": "nY-O013BpxDI",
        "colab_type": "code",
        "colab": {}
      },
      "cell_type": "code",
      "source": [
        "# define the model\n",
        "def larger_model():\n",
        "\t# create model\n",
        "\tmodel = Sequential()\n",
        "\tmodel.add(Dense(19, input_dim=19, kernel_initializer='normal', activation='relu'))\n",
        "\tmodel.add(Dense(6, kernel_initializer='normal', activation='relu'))\n",
        "\tmodel.add(Dense(1, kernel_initializer='normal'))\n",
        "\t# Compile model\n",
        "\tmodel.compile(loss='mean_squared_logarithmic_error', optimizer='adam')\n",
        "\treturn model"
      ],
      "execution_count": 0,
      "outputs": []
    },
    {
      "metadata": {
        "id": "y87s3o0mp-mB",
        "colab_type": "code",
        "colab": {
          "base_uri": "https://localhost:8080/",
          "height": 34
        },
        "outputId": "a7803883-123b-4e02-d28b-672730f105da"
      },
      "cell_type": "code",
      "source": [
        "np.random.seed(seed)\n",
        "estimators = []\n",
        "estimators.append(('standardize', StandardScaler()))\n",
        "estimators.append(('mlp', KerasRegressor(build_fn=larger_model, epochs=50, batch_size=5, verbose=0)))\n",
        "pipeline_3l = Pipeline(estimators)\n",
        "kfold = KFold(n_splits=10, random_state=seed)\n",
        "results_3l = cross_val_score(pipeline_3l, X, Y, cv=kfold, n_jobs=1)\n",
        "print(\"Larger: %.2f (%.2f) MSE (%.2f) RMSE\"  % (results_3l.mean(), results_3l.std(), math.sqrt(results_3l.std())))"
      ],
      "execution_count": 352,
      "outputs": [
        {
          "output_type": "stream",
          "text": [
            "Larger: -3.19 (2.72) MSE (1.65) RMSE\n"
          ],
          "name": "stdout"
        }
      ]
    },
    {
      "metadata": {
        "id": "FX0GRdQrqDA5",
        "colab_type": "code",
        "colab": {
          "base_uri": "https://localhost:8080/",
          "height": 314
        },
        "outputId": "4c709d8d-4983-43fd-9908-eb3ade046214"
      },
      "cell_type": "code",
      "source": [
        "predicted_3l = cross_val_predict(pipeline_3l, X, Y, cv=kfold)\n",
        "y=Y\n",
        "predicted=predicted_3l\n",
        "fig, ax = plt.subplots()\n",
        "ax = sns.regplot(x=Y, y=predicted,fit_reg=False);\n",
        "sns.regplot(x=Y,y=Y, fit_reg=True, scatter=False, ax=ax);\n",
        "plt.figure()\n",
        "# sns.pointplot(Y,predicted-Y)\n",
        "ax.set_xlabel('PTS Measured')\n",
        "ax.set_ylabel('PTS Predicted')"
      ],
      "execution_count": 354,
      "outputs": [
        {
          "output_type": "execute_result",
          "data": {
            "text/plain": [
              "Text(0,0.5,'PTS Predicted')"
            ]
          },
          "metadata": {
            "tags": []
          },
          "execution_count": 354
        },
        {
          "output_type": "display_data",
          "data": {
            "image/png": "[encoded data removed]",
            "text/plain": [
              "<matplotlib.figure.Figure at 0x7f26c3217358>"
            ]
          },
          "metadata": {
            "tags": []
          }
        },
        {
          "output_type": "display_data",
          "data": {
            "text/plain": [
              "<matplotlib.figure.Figure at 0x7f26b0630128>"
            ]
          },
          "metadata": {
            "tags": []
          }
        }
      ]
    },
    {
      "metadata": {
        "id": "wKGlQ9KySqYb",
        "colab_type": "code",
        "colab": {
          "base_uri": "https://localhost:8080/",
          "height": 70
        },
        "outputId": "2bf9f2e0-8e6f-4e80-9071-608594cdcf94"
      },
      "cell_type": "code",
      "source": [
        "results"
      ],
      "execution_count": 22,
      "outputs": [
        {
          "output_type": "execute_result",
          "data": {
            "text/plain": [
              "array([ -84.53171539, -374.95825195, -352.42391968, -134.70439148,\n",
              "         -2.03119516,  -46.08828354, -101.1210022 ,  -77.14952087,\n",
              "       -468.03222656, -150.98942566])"
            ]
          },
          "metadata": {
            "tags": []
          },
          "execution_count": 22
        }
      ]
    },
    {
      "metadata": {
        "id": "Lk73pHA0qC0U",
        "colab_type": "code",
        "colab": {}
      },
      "cell_type": "code",
      "source": [
        "# define wider model\n",
        "def wider_model():\n",
        "\t# create model\n",
        "\tmodel = Sequential()\n",
        "\tmodel.add(Dense(100, input_dim=19, kernel_initializer='normal', activation='relu'))\n",
        "\tmodel.add(Dense(1, kernel_initializer='normal'))\n",
        "\t# Compile model\n",
        "\tmodel.compile(loss='mean_squared_error', optimizer='adam')\n",
        "\treturn model"
      ],
      "execution_count": 0,
      "outputs": []
    },
    {
      "metadata": {
        "id": "Mjqp-8KdqcGw",
        "colab_type": "code",
        "colab": {
          "base_uri": "https://localhost:8080/",
          "height": 34
        },
        "outputId": "effee7ca-268d-46a1-b90d-1ad2cc078fcc"
      },
      "cell_type": "code",
      "source": [
        "np.random.seed(seed)\n",
        "estimators = []\n",
        "estimators.append(('standardize', StandardScaler()))\n",
        "estimators.append(('mlp', KerasRegressor(build_fn=wider_model, epochs=50, batch_size=5, verbose=0)))\n",
        "pipeline_w = Pipeline(estimators)\n",
        "kfold = KFold(n_splits=10, random_state=seed)\n",
        "results_50w = cross_val_score(pipeline_w, X, Y, cv=kfold, n_jobs=1)\n",
        "print(\"Wider: %.2f (%.2f) MSE (%.2f) RMSE \"  % (results_50w.mean(), results_50w.std(), math.sqrt(results_50w.std())))"
      ],
      "execution_count": 47,
      "outputs": [
        {
          "output_type": "stream",
          "text": [
            "Wider: -144.26 (119.56) MSE (10.93) RMSE \n"
          ],
          "name": "stdout"
        }
      ]
    },
    {
      "metadata": {
        "id": "ZCcAFo4qS96Y",
        "colab_type": "code",
        "colab": {
          "base_uri": "https://localhost:8080/",
          "height": 70
        },
        "outputId": "03b81ac5-fa56-409e-d723-713df193ccfa"
      },
      "cell_type": "code",
      "source": [
        "predicted_w = cross_val_predict(pipeline_w, X, Y, cv=kfold)\n",
        "y=Y\n",
        "predicted=predicted_w\n",
        "fig, ax = plt.subplots()\n",
        "ax = sns.regplot(x=Y, y=predicted,fit_reg=False);\n",
        "sns.regplot(x=Y,y=Y, fit_reg=True, scatter=False, ax=ax);\n",
        "plt.figure()\n",
        "# sns.pointplot(Y,predicted-Y)\n",
        "ax.set_xlabel('PTS Measured')\n",
        "ax.set_ylabel('PTS Predicted')"
      ],
      "execution_count": 48,
      "outputs": [
        {
          "output_type": "execute_result",
          "data": {
            "text/plain": [
              "array([ -59.73998642, -308.0574646 , -265.7616272 ,  -79.95090485,\n",
              "        -47.67246628,   -7.77561522,  -60.86214447,  -49.28014374,\n",
              "       -346.30636597, -217.20283508])"
            ]
          },
          "metadata": {
            "tags": []
          },
          "execution_count": 48
        }
      ]
    },
    {
      "metadata": {
        "id": "BrjP7hrjM9v6",
        "colab_type": "text"
      },
      "cell_type": "markdown",
      "source": [
        "### Wide Model"
      ]
    },
    {
      "metadata": {
        "id": "_U90OCxcoZco",
        "colab_type": "code",
        "colab": {
          "base_uri": "https://localhost:8080/",
          "height": 333
        },
        "outputId": "e0158c1d-5d71-4f14-f21a-5ca614b46923"
      },
      "cell_type": "code",
      "source": [
        "# define wider model\n",
        "def wider_model():\n",
        "\t# create model\n",
        "\tmodel = Sequential()\n",
        "\tmodel.add(Dense(100, input_dim=19, kernel_initializer='normal', activation='relu'))\n",
        "\tmodel.add(Dense(1, kernel_initializer='normal'))\n",
        "\t# Compile model\n",
        "\tmodel.compile(loss='mean_squared_logarithmic_error', optimizer='adam')\n",
        "\treturn model\n",
        "np.random.seed(seed)\n",
        "estimators = []\n",
        "estimators.append(('standardize', StandardScaler()))\n",
        "estimators.append(('mlp', KerasRegressor(build_fn=wider_model, epochs=50, batch_size=5, verbose=0)))\n",
        "pipeline_w = Pipeline(estimators)\n",
        "kfold = KFold(n_splits=10, random_state=seed)\n",
        "results_50w = cross_val_score(pipeline_w, X, Y, cv=kfold, n_jobs=1)\n",
        "print(\"Wider: %.2f (%.2f) MSE (%.2f) RMSE \"  % (results_50w.mean(), results_50w.std(), math.sqrt(results_50w.std())))\n",
        "\n",
        "predicted_w = cross_val_predict(pipeline_w, X, Y, cv=kfold)\n",
        "y=Y\n",
        "predicted=predicted_w\n",
        "fig, ax = plt.subplots()\n",
        "ax = sns.regplot(x=Y, y=predicted,fit_reg=False);\n",
        "sns.regplot(x=Y,y=Y, fit_reg=True, scatter=False, ax=ax);\n",
        "plt.figure()\n",
        "# sns.pointplot(Y,predicted-Y)\n",
        "ax.set_xlabel('PTS Measured')\n",
        "ax.set_ylabel('PTS Predicted')"
      ],
      "execution_count": 353,
      "outputs": [
        {
          "output_type": "stream",
          "text": [
            "Wider: -1.68 (1.91) MSE (1.38) RMSE \n"
          ],
          "name": "stdout"
        },
        {
          "output_type": "execute_result",
          "data": {
            "text/plain": [
              "Text(0,0.5,'PTS Predicted')"
            ]
          },
          "metadata": {
            "tags": []
          },
          "execution_count": 353
        },
        {
          "output_type": "display_data",
          "data": {
            "image/png": "[encoded data removed]",
            "text/plain": [
              "<matplotlib.figure.Figure at 0x7f26b51b9f98>"
            ]
          },
          "metadata": {
            "tags": []
          }
        },
        {
          "output_type": "display_data",
          "data": {
            "text/plain": [
              "<matplotlib.figure.Figure at 0x7f26b3427f60>"
            ]
          },
          "metadata": {
            "tags": []
          }
        }
      ]
    },
    {
      "metadata": {
        "id": "IbN493mZT48_",
        "colab_type": "code",
        "colab": {
          "base_uri": "https://localhost:8080/",
          "height": 34
        },
        "outputId": "31348ae4-1d2a-4cd9-8ad0-0cfcc66188f4"
      },
      "cell_type": "code",
      "source": [
        "np.random.seed(seed)\n",
        "estimators = []\n",
        "estimators.append(('standardize', StandardScaler()))\n",
        "estimators.append(('mlp', KerasRegressor(build_fn=wider_model, epochs=100, batch_size=5, verbose=0)))\n",
        "pipeline_w100 = Pipeline(estimators)\n",
        "kfold = KFold(n_splits=10, random_state=seed)\n",
        "results_100w = cross_val_score(pipeline_w100, X, Y, cv=kfold, n_jobs=1)\n",
        "print(\"Wider @ 100 epochs: %.2f (%.2f) MSE (%.2f) RMSE \"  % (results_100w.mean(), results_100w.std(), math.sqrt(results_100w.std())))"
      ],
      "execution_count": 49,
      "outputs": [
        {
          "output_type": "stream",
          "text": [
            "Wider @ 100 epochs: -184.96 (154.59) MSE (12.43) RMSE \n"
          ],
          "name": "stdout"
        }
      ]
    },
    {
      "metadata": {
        "id": "t8MrGhmUh1Cm",
        "colab_type": "text"
      },
      "cell_type": "markdown",
      "source": [
        "### Use More layers and more nodes"
      ]
    },
    {
      "metadata": {
        "id": "ufcCFdSlubo6",
        "colab_type": "code",
        "colab": {}
      },
      "cell_type": "code",
      "source": [
        "# define wider model\n",
        "def deeper_wider_model():\n",
        "\t# create model\n",
        "\tmodel = Sequential()\n",
        "\tmodel.add(Dense(100, input_dim=19, kernel_initializer='normal', activation='relu'))\n",
        "\tmodel.add(Dense(100, kernel_initializer='normal', activation='relu'))\n",
        "\tmodel.add(Dense(3, kernel_initializer='normal', activation='relu'))\n",
        "\tmodel.add(Dense(1, kernel_initializer='normal'))\n",
        "\t# Compile model\n",
        "\tmodel.compile(loss='mae', optimizer='adam')\n",
        "\treturn model"
      ],
      "execution_count": 0,
      "outputs": []
    },
    {
      "metadata": {
        "id": "DV9I8DkXtAw6",
        "colab_type": "code",
        "colab": {
          "base_uri": "https://localhost:8080/",
          "height": 34
        },
        "outputId": "ce200f62-08cb-413c-cec2-decfe70227cc"
      },
      "cell_type": "code",
      "source": [
        "np.random.seed(seed)\n",
        "estimators = []\n",
        "estimators.append(('standardize', StandardScaler()))\n",
        "estimators.append(('mlp', KerasRegressor(build_fn=deeper_wider_model, epochs=50, batch_size=5, verbose=0)))\n",
        "pipeline_dwr = Pipeline(estimators)\n",
        "kfold = KFold(n_splits=10, random_state=seed)\n",
        "loo = LeaveOneOut()\n",
        "# results_4l = cross_val_score(pipeline_dwr, X, Y, cv=kfold, n_jobs=1)\n",
        "print(\"Deep and Wide cv: %.2f (%.2f) MSE (%.2f) RMSE \"  % (results_4l.mean(), results_4l.std(), math.sqrt(results_4l.std())))"
      ],
      "execution_count": 349,
      "outputs": [
        {
          "output_type": "stream",
          "text": [
            "Deep and Wide cv: -12.03 (5.10) MSE (2.26) RMSE \n"
          ],
          "name": "stdout"
        }
      ]
    },
    {
      "metadata": {
        "id": "JkG4KaX9TdFC",
        "colab_type": "code",
        "colab": {
          "base_uri": "https://localhost:8080/",
          "height": 314
        },
        "outputId": "b75d3b1a-23d7-4e1f-c81e-497f2b35d706"
      },
      "cell_type": "code",
      "source": [
        "predicted_dwr = cross_val_predict(pipeline_dwr, X, Y, cv=kfold)\n",
        "y=Y\n",
        "predicted=predicted_dwr\n",
        "fig, ax = plt.subplots()\n",
        "ax = sns.regplot(x=Y, y=predicted,fit_reg=False);\n",
        "sns.regplot(x=Y,y=Y, fit_reg=True, scatter=False, ax=ax);\n",
        "plt.figure()\n",
        "# sns.pointplot(Y,predicted-Y)\n",
        "ax.set_xlabel('PTS Measured')\n",
        "ax.set_ylabel('PTS Predicted')"
      ],
      "execution_count": 350,
      "outputs": [
        {
          "output_type": "execute_result",
          "data": {
            "text/plain": [
              "Text(0,0.5,'PTS Predicted')"
            ]
          },
          "metadata": {
            "tags": []
          },
          "execution_count": 350
        },
        {
          "output_type": "display_data",
          "data": {
            "image/png": "[encoded data removed]",
            "text/plain": [
              "<matplotlib.figure.Figure at 0x7f26b9f3e9b0>"
            ]
          },
          "metadata": {
            "tags": []
          }
        },
        {
          "output_type": "display_data",
          "data": {
            "text/plain": [
              "<matplotlib.figure.Figure at 0x7f26b9f3e6a0>"
            ]
          },
          "metadata": {
            "tags": []
          }
        }
      ]
    },
    {
      "metadata": {
        "id": "r0rLUP8bB5xe",
        "colab_type": "code",
        "colab": {}
      },
      "cell_type": "code",
      "source": [
        "# define wider model\n",
        "def deep_wide_model():\n",
        "\t# create model\n",
        "\tmodel = Sequential()\n",
        "\tmodel.add(Dense(19, input_dim=19, kernel_initializer='normal', activation='relu'))\n",
        "\tmodel.add(Dense(19, kernel_initializer='normal', activation='relu'))\n",
        "\tmodel.add(Dense(1, kernel_initializer='normal'))\n",
        "\t# Compile model\n",
        "\tmodel.compile(loss='mae', optimizer='adam')\n",
        "\treturn model"
      ],
      "execution_count": 0,
      "outputs": []
    },
    {
      "metadata": {
        "id": "ysfBHok-KJU2",
        "colab_type": "code",
        "colab": {
          "base_uri": "https://localhost:8080/",
          "height": 34
        },
        "outputId": "483553a6-3339-4bbc-ff3a-a3430c1d408f"
      },
      "cell_type": "code",
      "source": [
        "np.random.seed(seed)\n",
        "estimators = []\n",
        "estimators.append(('standardize', StandardScaler()))\n",
        "estimators.append(('mlp', KerasRegressor(build_fn=deep_wide_model, epochs=50, batch_size=5, verbose=0)))\n",
        "pipeline_dw = Pipeline(estimators)\n",
        "kfold = KFold(n_splits=10, random_state=seed,shuffle=True)\n",
        "results_dw = cross_val_score(pipeline_dw, X, Y, cv=kfold, n_jobs=1)\n",
        "print(\"Deep - Wide cv: %.2f (%.2f)MAE (%.2f) RMSE \"  % (results_dw.mean(), results_dw.std(), math.sqrt(results_dw.std())))\n"
      ],
      "execution_count": 342,
      "outputs": [
        {
          "output_type": "stream",
          "text": [
            "Deep - Wide cv: -11.76 (4.81) (2.19) RMSE \n"
          ],
          "name": "stdout"
        }
      ]
    },
    {
      "metadata": {
        "id": "HuffliW8KOCL",
        "colab_type": "code",
        "colab": {
          "base_uri": "https://localhost:8080/",
          "height": 315
        },
        "outputId": "7a7b52a3-c49d-4ab5-aa5e-bdde0b7660a6"
      },
      "cell_type": "code",
      "source": [
        "# predicted_dw = cross_val_predict(pipeline_dw, X, Y, cv=kfold)\n",
        "y=Y\n",
        "predicted=predicted_dw\n",
        "fig, ax = plt.subplots()\n",
        "ax = sns.regplot(x=Y, y=predicted,fit_reg=False);\n",
        "sns.regplot(x=Y,y=Y, fit_reg=True, scatter=False, ax=ax);\n",
        "plt.figure()\n",
        "# sns.pointplot(Y,predicted-Y)\n",
        "ax.set_xlabel('PTS Measured')\n",
        "ax.set_ylabel('PTS Predicted')"
      ],
      "execution_count": 344,
      "outputs": [
        {
          "output_type": "execute_result",
          "data": {
            "text/plain": [
              "Text(0,0.5,'PTS Predicted')"
            ]
          },
          "metadata": {
            "tags": []
          },
          "execution_count": 344
        },
        {
          "output_type": "display_data",
          "data": {
            "image/png": "[encoded data removed]",
            "text/plain": [
              "<matplotlib.figure.Figure at 0x7f26bfde5e48>"
            ]
          },
          "metadata": {
            "tags": []
          }
        },
        {
          "output_type": "display_data",
          "data": {
            "text/plain": [
              "<matplotlib.figure.Figure at 0x7f26bfdfc630>"
            ]
          },
          "metadata": {
            "tags": []
          }
        }
      ]
    },
    {
      "metadata": {
        "id": "XsYMO14JSLl7",
        "colab_type": "text"
      },
      "cell_type": "markdown",
      "source": [
        "### Deep Model - Optimized using Mean Square Log error"
      ]
    },
    {
      "metadata": {
        "id": "Q2CUeqmPqXjO",
        "colab_type": "code",
        "colab": {
          "base_uri": "https://localhost:8080/",
          "height": 576
        },
        "outputId": "37e748de-5588-42a6-d0e3-e7d47a47a4b2"
      },
      "cell_type": "code",
      "source": [
        "# define wider model\n",
        "def deep_model():\n",
        "\t# create model\n",
        "\tmodel = Sequential()\n",
        "\tmodel.add(Dense(19, input_dim=19, kernel_initializer='normal', activation='relu'))\n",
        "\tmodel.add(Dense(19, kernel_initializer='normal', activation='relu'))\n",
        "\tmodel.add(Dense(19, kernel_initializer='normal', activation='relu'))\n",
        "\tmodel.add(Dense(19, kernel_initializer='normal', activation='relu'))\n",
        "#   model=tf.estimator.DNNRegressor(hidden_units=[6,10,6],feature_columns=feat_cols)\n",
        "\n",
        "\tmodel.add(Dense(1, kernel_initializer='normal'))\n",
        "\t# Compile model\n",
        "\tmodel.compile(loss='mean_squared_logarithmic_error', optimizer='adam')\n",
        "\treturn model\n",
        "\n",
        "np.random.seed(seed)\n",
        "estimators = []\n",
        "estimators.append(('standardize', StandardScaler()))\n",
        "estimators.append(('mlp', KerasRegressor(build_fn=deep_model, epochs=200, batch_size=5, verbose=0)))\n",
        "pipeline_w = Pipeline(estimators)\n",
        "kfold = KFold(n_splits=10, random_state=seed)\n",
        "results_50w = cross_val_score(pipeline_w, X, Y, cv=kfold, n_jobs=1)\n",
        "print(\"Wider: %.2f (%.2f) Mean Squared Log Error \"  % (results_50w.mean(), results_50w.std()))\n",
        "\n",
        "predicted_w = cross_val_predict(pipeline_w, X, Y, cv=kfold)\n",
        "# y=Y\n",
        "# predicted=predicted_w\n",
        "# fig, ax = plt.subplots()\n",
        "# ax = sns.regplot(x=Y, y=predicted,fit_reg=False);\n",
        "# sns.regplot(x=Y,y=Y, fit_reg=True, scatter=False, ax=ax);\n",
        "# plt.figure()\n",
        "# # sns.pointplot(Y,predicted-Y)\n",
        "# ax.set_xlabel('PTS Measured')\n",
        "# ax.set_ylabel('PTS Predicted')\n",
        "y=Y\n",
        "predicted=predicted_w\n",
        "fig, ax = plt.subplots()\n",
        "ax = sns.regplot(x=Y, y=predicted,fit_reg=False);\n",
        "sns.regplot(x=Y,y=Y, fit_reg=True, scatter=False, ax=ax);\n",
        "plt.figure()\n",
        "# ax.set_xlabel('PTS Measured')\n",
        "# ax.set_ylabel('PTS Predicted')\n",
        "sns.residplot(Y,predicted-Y)\n",
        "ax.set_xlabel('PTS ERROR')\n",
        "ax.set_ylabel('PTS Actual')"
      ],
      "execution_count": 29,
      "outputs": [
        {
          "output_type": "stream",
          "text": [
            "Wider: -0.86 (0.62) MSE (0.79) RMSE \n"
          ],
          "name": "stdout"
        },
        {
          "output_type": "execute_result",
          "data": {
            "text/plain": [
              "Text(0,0.5,'PTS Actual')"
            ]
          },
          "metadata": {
            "tags": []
          },
          "execution_count": 29
        },
        {
          "output_type": "display_data",
          "data": {
            "image/png": "[encoded data removed]",
            "text/plain": [
              "<matplotlib.figure.Figure at 0x7fd5581bcf60>"
            ]
          },
          "metadata": {
            "tags": []
          }
        },
        {
          "output_type": "display_data",
          "data": {
            "image/png": "[encoded data removed]",
            "text/plain": [
              "<matplotlib.figure.Figure at 0x7fd559c40828>"
            ]
          },
          "metadata": {
            "tags": []
          }
        }
      ]
    },
    {
      "metadata": {
        "id": "Tm9mb5WvSlEz",
        "colab_type": "text"
      },
      "cell_type": "markdown",
      "source": [
        "### Deep Model - using Mean Absolute Error (MAE)"
      ]
    },
    {
      "metadata": {
        "id": "IUOY1VNNNzyy",
        "colab_type": "code",
        "colab": {
          "base_uri": "https://localhost:8080/",
          "height": 314
        },
        "outputId": "5e79ad3c-8805-4c1a-ee79-93f56cdd6713"
      },
      "cell_type": "code",
      "source": [
        "# define wider model\n",
        "def deep_model():\n",
        "\t# create model\n",
        "\tmodel = Sequential()\n",
        "\tmodel.add(Dense(19, input_dim=19, kernel_initializer='normal', activation='relu'))\n",
        "\tmodel.add(Dense(19, kernel_initializer='normal', activation='relu'))\n",
        "\tmodel.add(Dense(19, kernel_initializer='normal', activation='relu'))\n",
        "\tmodel.add(Dense(19, kernel_initializer='normal', activation='relu'))\n",
        "#   model=tf.estimator.DNNRegressor(hidden_units=[6,10,6],feature_columns=feat_cols)\n",
        "\n",
        "\tmodel.add(Dense(1, kernel_initializer='normal'))\n",
        "\t# Compile model\n",
        "\tmodel.compile(loss='mae', optimizer='adam')\n",
        "\treturn model\n",
        "\n",
        "np.random.seed(seed)\n",
        "estimators = []\n",
        "estimators.append(('standardize', StandardScaler()))\n",
        "estimators.append(('mlp', KerasRegressor(build_fn=deep_model, epochs=50, batch_size=5, verbose=0)))\n",
        "pipeline_w = Pipeline(estimators)\n",
        "kfold = KFold(n_splits=10, random_state=seed)\n",
        "results_50w = cross_val_score(pipeline_w, X, Y, cv=kfold, n_jobs=1)\n",
        "print(\"Wider: %.2f (%.2f) MSE (%.2f) RMSE \"  % (results_50w.mean(), results_50w.std(), math.sqrt(results_50w.std())))\n",
        "\n",
        "predicted_w = cross_val_predict(pipeline_w, X, Y, cv=kfold)\n",
        "\n",
        "y=Y\n",
        "predicted=predicted_w\n",
        "fig, ax = plt.subplots()\n",
        "ax = sns.regplot(x=Y, y=predicted,fit_reg=False);\n",
        "sns.regplot(x=Y,y=Y, fit_reg=True, scatter=False, ax=ax);\n",
        "plt.figure()\n",
        "# sns.pointplot(Y,predicted-Y)\n",
        "ax.set_xlabel('PTS Measured')\n",
        "ax.set_ylabel('PTS Predicted')"
      ],
      "execution_count": 20,
      "outputs": [
        {
          "output_type": "execute_result",
          "data": {
            "text/plain": [
              "Text(0,0.5,'PTS Predicted')"
            ]
          },
          "metadata": {
            "tags": []
          },
          "execution_count": 20
        },
        {
          "output_type": "display_data",
          "data": {
            "image/png": "[encoded data removed]",
            "text/plain": [
              "<matplotlib.figure.Figure at 0x7fd56b366128>"
            ]
          },
          "metadata": {
            "tags": []
          }
        },
        {
          "output_type": "display_data",
          "data": {
            "text/plain": [
              "<matplotlib.figure.Figure at 0x7fd56b366400>"
            ]
          },
          "metadata": {
            "tags": []
          }
        }
      ]
    },
    {
      "metadata": {
        "id": "NmBK4R4-NgRJ",
        "colab_type": "text"
      },
      "cell_type": "markdown",
      "source": [
        "### Deep Model - MSE \\*currently best fit*"
      ]
    },
    {
      "metadata": {
        "colab_type": "code",
        "id": "ytwLkGXLk9tC",
        "colab": {}
      },
      "cell_type": "code",
      "source": [
        "# define wider model\n",
        "def deep_model_mse():\n",
        "\t# create model\n",
        "\tmodel = Sequential()\n",
        "\tmodel.add(Dense(19, input_dim=19, kernel_initializer='normal', activation='relu'))\n",
        "\tmodel.add(Dense(19, kernel_initializer='normal', activation='relu'))\n",
        "\tmodel.add(Dense(19, kernel_initializer='normal', activation='relu'))\n",
        "\tmodel.add(Dense(19, kernel_initializer='normal', activation='relu'))\n",
        "\n",
        "\tmodel.add(Dense(1, kernel_initializer='normal'))\n",
        "\t# Compile model\n",
        "\tmodel.compile(loss='mean_squared_error', optimizer='rmsprop')\n",
        "\treturn model"
      ],
      "execution_count": 0,
      "outputs": []
    },
    {
      "metadata": {
        "colab_type": "code",
        "outputId": "96197b6f-a100-442e-e6e4-058c280b8b83",
        "id": "_SSPlB29k9tG",
        "colab": {
          "base_uri": "https://localhost:8080/",
          "height": 576
        }
      },
      "cell_type": "code",
      "source": [
        "np.random.seed(seed)\n",
        "estimators = []\n",
        "estimators.append(('standardize', StandardScaler()))\n",
        "estimators.append(('mlp', KerasRegressor(build_fn=deep_model_mse, epochs=50, batch_size=5, verbose=0)))\n",
        "pipeline_dmse = Pipeline(estimators)\n",
        "kfold = KFold(n_splits=10, random_state=seed)\n",
        "results_dmse = cross_val_score(pipeline_dmse, X, Y, cv=kfold, n_jobs=1)\n",
        "predicted_dmse = cross_val_predict(pipeline_dmse, X, Y, cv=kfold)\n",
        "print(\"Deep - Wide cv: %.2f (%.2f)MSE (%.2f) RMSE \"  % (results_dmse.mean(), results_dmse.std(), math.sqrt(results_dmse.std())))\n",
        "\n",
        "y=Y\n",
        "predicted=predicted_dmse\n",
        "fig, ax = plt.subplots()\n",
        "ax = sns.regplot(x=Y, y=predicted,fit_reg=False);\n",
        "sns.regplot(x=Y,y=Y, fit_reg=True, scatter=False, ax=ax);\n",
        "plt.figure()\n",
        "sns.residplot(Y,predicted-Y)\n",
        "ax.set_xlabel('PTS ERROR')\n",
        "ax.set_ylabel('PTS Actual')"
      ],
      "execution_count": 0,
      "outputs": [
        {
          "output_type": "stream",
          "text": [
            "Deep - Wide cv: -151.09 (109.54)MSE (10.47) RMSE \n"
          ],
          "name": "stdout"
        },
        {
          "output_type": "execute_result",
          "data": {
            "text/plain": [
              "Text(0,0.5,'PTS Actual')"
            ]
          },
          "metadata": {
            "tags": []
          },
          "execution_count": 32
        },
        {
          "output_type": "display_data",
          "data": {
            "image/png": "[encoded data removed]",
            "text/plain": [
              "<matplotlib.figure.Figure at 0x7fd54f616c50>"
            ]
          },
          "metadata": {
            "tags": []
          }
        },
        {
          "output_type": "display_data",
          "data": {
            "image/png": "[encoded data removed]",
            "text/plain": [
              "<matplotlib.figure.Figure at 0x7fd54e129f28>"
            ]
          },
          "metadata": {
            "tags": []
          }
        }
      ]
    },
    {
      "metadata": {
        "id": "6XKnU_5Gnq6L",
        "colab_type": "text"
      },
      "cell_type": "markdown",
      "source": [
        "\n",
        "# Train Final Model using all data for prediction\n",
        "Now that we've validated the one that performs best in cross validation, which is the deep model 19-19-19-19-19"
      ]
    },
    {
      "metadata": {
        "id": "aeCrTs5Ynrbs",
        "colab_type": "code",
        "colab": {}
      },
      "cell_type": "code",
      "source": [
        "# Convert dataframe to np array\n",
        "X = X_pts.iloc[:,0:19]   \n",
        "Y = Y_pts.iloc[:]\n",
        "\n",
        "# define final model\n",
        "def final_model():\n",
        "  model = deep_model_mse()\n",
        "  return model\n",
        "estimators = []\n",
        "estimators.append(('standardize', StandardScaler()))\n",
        "estimators.append(('mlp', KerasRegressor(build_fn=final_model, epochs=50, batch_size=5, verbose=0)))\n",
        "pipeline_f = Pipeline(estimators)"
      ],
      "execution_count": 0,
      "outputs": []
    },
    {
      "metadata": {
        "id": "YMgWzzju0D_l",
        "colab_type": "code",
        "colab": {}
      },
      "cell_type": "code",
      "source": [
        "pipeline_f = pipeline_f.fit(X,Y)\n"
      ],
      "execution_count": 0,
      "outputs": []
    },
    {
      "metadata": {
        "id": "tThe9sLM_735",
        "colab_type": "code",
        "colab": {
          "base_uri": "https://localhost:8080/",
          "height": 560
        },
        "outputId": "60691790-287e-43d7-bd53-aeb298755054"
      },
      "cell_type": "code",
      "source": [
        "y_fit = pipeline_f.predict(X)\n",
        "predicted=y_fit\n",
        "fig, ax = plt.subplots()\n",
        "ax = sns.regplot(x=Y, y=predicted,fit_reg=False);\n",
        "sns.regplot(x=Y,y=Y, fit_reg=True, scatter=False, ax=ax);\n",
        "plt.figure()\n",
        "sns.residplot(Y,predicted-Y)\n",
        "ax.set_xlabel('PTS ERROR')\n",
        "ax.set_ylabel('PTS Actual')\n"
      ],
      "execution_count": 60,
      "outputs": [
        {
          "output_type": "execute_result",
          "data": {
            "text/plain": [
              "Text(0,0.5,'PTS Actual')"
            ]
          },
          "metadata": {
            "tags": []
          },
          "execution_count": 60
        },
        {
          "output_type": "display_data",
          "data": {
            "image/png": "[encoded data removed]",
            "text/plain": [
              "<matplotlib.figure.Figure at 0x7fd54cc6efd0>"
            ]
          },
          "metadata": {
            "tags": []
          }
        },
        {
          "output_type": "display_data",
          "data": {
            "image/png": "[encoded data removed]",
            "text/plain": [
              "<matplotlib.figure.Figure at 0x7fd54c050eb8>"
            ]
          },
          "metadata": {
            "tags": []
          }
        }
      ]
    },
    {
      "metadata": {
        "id": "zGwh90ktWC9B",
        "colab_type": "code",
        "colab": {}
      },
      "cell_type": "code",
      "source": [
        ""
      ],
      "execution_count": 0,
      "outputs": []
    }
  ]
}