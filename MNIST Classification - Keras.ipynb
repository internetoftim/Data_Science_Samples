{
 "cells": [
  {
   "cell_type": "markdown",
   "metadata": {
    "colab_type": "text",
    "id": "c7HLCm66Cs2p"
   },
   "source": [
    "# MNIST Handwritten Digit Classification\n",
    "\n",
    "Using MNIST database, Implement two classification algorithms and achieve a high accuracy (more than 90%)"
   ]
  },
  {
   "cell_type": "markdown",
   "metadata": {},
   "source": [
    "### Summary\n",
    "\n",
    "### Algo 1:  Fully-connected Neural Network\n",
    "The network was trained on a 80-20% training-validation for 3 epochs. The result on the test set was **precision: 97%, recall: 97%, f1: 97%**\n",
    "\n",
    "### Algo 2: Lenet-5 Deep Learning Architecture\n",
    "The Lenet-5 uses CNN's, local receptive fields, and spacial subsampling, making it robust to The network was trained on a 80-20% training-validation for 10 epochs. The result on the test set was **precision: 93%, recall: 93%, f1: 93%**\n",
    "\n",
    "The models could achieve better performance as the training epochs are increased\n"
   ]
  },
  {
   "cell_type": "markdown",
   "metadata": {
    "colab_type": "text",
    "id": "2NMdE1b-7UIH"
   },
   "source": [
    "### Setup Prerequisites\n",
    "\n",
    "Download the data set, import TensorFlow and other utilities, and load the data into a *pandas* `DataFrame`."
   ]
  },
  {
   "cell_type": "code",
   "execution_count": 0,
   "metadata": {
    "cellView": "both",
    "colab": {
     "base_uri": "https://localhost:8080/",
     "height": 70,
     "test": {
      "output": "ignore",
      "timeout": 600
     }
    },
    "colab_type": "code",
    "id": "4LJ4SD8BWHeh",
    "outputId": "9c37099e-3de7-44b8-a877-1a892cd17e97"
   },
   "outputs": [
    {
     "name": "stdout",
     "output_type": "stream",
     "text": [
      "TensorFlow version: 1.12.0\n",
      "Eager execution: False\n"
     ]
    },
    {
     "name": "stderr",
     "output_type": "stream",
     "text": [
      "Using TensorFlow backend.\n"
     ]
    }
   ],
   "source": [
    "import glob\n",
    "import math\n",
    "import os\n",
    "\n",
    "from IPython import display\n",
    "from matplotlib import cm\n",
    "from matplotlib import gridspec\n",
    "from matplotlib import pyplot as plt\n",
    "import numpy as np\n",
    "import pandas as pd\n",
    "import seaborn as sns\n",
    "from sklearn import metrics\n",
    "import tensorflow as tf\n",
    "from tensorflow.python.data import Dataset\n",
    "import matplotlib.pyplot as plt\n",
    "import keras\n",
    "from keras.datasets import mnist\n",
    "from keras.models import Sequential\n",
    "from keras.layers import Dense, Dropout, Flatten\n",
    "from keras.layers import Conv2D, MaxPooling2D\n",
    "from keras import backend as K\n",
    "import tensorflow as tf\n",
    "from keras.models import Sequential\n",
    "from keras.models import Sequential\n",
    "from keras.layers.core import Dense, Activation, Flatten\n",
    "from keras.utils import np_utils\n",
    "from keras.preprocessing.image import ImageDataGenerator\n",
    "from keras.layers.normalization import BatchNormalization\n",
    "\n",
    "print(\"TensorFlow version: {}\".format(tf.__version__))\n",
    "print(\"Eager execution: {}\".format(tf.executing_eagerly()))\n",
    "\n"
   ]
  },
  {
   "cell_type": "code",
   "execution_count": null,
   "metadata": {
    "collapsed": true
   },
   "outputs": [],
   "source": [
    "!pip install python-mnist"
   ]
  },
  {
   "cell_type": "code",
   "execution_count": 0,
   "metadata": {
    "colab": {
     "base_uri": "https://localhost:8080/",
     "height": 52
    },
    "colab_type": "code",
    "id": "4CgQcyR4TtaS",
    "outputId": "95bce1b3-39ff-4b42-f2e8-7170291bc2a4"
   },
   "outputs": [
    {
     "name": "stdout",
     "output_type": "stream",
     "text": [
      "Downloading data from https://storage.googleapis.com/tensorflow/tf-keras-datasets/mnist.npz\n",
      "11493376/11490434 [==============================] - 0s 0us/step\n"
     ]
    }
   ],
   "source": [
    "(x_train, y_train), (x_test, y_test) = tf.keras.datasets.mnist.load_data()"
   ]
  },
  {
   "cell_type": "code",
   "execution_count": 0,
   "metadata": {
    "colab": {
     "base_uri": "https://localhost:8080/",
     "height": 382
    },
    "colab_type": "code",
    "id": "YURM6kE2TvOF",
    "outputId": "8d6e411f-74c9-44cf-b37a-492cfd2b08ec"
   },
   "outputs": [
    {
     "name": "stdout",
     "output_type": "stream",
     "text": [
      "8\n"
     ]
    },
    {
     "data": {
      "text/plain": [
       "<matplotlib.image.AxesImage at 0x7f8548c42908>"
      ]
     },
     "execution_count": 4,
     "metadata": {
      "tags": []
     },
     "output_type": "execute_result"
    },
    {
     "data": {
      "image/png": "[encoded data removed]",
      "text/plain": [
       "<matplotlib.figure.Figure at 0x7f858905aac8>"
      ]
     },
     "metadata": {
      "tags": []
     },
     "output_type": "display_data"
    }
   ],
   "source": [
    "image_index = 7777 # You may select anything up to 60,000\n",
    "print(y_train[image_index]) # The label is 8\n",
    "plt.imshow(x_train[image_index], cmap='Greys')"
   ]
  },
  {
   "cell_type": "code",
   "execution_count": 0,
   "metadata": {
    "colab": {
     "base_uri": "https://localhost:8080/",
     "height": 52
    },
    "colab_type": "code",
    "id": "izR5azCAUS75",
    "outputId": "aac7c763-b235-4f7c-ce07-b328520b3c81"
   },
   "outputs": [
    {
     "name": "stdout",
     "output_type": "stream",
     "text": [
      "(10000, 28, 28)\n",
      "(28, 28)\n"
     ]
    }
   ],
   "source": [
    "print(x_test.shape)\n",
    "print(x_test[0].shape)"
   ]
  },
  {
   "cell_type": "markdown",
   "metadata": {
    "colab_type": "text",
    "id": "cIT9r67Q0Gyt"
   },
   "source": [
    "### Summarize the Data"
   ]
  },
  {
   "cell_type": "code",
   "execution_count": 0,
   "metadata": {
    "colab": {
     "base_uri": "https://localhost:8080/",
     "height": 87
    },
    "colab_type": "code",
    "id": "aBx7Gns30JKg",
    "outputId": "f05f431c-9b52-431b-9e42-53789048c642"
   },
   "outputs": [
    {
     "name": "stdout",
     "output_type": "stream",
     "text": [
      "(60000,)\n",
      "(10000,)\n",
      "Classes in Training = [0 1 2 3 4 5 6 7 8 9]\n",
      "Classes in validation = [0 1 2 3 4 5 6 7 8 9]\n"
     ]
    }
   ],
   "source": [
    "print(y_train.shape)\n",
    "print(y_test.shape)\n",
    "\n",
    "print(\"Classes in Training =\", np.unique(y_train))\n",
    "print(\"Classes in validation =\", np.unique(y_test))\n"
   ]
  },
  {
   "cell_type": "markdown",
   "metadata": {
    "colab_type": "text",
    "id": "yCX1-UUq1fW2"
   },
   "source": [
    "### Historgram of Classes"
   ]
  },
  {
   "cell_type": "code",
   "execution_count": 0,
   "metadata": {
    "colab": {
     "base_uri": "https://localhost:8080/",
     "height": 347
    },
    "colab_type": "code",
    "id": "kJSVCTCE08rA",
    "outputId": "20e7aa4e-2c3e-4f77-ddf7-26888a665c59",
    "scrolled": true
   },
   "outputs": [
    {
     "data": {
      "image/png": "[encoded data removed]",
      "text/plain": [
       "<matplotlib.figure.Figure at 0x7f8548beecf8>"
      ]
     },
     "metadata": {
      "tags": []
     },
     "output_type": "display_data"
    }
   ],
   "source": [
    "plt.figure()\n",
    "plt.hist(y_train, bins=np.unique(y_train).shape[0],)       # Histogram of classes in training set\n",
    "plt.show()"
   ]
  },
  {
   "cell_type": "code",
   "execution_count": 0,
   "metadata": {
    "colab": {
     "base_uri": "https://localhost:8080/",
     "height": 346
    },
    "colab_type": "code",
    "id": "QxNc2qCs0_GX",
    "outputId": "d5f52e16-7103-4efb-f320-191aed9b08d1"
   },
   "outputs": [
    {
     "data": {
      "image/png": "[encoded data removed]",
      "text/plain": [
       "<matplotlib.figure.Figure at 0x7f85463998d0>"
      ]
     },
     "metadata": {
      "tags": []
     },
     "output_type": "display_data"
    }
   ],
   "source": [
    "plt.figure()\n",
    "plt.hist(y_test, bins=np.unique(y_test).shape[0],)       # Histogram of classes in training set\n",
    "plt.show()"
   ]
  },
  {
   "cell_type": "markdown",
   "metadata": {
    "colab_type": "text",
    "id": "cwxedl_2VGgQ"
   },
   "source": [
    "### One Hot Encoding"
   ]
  },
  {
   "cell_type": "code",
   "execution_count": 0,
   "metadata": {
    "colab": {},
    "colab_type": "code",
    "collapsed": true,
    "id": "OeS47Bmn5Ms2"
   },
   "outputs": [],
   "source": [
    "from sklearn.preprocessing import LabelBinarizer\n",
    "label_binarizer = LabelBinarizer()\n",
    "train_one_hot = label_binarizer.fit_transform(y_train)\n",
    "test_one_hot = label_binarizer.fit_transform(y_test)"
   ]
  },
  {
   "cell_type": "code",
   "execution_count": 0,
   "metadata": {
    "colab": {
     "base_uri": "https://localhost:8080/",
     "height": 141
    },
    "colab_type": "code",
    "id": "zC7LYKLQ3zR7",
    "outputId": "3c979f93-7623-4f39-b343-a035fcdf61d7"
   },
   "outputs": [
    {
     "data": {
      "text/plain": [
       "array([[0, 0, 0, ..., 0, 0, 0],\n",
       "       [1, 0, 0, ..., 0, 0, 0],\n",
       "       [0, 0, 0, ..., 0, 0, 0],\n",
       "       ...,\n",
       "       [0, 0, 0, ..., 0, 0, 0],\n",
       "       [0, 0, 0, ..., 0, 0, 0],\n",
       "       [0, 0, 0, ..., 0, 1, 0]])"
      ]
     },
     "execution_count": 10,
     "metadata": {
      "tags": []
     },
     "output_type": "execute_result"
    }
   ],
   "source": [
    "train_one_hot"
   ]
  },
  {
   "cell_type": "markdown",
   "metadata": {
    "colab_type": "text",
    "id": "zNSutoF-GElQ"
   },
   "source": [
    "### Pre-process\n",
    "Normalize pixels"
   ]
  },
  {
   "cell_type": "code",
   "execution_count": 0,
   "metadata": {
    "colab": {},
    "colab_type": "code",
    "collapsed": true,
    "id": "gllyyGS95_xw"
   },
   "outputs": [],
   "source": [
    "norm_x_test = tf.keras.utils.normalize(x_test,axis=1)\n",
    "norm_x = tf.keras.utils.normalize(x_train,axis=1)"
   ]
  },
  {
   "cell_type": "markdown",
   "metadata": {
    "colab_type": "text",
    "id": "4EaPWoWPV4dy"
   },
   "source": [
    "### Solution 1 :  Fully Connected Neural Network Model"
   ]
  },
  {
   "cell_type": "code",
   "execution_count": 0,
   "metadata": {
    "colab": {},
    "colab_type": "code",
    "collapsed": true,
    "id": "8zoGWAoohrwS"
   },
   "outputs": [],
   "source": [
    "model = tf.keras.models.Sequential()\n",
    "model.add(tf.keras.layers.Flatten())\n",
    "model.add(tf.keras.layers.Dense(128, activation=tf.nn.relu))\n",
    "model.add(tf.keras.layers.Dense(10, activation=tf.nn.softmax))\n",
    "model.compile(optimizer='adam',\n",
    "              loss='sparse_categorical_crossentropy',\n",
    "              metrics=['accuracy'],validation_split=0.2)\n",
    "\n"
   ]
  },
  {
   "cell_type": "markdown",
   "metadata": {
    "colab_type": "text",
    "id": "J_wb68GWWBqj"
   },
   "source": [
    "### Train Fully-Connected Layer Neural Network Model"
   ]
  },
  {
   "cell_type": "code",
   "execution_count": 0,
   "metadata": {
    "colab": {
     "base_uri": "https://localhost:8080/",
     "height": 141
    },
    "colab_type": "code",
    "id": "Excct_fSHaGG",
    "outputId": "24173238-469d-4a98-9483-32c6f4c62a2f"
   },
   "outputs": [
    {
     "name": "stdout",
     "output_type": "stream",
     "text": [
      "Epoch 1/3\n",
      "60000/60000 [==============================] - 3s 45us/step - loss: 0.0338 - acc: 0.9907\n",
      "Epoch 2/3\n",
      "60000/60000 [==============================] - 3s 45us/step - loss: 0.0297 - acc: 0.9924\n",
      "Epoch 3/3\n",
      "60000/60000 [==============================] - 3s 45us/step - loss: 0.0268 - acc: 0.9935\n"
     ]
    },
    {
     "data": {
      "text/plain": [
       "<tensorflow.python.keras.callbacks.History at 0x7efc0066cdd0>"
      ]
     },
     "execution_count": 96,
     "metadata": {
      "tags": []
     },
     "output_type": "execute_result"
    }
   ],
   "source": [
    "model.fit(norm_x,y_train, batch_size=128, epochs=3)"
   ]
  },
  {
   "cell_type": "code",
   "execution_count": 0,
   "metadata": {
    "colab": {
     "base_uri": "https://localhost:8080/",
     "height": 34
    },
    "colab_type": "code",
    "id": "h4JzXsXOHkp9",
    "outputId": "aff6d3f8-a9fc-40b1-feb4-749ef6bc7ed5"
   },
   "outputs": [
    {
     "name": "stdout",
     "output_type": "stream",
     "text": [
      "10000/10000 [==============================] - 0s 47us/step\n"
     ]
    }
   ],
   "source": [
    "val_loss, val_acc = model.evaluate(norm_x_test, y_test)\n"
   ]
  },
  {
   "cell_type": "markdown",
   "metadata": {
    "colab_type": "text",
    "id": "BF4XY_4bPTCp"
   },
   "source": [
    "### Confusion Matrix"
   ]
  },
  {
   "cell_type": "code",
   "execution_count": 0,
   "metadata": {
    "colab": {
     "base_uri": "https://localhost:8080/",
     "height": 375
    },
    "colab_type": "code",
    "id": "rm8P_Ttwu8U4",
    "outputId": "be284dce-8861-4658-bdf4-942d3d28cc21"
   },
   "outputs": [
    {
     "data": {
      "image/png": "[encoded data removed]",
      "text/plain": [
       "<matplotlib.figure.Figure at 0x7efbffa2eb90>"
      ]
     },
     "metadata": {
      "tags": []
     },
     "output_type": "display_data"
    }
   ],
   "source": [
    "  cm = metrics.confusion_matrix(y_test, test_prediction)\n",
    "  # Normalize the confusion matrix by row (i.e by the number of samples\n",
    "  # in each class).\n",
    "  cm_normalized = cm.astype(\"float\") / cm.sum(axis=1)[:, np.newaxis]\n",
    "  ax = sns.heatmap(cm_normalized, cmap=\"bone_r\")\n",
    "  ax.set_aspect(1)\n",
    "  plt.title(\"Confusion matrix\")\n",
    "  plt.ylabel(\"True label\")\n",
    "  plt.xlabel(\"Predicted label\")\n",
    "  plt.show()\n",
    "\n"
   ]
  },
  {
   "cell_type": "markdown",
   "metadata": {
    "colab_type": "text",
    "id": "bgjJkBLwQNEp"
   },
   "source": [
    "### Confusion Matrix"
   ]
  },
  {
   "cell_type": "code",
   "execution_count": 0,
   "metadata": {
    "colab": {
     "base_uri": "https://localhost:8080/",
     "height": 194
    },
    "colab_type": "code",
    "id": "qR9efdxVLwla",
    "outputId": "fa96850d-b4af-4703-849f-2cacb07dc816"
   },
   "outputs": [
    {
     "data": {
      "text/plain": [
       "array([[ 969,    0,    0,    0,    1,    1,    2,    1,    4,    2],\n",
       "       [   0, 1116,    4,    0,    0,    0,    2,    0,   13,    0],\n",
       "       [   5,    1, 1001,    7,    2,    0,    2,    6,    8,    0],\n",
       "       [   0,    0,    1,  987,    1,    4,    0,    5,    7,    5],\n",
       "       [   0,    0,    4,    1,  963,    0,    3,    1,    2,    8],\n",
       "       [   2,    0,    1,   16,    1,  857,    4,    1,    8,    2],\n",
       "       [   7,    2,    1,    1,    4,    4,  935,    0,    4,    0],\n",
       "       [   2,    2,   12,    7,    2,    0,    0,  997,    1,    5],\n",
       "       [   1,    1,    3,    6,    5,    2,    3,    2,  946,    5],\n",
       "       [   2,    5,    0,    6,   12,    2,    1,    3,    4,  974]])"
      ]
     },
     "execution_count": 103,
     "metadata": {
      "tags": []
     },
     "output_type": "execute_result"
    }
   ],
   "source": [
    "cm"
   ]
  },
  {
   "cell_type": "code",
   "execution_count": 0,
   "metadata": {
    "colab": {
     "base_uri": "https://localhost:8080/",
     "height": 374
    },
    "colab_type": "code",
    "id": "_Z35sxQUTnB_",
    "outputId": "9752cc3e-df8e-4cb8-ea7f-c9fab8fb50fc"
   },
   "outputs": [
    {
     "name": "stdout",
     "output_type": "stream",
     "text": [
      "Classification report for classifier <tensorflow.python.keras.engine.sequential.Sequential object at 0x7efbff906cd0>:\n",
      "              precision    recall  f1-score   support\n",
      "\n",
      "           0       0.98      0.99      0.98       980\n",
      "           1       0.99      0.98      0.99      1135\n",
      "           2       0.97      0.97      0.97      1032\n",
      "           3       0.96      0.98      0.97      1010\n",
      "           4       0.97      0.98      0.98       982\n",
      "           5       0.99      0.96      0.97       892\n",
      "           6       0.98      0.98      0.98       958\n",
      "           7       0.98      0.97      0.98      1028\n",
      "           8       0.95      0.97      0.96       974\n",
      "           9       0.97      0.97      0.97      1009\n",
      "\n",
      "   micro avg       0.97      0.97      0.97     10000\n",
      "   macro avg       0.97      0.97      0.97     10000\n",
      "weighted avg       0.97      0.97      0.97     10000\n",
      "\n",
      "\n"
     ]
    }
   ],
   "source": [
    "print(\"Classification report for classifier %s:\\n%s\\n\"\n",
    "      % (model, metrics.classification_report(y_test, test_prediction)))\n"
   ]
  },
  {
   "cell_type": "markdown",
   "metadata": {
    "colab_type": "text",
    "id": "4Ng4BPBohZtk"
   },
   "source": [
    "### Solution 2: Lenet-5 Architecture\n",
    "\n",
    "### Input\n",
    "The LeNet architecture originally accepts a 32x32xC image as input, where C is the number of color channels. Since MNIST images are 28x28 and grayscale, C is 1 in this case, and I modified the network to accept 28x28x1 input.\n",
    "\n",
    "### Architecture\n",
    "Layer 1: Convolutional. The input shape should be 28x28x6.\n",
    "\n",
    "Activation. Relu.\n",
    "\n",
    "Pooling. The output shape should be 14x14x6.\n",
    "\n",
    "Layer 2: Convolutional. The output shape should be 10x10x16.\n",
    "\n",
    "Activation. Relu.\n",
    "\n",
    "Pooling. The output shape should be 5x5x16.\n",
    "\n",
    "Flatten. Flatten the output shape of the final pooling layer such that it's 1D. \n",
    "\n",
    "Layer 3: Fully Connected. This should have 120 outputs.\n",
    "\n",
    "Activation. Relu.\n",
    "\n",
    "Layer 4: Fully Connected. This should have 84 outputs.\n",
    "\n",
    "Activation. Relu.\n",
    "\n",
    "Layer 5: Fully Connected (Logits). This should have 10 outputs."
   ]
  },
  {
   "cell_type": "code",
   "execution_count": 0,
   "metadata": {
    "colab": {},
    "colab_type": "code",
    "collapsed": true,
    "id": "SuQIFE2Ejejt"
   },
   "outputs": [],
   "source": [
    "modelenet = Sequential()\n",
    "# Layer 1\n",
    "modelenet.add(Conv2D(6, kernel_size=(5, 5),\n",
    "                 activation='relu',\n",
    "                 input_shape=(28,28,1),\n",
    "                 strides = 1))\n",
    "modelenet.add(BatchNormalization(axis=-1))\n",
    "\n",
    "modelenet.add(MaxPooling2D(pool_size=(2,2)))\n",
    "modelenet.add(Dropout(0.25))\n",
    "\n",
    "# Layer 2 \n",
    "modelenet.add(Conv2D(16, kernel_size=(2, 2),\n",
    "                 activation='relu',\n",
    "                 strides = 2)\n",
    "             )\n",
    "modelenet.add(BatchNormalization(axis=-1))\n",
    "\n",
    "modelenet.add(MaxPooling2D(pool_size=(2,2)))\n",
    "modelenet.add(Dropout(0.25))\n",
    "\n",
    "modelenet.add(Flatten())\n",
    "\n",
    "#  Layer 3\n",
    "modelenet.add(Dense(120, activation='relu'))\n",
    "\n",
    "# Layer 4\n",
    "modelenet.add(Dense(84, activation='relu'))\n",
    "modelenet.add(Dropout(0.25))\n",
    "\n",
    "# Layer 5\n",
    "modelenet.add(Dense(10, activation='relu'))\n",
    "\n",
    "modelenet.compile(loss='categorical_crossentropy', optimizer=\"adam\",\n",
    "              metrics=['accuracy'])\n"
   ]
  },
  {
   "cell_type": "code",
   "execution_count": 0,
   "metadata": {
    "colab": {},
    "colab_type": "code",
    "collapsed": true,
    "id": "OzNrsAMbpH9Z"
   },
   "outputs": [],
   "source": [
    "gen = ImageDataGenerator()\n",
    "\n",
    "test_gen = ImageDataGenerator()"
   ]
  },
  {
   "cell_type": "code",
   "execution_count": 0,
   "metadata": {
    "colab": {},
    "colab_type": "code",
    "collapsed": true,
    "id": "IKWv7nflpH9b"
   },
   "outputs": [],
   "source": [
    "train_generator = gen.flow(norm_x.reshape(norm_x.shape[0], 28, 28, 1)\n",
    ", train_one_hot, batch_size=64)\n",
    "test_generator = test_gen.flow(norm_x_test.reshape(norm_x_test.shape[0], 28, 28, 1)\n",
    ", test_one_hot, batch_size=64)"
   ]
  },
  {
   "cell_type": "code",
   "execution_count": 0,
   "metadata": {
    "colab": {
     "base_uri": "https://localhost:8080/",
     "height": 390
    },
    "colab_type": "code",
    "id": "4XbGm4mjpH9n",
    "outputId": "52573068-9d5b-4e4b-a126-c1a07f39aa11"
   },
   "outputs": [
    {
     "name": "stdout",
     "output_type": "stream",
     "text": [
      "Epoch 1/10\n",
      "937/937 [==============================] - 12s 13ms/step - loss: 0.7618 - acc: 0.8347 - val_loss: 0.4105 - val_acc: 0.9107\n",
      "Epoch 2/10\n",
      "937/937 [==============================] - 12s 13ms/step - loss: 0.7741 - acc: 0.8302 - val_loss: 0.5154 - val_acc: 0.8466\n",
      "Epoch 3/10\n",
      "937/937 [==============================] - 12s 13ms/step - loss: 0.7712 - acc: 0.8361 - val_loss: 0.4424 - val_acc: 0.9100\n",
      "Epoch 4/10\n",
      "937/937 [==============================] - 12s 13ms/step - loss: 0.8101 - acc: 0.8288 - val_loss: 0.4221 - val_acc: 0.9104\n",
      "Epoch 5/10\n",
      "937/937 [==============================] - 12s 13ms/step - loss: 0.7429 - acc: 0.8473 - val_loss: 0.3795 - val_acc: 0.9167\n",
      "Epoch 6/10\n",
      "937/937 [==============================] - 12s 13ms/step - loss: 0.7477 - acc: 0.8249 - val_loss: 0.5773 - val_acc: 0.8464\n",
      "Epoch 7/10\n",
      "937/937 [==============================] - 12s 13ms/step - loss: 0.7859 - acc: 0.8207 - val_loss: 0.4449 - val_acc: 0.9099\n",
      "Epoch 8/10\n",
      "937/937 [==============================] - 12s 13ms/step - loss: 0.7411 - acc: 0.8359 - val_loss: 0.3775 - val_acc: 0.9157\n",
      "Epoch 9/10\n",
      "937/937 [==============================] - 12s 13ms/step - loss: 0.6885 - acc: 0.8552 - val_loss: 0.3820 - val_acc: 0.9043\n",
      "Epoch 10/10\n",
      "937/937 [==============================] - 12s 13ms/step - loss: 0.6601 - acc: 0.8603 - val_loss: 0.3171 - val_acc: 0.9307\n"
     ]
    },
    {
     "data": {
      "text/plain": [
       "<keras.callbacks.History at 0x7f852b5f5f98>"
      ]
     },
     "execution_count": 38,
     "metadata": {
      "tags": []
     },
     "output_type": "execute_result"
    }
   ],
   "source": [
    "modelenet.fit_generator(train_generator, steps_per_epoch=60000//64, epochs=10, \n",
    "                    validation_data=test_generator, validation_steps=10000//64, shuffle=True)\n"
   ]
  },
  {
   "cell_type": "code",
   "execution_count": 0,
   "metadata": {
    "colab": {},
    "colab_type": "code",
    "collapsed": true,
    "id": "JTRw5I8qpAr3"
   },
   "outputs": [],
   "source": [
    "test_lenet = modelenet.predict_classes(norm_x_test.reshape(norm_x_test.shape[0], 28, 28, 1))"
   ]
  },
  {
   "cell_type": "code",
   "execution_count": 0,
   "metadata": {
    "colab": {
     "base_uri": "https://localhost:8080/",
     "height": 354
    },
    "colab_type": "code",
    "id": "3DUdKfg6pnGO",
    "outputId": "bc95710b-fd83-4be5-8f5c-11a3204e07af"
   },
   "outputs": [
    {
     "name": "stdout",
     "output_type": "stream",
     "text": [
      "Classification report for classifier <keras.engine.sequential.Sequential object at 0x7f852e275b38>:\n",
      "              precision    recall  f1-score   support\n",
      "\n",
      "           0       0.94      0.97      0.95       980\n",
      "           1       0.97      0.98      0.97      1135\n",
      "           2       0.92      0.92      0.92      1032\n",
      "           3       0.88      0.93      0.91      1010\n",
      "           4       0.95      0.95      0.95       982\n",
      "           5       0.96      0.91      0.93       892\n",
      "           6       0.95      0.96      0.95       958\n",
      "           7       0.92      0.92      0.92      1028\n",
      "           8       0.91      0.82      0.86       974\n",
      "           9       0.90      0.92      0.91      1009\n",
      "\n",
      "   micro avg       0.93      0.93      0.93     10000\n",
      "   macro avg       0.93      0.93      0.93     10000\n",
      "weighted avg       0.93      0.93      0.93     10000\n",
      "\n",
      "\n"
     ]
    }
   ],
   "source": [
    "print(\"Classification report for classifier %s:\\n%s\\n\"\n",
    "      % (modelenet, metrics.classification_report(y_test, test_lenet)))\n"
   ]
  },
  {
   "cell_type": "code",
   "execution_count": 0,
   "metadata": {
    "colab": {
     "base_uri": "https://localhost:8080/",
     "height": 375
    },
    "colab_type": "code",
    "id": "wStuqeWeppbE",
    "outputId": "83e8b1af-db53-48bc-839d-9dff2342f8d8"
   },
   "outputs": [
    {
     "data": {
      "image/png": "[encoded data removed]",
      "text/plain": [
       "<matplotlib.figure.Figure at 0x7f852e0beeb8>"
      ]
     },
     "metadata": {
      "tags": []
     },
     "output_type": "display_data"
    }
   ],
   "source": [
    "  cm = metrics.confusion_matrix(y_test, test_lenet)\n",
    "  # Normalize the confusion matrix by row (i.e by the number of samples\n",
    "  # in each class).\n",
    "  cm_normalized = cm.astype(\"float\") / cm.sum(axis=1)[:, np.newaxis]\n",
    "  ax = sns.heatmap(cm_normalized, cmap=\"bone_r\")\n",
    "  ax.set_aspect(1)\n",
    "  plt.title(\"Confusion matrix\")\n",
    "  plt.ylabel(\"True label\")\n",
    "  plt.xlabel(\"Predicted label\")\n",
    "  plt.show()\n",
    "\n"
   ]
  },
  {
   "cell_type": "markdown",
   "metadata": {},
   "source": [
    "## Some Discussion\n",
    "Describe the techniques, including data preparation, feature reduction and training tricks in your classification algorithms."
   ]
  },
  {
   "cell_type": "markdown",
   "metadata": {},
   "source": [
    "### Data Preparation"
   ]
  },
  {
   "cell_type": "markdown",
   "metadata": {},
   "source": [
    "###  Data Normalization : tf.keras.utils.normalize\n",
    "\n",
    "``` python\n",
    "norm_x_test = tf.keras.utils.normalize(x_test,axis=1)\n",
    "norm_x = tf.keras.utils.normalize(x_train,axis=1) ```\n",
    "\n",
    "The input features are normalized using tf.keras.utils.normalize(). The raw pixel is composed of values ranging from 0 to 255. In this step, the values are converted to a range between 0 and 1. This performs L-2 normalization on the data.\n",
    "\n",
    "### Label One-hot Encoding\n",
    "The raw label data is a number between 0 and 9, corresponding to each digit. For the Neural Network in both algorithms, it basically employs multiple binary-classifiers, hence one-hot encoding transforms the label to an array where each collumn corresponds to the binary variable representing each label. \n",
    "\n",
    "\n",
    "```\n",
    "label,\t0_,\t\t1_,\t\t2_,\t\t3_,\t\t4_  . . .\n",
    "0,\t\t1,\t\t 0,\t\t 0,\t\t 0,\t\t 0,\t. . .\n",
    "1,\t\t0,\t\t 1,\t\t 0,\t\t 0,\t\t 0,\t. . .\n",
    "2,\t\t0,\t\t 0,\t\t 2,\t\t 0,\t\t 0,\t. . .\n",
    "3,\t\t0,\t\t 0,\t\t 0,\t\t 3,\t\t 0,\t. . .\n",
    "```\n",
    "\n",
    "### Training Data Batch Generator\n",
    "\n",
    "``` python\n",
    "train_generator = gen.flow(norm_x.reshape(norm_x.shape[0], 28, 28, 1)\n",
    ", train_one_hot, batch_size=64)\n",
    "test_generator = test_gen.flow(norm_x_test.reshape(norm_x_test.shape[0], 28, 28, 1)\n",
    ", test_one_hot, batch_size=64)```\n",
    "\n",
    "The training and test data are separated into smaller batches. Each subset is passed forward and back to learn the network weights."
   ]
  },
  {
   "cell_type": "markdown",
   "metadata": {},
   "source": [
    "### Feature Reduction"
   ]
  },
  {
   "cell_type": "markdown",
   "metadata": {},
   "source": [
    "### Pooling Layer\n",
    "```python\n",
    "modelenet.add(MaxPooling2D(pool_size=(2,2)))```\n",
    "\n",
    "The first algorithm, the fully connected network, uses all input features in the classification task. This means the 28x28 input uses all 784 pixels and the network has to learn all 784 weights for each of them. As the network grows deeper, doing this would be computationally costly, hence the need to reduce these inputs.\n",
    "\n",
    "For the Lenet-5 algorithm, pooling layers are used to reduce the input to succeeding layers. I used a maxpooling layer after each Convolution layer, with a 2x2 kernel size and stride width of 2. This reduces the input from 28x28 to 14x14 after the first convolution layer, and 10x10 to 5x5 after the second convolution layer.\n",
    "\n"
   ]
  },
  {
   "cell_type": "markdown",
   "metadata": {},
   "source": [
    "### Other Training Tricks\n",
    "### ReLU Activation Function\n",
    "The algorithm uses ReLU (Rectified Linear Unit) which brings non-linearity to the learning task, which allows learning of complex patterns in the training data. It is easier to train the network using ReLUs and it reduces the likelihood of vanishing gradient to occur.\n",
    "\n",
    "### Batch Normalization\n",
    "```python\n",
    "modelenet.add(MaxPooling2D(pool_size=(2,2)))```\n",
    "\n",
    "The activations of the previous layers are normalized so that it maintains a mean activation close to 0 and the standard deviation close to 1.\n",
    "\n",
    "### Dropout Layer\n",
    "```python\n",
    "modelenet.add(Dropout(0.25))\n",
    "```\n",
    "Dropout layers are introduced in between layers in order to improve performance against overfitting. What dropout does is it deactivates a subset of the neurons on the previous layer which has the effect of slightly decreasing the performance on the training data, but has shown to improve the performance on test data. In this example, 1/4 of the layer is *dropped or deactivated during training.\n",
    "\n",
    "### Adam Optimizer\n",
    "Adam optimizer is the algorithm used to  update the network weights in the training iterations. The strength of the algorithms is that the learning rate is adaptively selected and changes in the course of training.\n",
    "\n"
   ]
  },
  {
   "cell_type": "markdown",
   "metadata": {
    "colab": {},
    "colab_type": "code",
    "id": "mbz3UWhqptUs"
   },
   "source": [
    "### Epochs, Batch Size, Iterations\n",
    "We can increase the epochs so we can learn the weights better through multiple iterations. It would help to track the training cost function through visualization to give us an idea whether we are overfitting on the training data.\n",
    "\n",
    "### Early Stopping\n",
    "More training iterations doesn't necessarily mean better because it could lead to overfitting. Early stopping only means the training could be stopped when the validation accuracy hits a certain plateau.\n",
    "\n",
    "### Data Augmentation\n",
    "\n",
    "```\n",
    "gen = ImageDataGenerator(rotation_range=8, width_shift_range=0.08, shear_range=0.3,height_shift_range=0.08, zoom_range=0.08)\n",
    "\n",
    "```\n",
    "\n",
    "The imagedatagenerator can be used to augment the training data by performing different pre-processing methods on the raw input like shift, rotation, shear and crop. \n",
    "\n",
    "### Transfer Learning\n",
    "\n",
    "We can use pre-trained model weights that were trained on a different training data and use it as a form of feature extractor for our classification task.\n",
    "\n",
    "### Other Activation Functions\n",
    "We can experiment and use other activation functions such as sigmoid or tanh\n",
    "\n"
   ]
  },
  {
   "cell_type": "code",
   "execution_count": null,
   "metadata": {},
   "outputs": [],
   "source": []
  }
 ],
 "metadata": {
  "accelerator": "GPU",
  "colab": {
   "collapsed_sections": [
    "JndnmDMp66FL"
   ],
   "name": "Copy of multi-class_classification_of_handwritten_digits.ipynb",
   "provenance": [],
   "version": "0.3.2"
  },
  "kernelspec": {
   "display_name": "Python 3",
   "language": "python",
   "name": "python3"
  },
  "language_info": {
   "codemirror_mode": {
    "name": "ipython",
    "version": 3
   },
   "file_extension": ".py",
   "mimetype": "text/x-python",
   "name": "python",
   "nbconvert_exporter": "python",
   "pygments_lexer": "ipython3",
   "version": "3.7.0"
  },
  "widgets": {
   "state": {},
   "version": "1.1.2"
  }
 },
 "nbformat": 4,
 "nbformat_minor": 1
}
