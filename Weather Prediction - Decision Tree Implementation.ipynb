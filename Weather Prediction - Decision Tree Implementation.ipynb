{
 "cells": [
  {
   "cell_type": "code",
   "execution_count": 1,
   "metadata": {},
   "outputs": [],
   "source": [
    "import pandas as pd\n",
    "import math\n",
    "from math import log2"
   ]
  },
  {
   "cell_type": "code",
   "execution_count": 2,
   "metadata": {},
   "outputs": [],
   "source": [
    "tennis_pd = pd.read_csv('tennis.csv')"
   ]
  },
  {
   "cell_type": "code",
   "execution_count": 3,
   "metadata": {},
   "outputs": [
    {
     "data": {
      "text/html": [
       "<div>\n",
       "<style scoped>\n",
       "    .dataframe tbody tr th:only-of-type {\n",
       "        vertical-align: middle;\n",
       "    }\n",
       "\n",
       "    .dataframe tbody tr th {\n",
       "        vertical-align: top;\n",
       "    }\n",
       "\n",
       "    .dataframe thead th {\n",
       "        text-align: right;\n",
       "    }\n",
       "</style>\n",
       "<table border=\"1\" class=\"dataframe\">\n",
       "  <thead>\n",
       "    <tr style=\"text-align: right;\">\n",
       "      <th></th>\n",
       "      <th>Day</th>\n",
       "      <th>Outlook</th>\n",
       "      <th>Temp.</th>\n",
       "      <th>Humidity</th>\n",
       "      <th>Wind</th>\n",
       "      <th>Decision</th>\n",
       "    </tr>\n",
       "  </thead>\n",
       "  <tbody>\n",
       "    <tr>\n",
       "      <th>0</th>\n",
       "      <td>1</td>\n",
       "      <td>Sunny</td>\n",
       "      <td>Hot</td>\n",
       "      <td>High</td>\n",
       "      <td>Weak</td>\n",
       "      <td>No</td>\n",
       "    </tr>\n",
       "    <tr>\n",
       "      <th>1</th>\n",
       "      <td>2</td>\n",
       "      <td>Sunny</td>\n",
       "      <td>Hot</td>\n",
       "      <td>High</td>\n",
       "      <td>Strong</td>\n",
       "      <td>No</td>\n",
       "    </tr>\n",
       "    <tr>\n",
       "      <th>2</th>\n",
       "      <td>3</td>\n",
       "      <td>Overcast</td>\n",
       "      <td>Hot</td>\n",
       "      <td>High</td>\n",
       "      <td>Weak</td>\n",
       "      <td>Yes</td>\n",
       "    </tr>\n",
       "    <tr>\n",
       "      <th>3</th>\n",
       "      <td>4</td>\n",
       "      <td>Rain</td>\n",
       "      <td>Mild</td>\n",
       "      <td>High</td>\n",
       "      <td>Weak</td>\n",
       "      <td>Yes</td>\n",
       "    </tr>\n",
       "    <tr>\n",
       "      <th>4</th>\n",
       "      <td>5</td>\n",
       "      <td>Rain</td>\n",
       "      <td>Cool</td>\n",
       "      <td>Normal</td>\n",
       "      <td>Weak</td>\n",
       "      <td>Yes</td>\n",
       "    </tr>\n",
       "    <tr>\n",
       "      <th>5</th>\n",
       "      <td>6</td>\n",
       "      <td>Rain</td>\n",
       "      <td>Cool</td>\n",
       "      <td>Normal</td>\n",
       "      <td>Strong</td>\n",
       "      <td>No</td>\n",
       "    </tr>\n",
       "    <tr>\n",
       "      <th>6</th>\n",
       "      <td>7</td>\n",
       "      <td>Overcast</td>\n",
       "      <td>Cool</td>\n",
       "      <td>Normal</td>\n",
       "      <td>Strong</td>\n",
       "      <td>Yes</td>\n",
       "    </tr>\n",
       "    <tr>\n",
       "      <th>7</th>\n",
       "      <td>8</td>\n",
       "      <td>Sunny</td>\n",
       "      <td>Mild</td>\n",
       "      <td>High</td>\n",
       "      <td>Weak</td>\n",
       "      <td>No</td>\n",
       "    </tr>\n",
       "    <tr>\n",
       "      <th>8</th>\n",
       "      <td>9</td>\n",
       "      <td>Sunny</td>\n",
       "      <td>Cool</td>\n",
       "      <td>Normal</td>\n",
       "      <td>Weak</td>\n",
       "      <td>Yes</td>\n",
       "    </tr>\n",
       "    <tr>\n",
       "      <th>9</th>\n",
       "      <td>10</td>\n",
       "      <td>Rain</td>\n",
       "      <td>Mild</td>\n",
       "      <td>Normal</td>\n",
       "      <td>Weak</td>\n",
       "      <td>Yes</td>\n",
       "    </tr>\n",
       "    <tr>\n",
       "      <th>10</th>\n",
       "      <td>11</td>\n",
       "      <td>Sunny</td>\n",
       "      <td>Mild</td>\n",
       "      <td>Normal</td>\n",
       "      <td>Strong</td>\n",
       "      <td>Yes</td>\n",
       "    </tr>\n",
       "    <tr>\n",
       "      <th>11</th>\n",
       "      <td>12</td>\n",
       "      <td>Overcast</td>\n",
       "      <td>Mild</td>\n",
       "      <td>High</td>\n",
       "      <td>Strong</td>\n",
       "      <td>Yes</td>\n",
       "    </tr>\n",
       "    <tr>\n",
       "      <th>12</th>\n",
       "      <td>13</td>\n",
       "      <td>Overcast</td>\n",
       "      <td>Hot</td>\n",
       "      <td>Normal</td>\n",
       "      <td>Weak</td>\n",
       "      <td>Yes</td>\n",
       "    </tr>\n",
       "    <tr>\n",
       "      <th>13</th>\n",
       "      <td>14</td>\n",
       "      <td>Rain</td>\n",
       "      <td>Mild</td>\n",
       "      <td>High</td>\n",
       "      <td>Strong</td>\n",
       "      <td>No</td>\n",
       "    </tr>\n",
       "  </tbody>\n",
       "</table>\n",
       "</div>"
      ],
      "text/plain": [
       "    Day   Outlook Temp. Humidity    Wind Decision\n",
       "0     1     Sunny   Hot     High    Weak       No\n",
       "1     2     Sunny   Hot     High  Strong       No\n",
       "2     3  Overcast   Hot     High    Weak      Yes\n",
       "3     4      Rain  Mild     High    Weak      Yes\n",
       "4     5      Rain  Cool   Normal    Weak      Yes\n",
       "5     6      Rain  Cool   Normal  Strong       No\n",
       "6     7  Overcast  Cool   Normal  Strong      Yes\n",
       "7     8     Sunny  Mild     High    Weak       No\n",
       "8     9     Sunny  Cool   Normal    Weak      Yes\n",
       "9    10      Rain  Mild   Normal    Weak      Yes\n",
       "10   11     Sunny  Mild   Normal  Strong      Yes\n",
       "11   12  Overcast  Mild     High  Strong      Yes\n",
       "12   13  Overcast   Hot   Normal    Weak      Yes\n",
       "13   14      Rain  Mild     High  Strong       No"
      ]
     },
     "execution_count": 3,
     "metadata": {},
     "output_type": "execute_result"
    }
   ],
   "source": [
    "tennis_pd"
   ]
  },
  {
   "cell_type": "markdown",
   "metadata": {},
   "source": [
    "# Computing Entropy\n",
    "(1) Write a function that computes the Entropy of a set 𝑆 with 𝑁𝑝𝑜𝑠 positive observations and 𝑁𝑛𝑒𝑔 negative\n",
    "observations.\n"
   ]
  },
  {
   "cell_type": "code",
   "execution_count": 4,
   "metadata": {},
   "outputs": [],
   "source": [
    "# Compute probability\n",
    "def prob_compute (class_freq,tot_count):\n",
    "    return class_freq/tot_count\n",
    "\n",
    "# Compute Entropy from raw frequency counts (Valid for Binary attribute yes-no)\n",
    "def compute_raw_entropy(val1,val2):\n",
    "    # Handle the zero-probability\n",
    "    if (val1==0 or val2==0):\n",
    "        return 0\n",
    "    else:\n",
    "        p1 = prob_compute(val1,val1+val2)\n",
    "        p2 = prob_compute(val2,val1+val2)    \n",
    "        return -1 * (p1*log2(p1) + p2*log2(p2))\n",
    "\n",
    "# Compute Entropy from a set S with val1=Nneg, val2=Npos    \n",
    "def compute_entropy_from_set(subset_pd,target_column):\n",
    "    group_freq = subset_pd.groupby([target]).size()\n",
    "    if (len(group_freq)<2):\n",
    "        return 0\n",
    "    else:\n",
    "        return compute_raw_entropy(group_freq[0],group_freq[1])    "
   ]
  },
  {
   "cell_type": "markdown",
   "metadata": {},
   "source": [
    "**This computes the entropy for the Decision {9-Yes, 5-No}**"
   ]
  },
  {
   "cell_type": "code",
   "execution_count": 85,
   "metadata": {},
   "outputs": [
    {
     "name": "stdout",
     "output_type": "stream",
     "text": [
      "Entropy for Decision to play is: 0.9402859586706309\n"
     ]
    }
   ],
   "source": [
    "target='Decision'    \n",
    "subset_pd = tennis_pd\n",
    "# display(group_freq)\n",
    "print('Entropy for Decision to play is:', compute_entropy_from_set\\\n",
    "      (subset_pd=tennis_pd,target_column='Decision'))\n"
   ]
  },
  {
   "cell_type": "markdown",
   "metadata": {},
   "source": [
    "## Task 2: Computing Information Gain\n",
    "(2) Write a function that takes as input a set 𝑆 of observations and an attribute 𝐴 from these observations, and\n",
    "calculates the Information Gain, denoted as Gain(S,A), as if we were to split on that attribute in the context of the\n",
    "ID3 decision tree algorithm."
   ]
  },
  {
   "cell_type": "code",
   "execution_count": 84,
   "metadata": {},
   "outputs": [],
   "source": [
    "attribute_name = 'Outlook'\n",
    "subset_pd = tennis_pd\n",
    "target = 'Decision'\n",
    "def compute_ig(subset_pd,attribute_name,target):\n",
    "    class_split = subset_pd.groupby(attribute_name)\n",
    "    subset_freq = subset_pd.groupby([target]).size()\n",
    "    subset_entropy = compute_raw_entropy(subset_freq[0],subset_freq[1])\n",
    "    print('E(%s): ' % (target) , subset_entropy)\n",
    "    group_sum = 0\n",
    "    for name, group in class_split:\n",
    "        class_total = group.shape[0]\n",
    "        class_weight = class_total/subset_pd.shape[0] \n",
    "        group_sum += class_weight * \\\n",
    "        compute_entropy_from_set(subset_pd=group,target_column=target)\n",
    "        print('E(%s|%s=%s):' % (target,attribute_name,name),\\\n",
    "              compute_entropy_from_set(subset_pd=group,target_column=target))\n",
    "    print('Information Gain for %s, Gain(S=%s|A=%s): %s' % \\\n",
    "          (attribute_name,target,attribute_name, subset_entropy - group_sum))\n",
    "    return subset_entropy - group_sum\n",
    "\n",
    "attribute_name = 'Outlook'\n",
    "subset_pd = tennis_pd\n",
    "target = 'Decision'\n",
    "def compute_ig_silent(subset_pd,attribute_name,target):\n",
    "    class_split = subset_pd.groupby(attribute_name)\n",
    "    subset_freq = subset_pd.groupby([target]).size()\n",
    "    subset_entropy = compute_raw_entropy(subset_freq[0],subset_freq[1])\n",
    "    group_sum = 0\n",
    "    for name, group in class_split:\n",
    "        class_total = group.shape[0]\n",
    "        class_weight = class_total/subset_pd.shape[0] \n",
    "        group_sum += class_weight * \\\n",
    "        compute_entropy_from_set(subset_pd=group,target_column=target)\n",
    "    return subset_entropy - group_sum\n",
    "\n"
   ]
  },
  {
   "cell_type": "markdown",
   "metadata": {},
   "source": [
    "## Estimate Information Gain of all Attributes\n",
    "(3) Estimate the Information Gain of all the attributes. Which one would you choose for the root node of your\n",
    "decision tree? "
   ]
  },
  {
   "cell_type": "code",
   "execution_count": 7,
   "metadata": {},
   "outputs": [
    {
     "name": "stdout",
     "output_type": "stream",
     "text": [
      "E(Decision):  0.9402859586706309\n",
      "E(Decision|Outlook=Overcast): 0\n",
      "E(Decision|Outlook=Rain): 0.9709505944546686\n",
      "E(Decision|Outlook=Sunny): 0.9709505944546686\n",
      "Information Gain for Outlook, Gain(S=Decision|A=Outlook): 0.2467498197744391\n"
     ]
    },
    {
     "data": {
      "text/plain": [
       "0.2467498197744391"
      ]
     },
     "execution_count": 7,
     "metadata": {},
     "output_type": "execute_result"
    }
   ],
   "source": [
    "compute_ig(subset_pd=tennis_pd,attribute_name='Outlook',target='Decision')"
   ]
  },
  {
   "cell_type": "code",
   "execution_count": 8,
   "metadata": {},
   "outputs": [
    {
     "name": "stdout",
     "output_type": "stream",
     "text": [
      "E(Decision):  0.9402859586706309\n",
      "E(Decision|Temp.=Cool): 0.8112781244591328\n",
      "E(Decision|Temp.=Hot): 1.0\n",
      "E(Decision|Temp.=Mild): 0.9182958340544896\n",
      "Information Gain for Temp., Gain(S=Decision|A=Temp.): 0.029222565658954647\n"
     ]
    },
    {
     "data": {
      "text/plain": [
       "0.029222565658954647"
      ]
     },
     "execution_count": 8,
     "metadata": {},
     "output_type": "execute_result"
    }
   ],
   "source": [
    "compute_ig(subset_pd=tennis_pd,attribute_name='Temp.',target='Decision')"
   ]
  },
  {
   "cell_type": "code",
   "execution_count": 9,
   "metadata": {},
   "outputs": [
    {
     "name": "stdout",
     "output_type": "stream",
     "text": [
      "E(Decision):  0.9402859586706309\n",
      "E(Decision|Humidity=High): 0.9852281360342515\n",
      "E(Decision|Humidity=Normal): 0.5916727785823275\n",
      "Information Gain for Humidity, Gain(S=Decision|A=Humidity): 0.15183550136234136\n"
     ]
    },
    {
     "data": {
      "text/plain": [
       "0.15183550136234136"
      ]
     },
     "execution_count": 9,
     "metadata": {},
     "output_type": "execute_result"
    }
   ],
   "source": [
    "compute_ig(subset_pd=tennis_pd,attribute_name='Humidity',target='Decision')"
   ]
  },
  {
   "cell_type": "code",
   "execution_count": 10,
   "metadata": {},
   "outputs": [
    {
     "name": "stdout",
     "output_type": "stream",
     "text": [
      "E(Decision):  0.9402859586706309\n",
      "E(Decision|Wind=Strong): 1.0\n",
      "E(Decision|Wind=Weak): 0.8112781244591328\n",
      "Information Gain for Wind, Gain(S=Decision|A=Wind): 0.04812703040826927\n"
     ]
    },
    {
     "data": {
      "text/plain": [
       "0.04812703040826927"
      ]
     },
     "execution_count": 10,
     "metadata": {},
     "output_type": "execute_result"
    }
   ],
   "source": [
    "compute_ig(subset_pd=tennis_pd,attribute_name='Wind',target='Decision')"
   ]
  },
  {
   "cell_type": "markdown",
   "metadata": {},
   "source": [
    "\n",
    "\n",
    "### As shown above, **OUTLOOK** had the highest information gain and should be chosen as root node"
   ]
  },
  {
   "cell_type": "markdown",
   "metadata": {},
   "source": [
    "# Task 3 - Decision Tree Algorithm"
   ]
  },
  {
   "cell_type": "markdown",
   "metadata": {},
   "source": [
    "Implement the ID3 Decision Tree from the pseudocode (recursive algorithm) below and induce/learn the tree from\n",
    "the data in the Figure. "
   ]
  },
  {
   "cell_type": "markdown",
   "metadata": {},
   "source": [
    "### Calculate the Information Gain\n",
    "\n",
    "### Get the attribute that has the highest Information Gain\n",
    "Let's make a single pass of the recursive process"
   ]
  },
  {
   "cell_type": "code",
   "execution_count": 132,
   "metadata": {},
   "outputs": [
    {
     "name": "stdout",
     "output_type": "stream",
     "text": [
      "Outlook\n",
      "Temp.\n",
      "Humidity\n",
      "Wind\n",
      "Highest IG is: Outlook\n",
      "Remaining Columns for next recursion are: ['Temp.' 'Humidity' 'Wind']\n"
     ]
    }
   ],
   "source": [
    "temp_list = []\n",
    "remaining_columns = tennis_pd.columns[1:5]\n",
    "for col_name in remaining_columns:\n",
    "    print(col_name)\n",
    "    temp_ig = compute_ig_silent(\\\n",
    "    subset_pd=tennis_pd,attribute_name=col_name,target='Decision')\n",
    "    temp_list.append(temp_ig)\n",
    "    \n",
    "top_ig = remaining_columns[temp_list.index(max(temp_list))]    \n",
    "root = Tree(top_ig)\n",
    "remaining_columns = remaining_columns.drop(top_ig)\n",
    "print('Highest IG is:', top_ig)\n",
    "print('Remaining Columns for next recursion are:',remaining_columns.values)"
   ]
  },
  {
   "cell_type": "code",
   "execution_count": 129,
   "metadata": {},
   "outputs": [],
   "source": [
    "class Tree(object):\n",
    "    def __init__(self,attribute):\n",
    "        self.left = None\n",
    "        self.right = None\n",
    "        self.attribute = attribute\n",
    "        self.label = None\n",
    "        self.r_value = None\n",
    "        self.l_value = None\n",
    "        self.child=[]\n",
    "        \n",
    "    def createChildren(self,attribute_count):\n",
    "        for i in range(0,attribute_count):\n",
    "            self.child.append(Tree())\n",
    "            \n",
    "    def addChild(self,attribute):\n",
    "        self.child.append(Tree(attribute))            \n",
    " \n",
    "    def setLabel(self,label):\n",
    "        self.label=label"
   ]
  },
  {
   "cell_type": "markdown",
   "metadata": {},
   "source": [
    "### Compute IG for remaining attributes\n",
    "Now for the recursive part... integrate this to the previous step"
   ]
  },
  {
   "cell_type": "code",
   "execution_count": 135,
   "metadata": {},
   "outputs": [],
   "source": [
    "initial_columns = tennis_pd.columns[1:-1]\n",
    "root_node = Tree(attribute='root')\n",
    "def id3_recursion(input_pd,initial_columns):\n",
    "    remaining_columns = initial_columns\n",
    "    temp_list = []    \n",
    "    if len(remaining_columns)>0:\n",
    "        if(len(input_pd.groupby(['Decision'])['Decision'])==1):\n",
    "            print('Target Decision is purely: ', \\\n",
    "                  input_pd.groupby(['Decision'])['Decision'].\\\n",
    "                  unique()[0],'Return LEAF NODE')\n",
    "            leaf_node = Tree(attribute=input_pd.groupby(\\\n",
    "                    ['Decision'])['Decision'].unique()[0])\n",
    "            leaf_node.label=input_pd.groupby(\\\n",
    "                    ['Decision'])['Decision'].unique()[0]\n",
    "            return leaf_node\n",
    "        for col_name in remaining_columns:\n",
    "            print(col_name)\n",
    "            temp_ig = compute_ig_silent(subset_pd=tennis_pd,\\\n",
    "                                        attribute_name=col_name,target='Decision')\n",
    "            temp_list.append(temp_ig)\n",
    "            print('Information Gain for %s = %.3f' % (col_name,temp_ig))\n",
    "        top_ig = initial_columns[temp_list.index(max(temp_list))]  \n",
    "        print('Highest IG is :',top_ig)\n",
    "        initial_columns = initial_columns.drop(top_ig)\n",
    "        print('Choose next attribute from: ',initial_columns)\n",
    "        curr_col = top_ig\n",
    "        attr_val = input_pd.groupby(curr_col)[curr_col]\n",
    "        print('Attribute values for',attr_val.unique())\n",
    "        #         curr_split = attr_val.unique()[0][0]       \n",
    "        root_node.addChild(Tree(attribute=top_ig))\n",
    "        for curr_split in attr_val.unique():\n",
    "            print('################# Split Data for: %s= %s #################'\\\n",
    "                  % ( top_ig,curr_split[0]))\n",
    "            id3_recursion(input_pd[input_pd[curr_col]==\\\n",
    "                                   curr_split[0]],initial_columns=initial_columns)"
   ]
  },
  {
   "cell_type": "code",
   "execution_count": 136,
   "metadata": {},
   "outputs": [
    {
     "name": "stdout",
     "output_type": "stream",
     "text": [
      "Outlook\n",
      "Information Gain for Outlook = 0.247\n",
      "Temp.\n",
      "Information Gain for Temp. = 0.029\n",
      "Humidity\n",
      "Information Gain for Humidity = 0.152\n",
      "Wind\n",
      "Information Gain for Wind = 0.048\n",
      "Highest IG is : Outlook\n",
      "Choose next attribute from:  Index(['Temp.', 'Humidity', 'Wind'], dtype='object')\n",
      "Attribute values for Outlook\n",
      "Overcast    [Overcast]\n",
      "Rain            [Rain]\n",
      "Sunny          [Sunny]\n",
      "Name: Outlook, dtype: object\n",
      "################# Split Data for: Outlook= Overcast #################\n",
      "Target Decision is purely:  ['Yes'] Return LEAF NODE\n",
      "################# Split Data for: Outlook= Rain #################\n",
      "Temp.\n",
      "Information Gain for Temp. = 0.029\n",
      "Humidity\n",
      "Information Gain for Humidity = 0.152\n",
      "Wind\n",
      "Information Gain for Wind = 0.048\n",
      "Highest IG is : Humidity\n",
      "Choose next attribute from:  Index(['Temp.', 'Wind'], dtype='object')\n",
      "Attribute values for Humidity\n",
      "High        [High]\n",
      "Normal    [Normal]\n",
      "Name: Humidity, dtype: object\n",
      "################# Split Data for: Humidity= High #################\n",
      "Temp.\n",
      "Information Gain for Temp. = 0.029\n",
      "Wind\n",
      "Information Gain for Wind = 0.048\n",
      "Highest IG is : Wind\n",
      "Choose next attribute from:  Index(['Temp.'], dtype='object')\n",
      "Attribute values for Wind\n",
      "Strong    [Strong]\n",
      "Weak        [Weak]\n",
      "Name: Wind, dtype: object\n",
      "################# Split Data for: Wind= Strong #################\n",
      "Target Decision is purely:  ['No'] Return LEAF NODE\n",
      "################# Split Data for: Wind= Weak #################\n",
      "Target Decision is purely:  ['Yes'] Return LEAF NODE\n",
      "################# Split Data for: Humidity= Normal #################\n",
      "Temp.\n",
      "Information Gain for Temp. = 0.029\n",
      "Wind\n",
      "Information Gain for Wind = 0.048\n",
      "Highest IG is : Wind\n",
      "Choose next attribute from:  Index(['Temp.'], dtype='object')\n",
      "Attribute values for Wind\n",
      "Strong    [Strong]\n",
      "Weak        [Weak]\n",
      "Name: Wind, dtype: object\n",
      "################# Split Data for: Wind= Strong #################\n",
      "Target Decision is purely:  ['No'] Return LEAF NODE\n",
      "################# Split Data for: Wind= Weak #################\n",
      "Target Decision is purely:  ['Yes'] Return LEAF NODE\n",
      "################# Split Data for: Outlook= Sunny #################\n",
      "Temp.\n",
      "Information Gain for Temp. = 0.029\n",
      "Humidity\n",
      "Information Gain for Humidity = 0.152\n",
      "Wind\n",
      "Information Gain for Wind = 0.048\n",
      "Highest IG is : Humidity\n",
      "Choose next attribute from:  Index(['Temp.', 'Wind'], dtype='object')\n",
      "Attribute values for Humidity\n",
      "High        [High]\n",
      "Normal    [Normal]\n",
      "Name: Humidity, dtype: object\n",
      "################# Split Data for: Humidity= High #################\n",
      "Target Decision is purely:  ['No'] Return LEAF NODE\n",
      "################# Split Data for: Humidity= Normal #################\n",
      "Target Decision is purely:  ['Yes'] Return LEAF NODE\n"
     ]
    }
   ],
   "source": [
    "id3_recursion(tennis_pd,initial_columns=initial_columns)"
   ]
  },
  {
   "cell_type": "code",
   "execution_count": 151,
   "metadata": {},
   "outputs": [
    {
     "name": "stdout",
     "output_type": "stream",
     "text": [
      "<__main__.Tree object at 0x7f2a4a0a0358>\n",
      "root --> <__main__.Tree object at 0x7f2a4a0a0358>\n",
      "<__main__.Tree object at 0x7f2a4a05bbe0>\n",
      "root --> <__main__.Tree object at 0x7f2a4a05bbe0>\n",
      "<__main__.Tree object at 0x7f2a4a05be48>\n",
      "root --> <__main__.Tree object at 0x7f2a4a05be48>\n",
      "<__main__.Tree object at 0x7f2a4a0f03c8>\n",
      "root --> <__main__.Tree object at 0x7f2a4a0f03c8>\n",
      "<__main__.Tree object at 0x7f2a4a0f0278>\n",
      "root --> <__main__.Tree object at 0x7f2a4a0f0278>\n"
     ]
    }
   ],
   "source": [
    "for i in root_node.child:\n",
    "    print(i.attribute)\n",
    "    print(root_node.attribute , '-->', i.attribute)"
   ]
  },
  {
   "cell_type": "code",
   "execution_count": null,
   "metadata": {},
   "outputs": [],
   "source": []
  }
 ],
 "metadata": {
  "kernelspec": {
   "display_name": "Python 3",
   "language": "python",
   "name": "python3"
  },
  "language_info": {
   "codemirror_mode": {
    "name": "ipython",
    "version": 3
   },
   "file_extension": ".py",
   "mimetype": "text/x-python",
   "name": "python",
   "nbconvert_exporter": "python",
   "pygments_lexer": "ipython3",
   "version": "3.7.0"
  }
 },
 "nbformat": 4,
 "nbformat_minor": 2
}
